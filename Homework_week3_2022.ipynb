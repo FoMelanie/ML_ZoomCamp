{
 "cells": [
  {
   "cell_type": "markdown",
   "id": "d2435bee",
   "metadata": {},
   "source": [
    "# Imports"
   ]
  },
  {
   "cell_type": "code",
   "execution_count": 164,
   "id": "22875af0",
   "metadata": {},
   "outputs": [],
   "source": [
    "from sklearn.linear_model import LogisticRegression, Ridge\n",
    "from sklearn.model_selection import train_test_split\n",
    "from sklearn.metrics import mutual_info_score\n",
    "from sklearn.feature_extraction import DictVectorizer\n",
    "import pandas as pd\n",
    "import numpy as np\n",
    "from typing import List, Tuple\n",
    "import matplotlib.pyplot as plt\n",
    "import seaborn as sns"
   ]
  },
  {
   "cell_type": "markdown",
   "id": "593cc216",
   "metadata": {},
   "source": [
    "# Functions"
   ]
  },
  {
   "cell_type": "code",
   "execution_count": 211,
   "id": "5e10db79",
   "metadata": {},
   "outputs": [],
   "source": [
    "def plot_correlation_heatmap(dataframe: pd.DataFrame, title: str):\n",
    "    \"\"\"\n",
    "    Plot a triangle correlation heatmap with a color gradient from blue to red, using the data from the provided\n",
    "    dataframe. The user should precise the plot title.\n",
    "    Args:\n",
    "        dataframe: a pandas dataframe containing values we want to correlate and represent their correlation\n",
    "        title: string, the plot title\n",
    "    \"\"\"\n",
    "    plt.figure(figsize=(12, 6))\n",
    "\n",
    "    # define the mask to set the values in the upper triangle to True\n",
    "    mask = np.triu(np.ones_like(dataframe.corr(numeric_only=True), dtype=bool))\n",
    "\n",
    "    # Generate a custom diverging colormap\n",
    "    cmap = sns.diverging_palette(230, 20, as_cmap=True)\n",
    "\n",
    "    heatmap = sns.heatmap(\n",
    "        dataframe.corr(numeric_only=True),\n",
    "        mask=mask,\n",
    "        cmap=cmap,\n",
    "        vmin=-1,\n",
    "        vmax=1,\n",
    "        annot=True,\n",
    "        linewidths=0.5,\n",
    "    )\n",
    "    heatmap.set_title(title, fontdict={\"fontsize\": 18}, pad=16)\n",
    "    plt.show()"
   ]
  },
  {
   "cell_type": "code",
   "execution_count": 170,
   "id": "a6343980",
   "metadata": {},
   "outputs": [],
   "source": [
    "def separate_target_from_features(\n",
    "    train_df: pd.DataFrame,\n",
    "    val_df: pd.DataFrame,\n",
    "    test_df: pd.DataFrame,\n",
    "    target_name: str,\n",
    "    log_transformation: bool = False,\n",
    ") -> Tuple[pd.DataFrame, pd.DataFrame, pd.DataFrame, np.array, np.array, np.array]:\n",
    "    \"\"\"\n",
    "    From the three datasets (pandas dataframes, train, validation and test) containing all features and the\n",
    "    target column, separate features and target to return three pandas dataframes containing only features and\n",
    "    three numpy arrays containing target values. The target is selected according to the provided target_name.\n",
    "\n",
    "    Args:\n",
    "        train_df: pandas dataframe containing all training features and target values\n",
    "        val_df: pandas dataframe containing all validation features and target values\n",
    "        test_df: pandas dataframe containing all test features and target values\n",
    "\n",
    "    Returns:\n",
    "        train: pandas dataframe containing only features values for training dataset\n",
    "        val: pandas dataframe containing only features values for validation dataset\n",
    "        test: pandas dataframe containing only features values for test dataset\n",
    "        y_train: numpy array containing train target values\n",
    "        y_val: numpy array containing validation target values\n",
    "        y_test: numpy array containing test target values\n",
    "    \"\"\"\n",
    "\n",
    "    # Select the target values from original datasets\n",
    "    y_train = train_df[target_name]\n",
    "    y_val = val_df[target_name]\n",
    "    y_test = test_df[target_name]\n",
    "\n",
    "    # If the target value should be log transformed:\n",
    "    if log_transformation:\n",
    "        y_train = np.log1p(y_train)\n",
    "        y_val = np.log1p(y_val)\n",
    "        y_test = np.log1p(y_test)\n",
    "\n",
    "    # Remove the target column from features dataset\n",
    "    del train[target_name]\n",
    "    del val[target_name]\n",
    "    del test[target_name]\n",
    "\n",
    "    return train, val, test, y_train, y_val, y_test"
   ]
  },
  {
   "cell_type": "code",
   "execution_count": 169,
   "id": "3faec706",
   "metadata": {},
   "outputs": [],
   "source": [
    "def prepare_feature_matrix_onehot(feature_df: pd.DataFrame) -> np.array:\n",
    "    \"\"\"\n",
    "    From a pandas dataframe containing feature data (one feature per column), compute the feature matrix with one-hot encoding\n",
    "    of the categorical columns.\n",
    "    Categorical columns are one hot encoded using the DictVectorizer from sklearn.\n",
    "\n",
    "    Args:\n",
    "        feature_df: pandas dataframe containing feature data (one individual per row and one feature per column)\n",
    "\n",
    "    Returns:\n",
    "        feature_matrix: a numpy 2D array corresponding to the obtained feature matrix\n",
    "    \"\"\"\n",
    "\n",
    "    feature_dicts = feature_df.to_dict(orient=\"records\")\n",
    "    dv = DictVectorizer(sparse=False)\n",
    "    feature_matrix = dv.fit_transform(feature_dicts)\n",
    "\n",
    "    return feature_matrix"
   ]
  },
  {
   "cell_type": "code",
   "execution_count": 238,
   "id": "987c7b39",
   "metadata": {},
   "outputs": [],
   "source": [
    "def logistic_regression_accuracy(\n",
    "    feature_list: List[str],\n",
    "    train_df: pd.DataFrame,\n",
    "    val_df: pd.DataFrame,\n",
    "    test_df: pd.DataFrame,\n",
    "    y_train: np.array,\n",
    "    y_val: np.array,\n",
    "    y_test: np.array,\n",
    ") -> Tuple[float, float, float]:\n",
    "    \"\"\"\n",
    "    Computes the accuracy of a logistic regression model trained on the provided training data, for training, validation\n",
    "    and test data. The provided feature list is used to select the features in the feature matrices.\n",
    "    The logistic regression model has these parameters (fixed for this exercise): solver=\"liblinear\", C=1.0, max_iter=1000, random_state=42.\n",
    "\n",
    "    Args:\n",
    "        feature_list: list of strings containing the features we want to keep in our feature matrices.\n",
    "        train_df: pandas dataframe containing the training dataset (features only)\n",
    "        val_df: pandas dataframe containing the validation dataset (features only)\n",
    "        test_df: pandas dataframe containing the test dataset (features only)\n",
    "        y_train: numpy array containing the target values for the training dataset\n",
    "        y_val: numpy array containing the target values for the validation dataset\n",
    "        y_test: numpy array containing the target values for the test dataset\n",
    "\n",
    "    Returns:\n",
    "        score_train: float, the accuracy score obtained on the training dataset\n",
    "        score_val: float, the accuracy score obtained on the validation dataset\n",
    "        score_test: float, the accuracy score obtained on the test dataset\n",
    "    \"\"\"\n",
    "\n",
    "    # Clearly state the features used\n",
    "    print(f\"The features used are {feature_list}.\")\n",
    "\n",
    "    # Keep the feature list in our feature dataframes\n",
    "    train_features = train_df[feature_list]\n",
    "    val_features = val_df[feature_list]\n",
    "    test_features = test_df[feature_list]\n",
    "\n",
    "    # Create the corresponding feature matrices\n",
    "    ## Train\n",
    "    X_train_features = prepare_feature_matrix_onehot(train_df)\n",
    "    ## Val\n",
    "    X_val_features = prepare_feature_matrix_onehot(val_df)\n",
    "    ## Test\n",
    "    X_test_features = prepare_feature_matrix_onehot(test_df)\n",
    "\n",
    "    # Train the model with these features:\n",
    "    model = LogisticRegression(\n",
    "        solver=\"liblinear\", C=1.0, max_iter=1000, random_state=42\n",
    "    )\n",
    "    model.fit(X_train_features, y_train)\n",
    "\n",
    "    # Accuracy on the train dataset\n",
    "    score_train = model.score(X_train_features, y_train)\n",
    "    print(\"Training Accuracy Score\", round(score_train, 3))\n",
    "    # Accuracy on the validation set\n",
    "    score_val = model.score(X_val_features, y_val)\n",
    "    print(\"Validation Accuracy Score\", round(score_val, 3))\n",
    "    # Accuracy on the test set\n",
    "    score_test = model.score(X_test_features, y_test)\n",
    "    print(\"Test Accuracy Score\", round(score_test, 3))\n",
    "\n",
    "    return score_train, score_val, score_test"
   ]
  },
  {
   "cell_type": "code",
   "execution_count": 258,
   "id": "39d80129",
   "metadata": {},
   "outputs": [],
   "source": [
    "def generate_rmse(y_pred: np.array, y_true: np.array) -> float:\n",
    "    \"\"\"\n",
    "    Compute the RMSE from y_pred and y_true.\n",
    "\n",
    "    Args:\n",
    "        y_pred: numpy array, the predicted target values\n",
    "        y_true: numpy array, the true target values\n",
    "\n",
    "    Returns:\n",
    "        rmse: float, the root mean squared error of y_pred and y_true\n",
    "    \"\"\"\n",
    "\n",
    "    error = y_pred - y_true\n",
    "    mse = (error**2).mean()\n",
    "    rmse = np.sqrt(mse)\n",
    "\n",
    "    return rmse"
   ]
  },
  {
   "cell_type": "code",
   "execution_count": 265,
   "id": "848a24f5",
   "metadata": {},
   "outputs": [],
   "source": [
    "def rmse_validation_ridge(\n",
    "    train_df: pd.DataFrame,\n",
    "    val_df: pd.DataFrame,\n",
    "    y_train: np.array,\n",
    "    y_val: np.array,\n",
    "    alpha: float,\n",
    ") -> float:\n",
    "    \"\"\"\n",
    "    Compute the RMSE of the validation dataset using a Ridge regression model trained with\n",
    "    training data. The regularization parameter alpha is provided by the user. The train and validation dataframes\n",
    "    are transformed to feature matrices with one-hot encoding using DictVectorizer from sklearn.\n",
    "    The model is fixed: Ridge(alpha=alpha, solver=\"sag\", random_state=42)\n",
    "\n",
    "    Args:\n",
    "        X_train:pandas dataframe corresponding to the training features\n",
    "        X_val:pandas dataframe corresponding to the validation features\n",
    "        y_train:np.array corresponding to the training target values\n",
    "        y_val:np.array corresponding to the validation target values\n",
    "        alpha:float, the regularization parameter of the ridge regression model\n",
    "\n",
    "    Returns:\n",
    "        rounded_rmse_val: float, the rounded RMSE value (3 digits) obtained on the validation dataset\n",
    "    \"\"\"\n",
    "    # Create the feature matrices\n",
    "    ## Train\n",
    "    X_train = prepare_feature_matrix_onehot(train_df)\n",
    "    ## Val\n",
    "    X_val = prepare_feature_matrix_onehot(val_df)\n",
    "\n",
    "    model = Ridge(alpha=alpha, solver=\"sag\", random_state=42)\n",
    "    model.fit(X_train, y_train)\n",
    "\n",
    "    y_pred_val = model.predict(X_val)\n",
    "    rmse_val = generate_rmse(y_pred_val, y_val)\n",
    "    rounded_rmse_val = round(rmse_val, 3)\n",
    "\n",
    "    print(\n",
    "        f\"The obtained RMSE on the validation dataset with alpha={alpha} is {rounded_rmse_val}.\"\n",
    "    )\n",
    "\n",
    "    return rounded_rmse_val"
   ]
  },
  {
   "cell_type": "markdown",
   "id": "f7f02307",
   "metadata": {},
   "source": [
    "# Load the dataset"
   ]
  },
  {
   "cell_type": "code",
   "execution_count": 172,
   "id": "01bd4365",
   "metadata": {},
   "outputs": [],
   "source": [
    "# Load the California house dataset\n",
    "data = pd.read_csv(\"housing.csv\")"
   ]
  },
  {
   "cell_type": "markdown",
   "id": "8d716f7d",
   "metadata": {},
   "source": [
    "# Features"
   ]
  },
  {
   "cell_type": "markdown",
   "id": "1799dad9",
   "metadata": {},
   "source": [
    "We need to keep these features:\n",
    "- 'latitude'\n",
    "- 'longitude'\n",
    "- 'housing_median_age'\n",
    "- 'total_rooms'\n",
    "- 'total_bedrooms'\n",
    "- 'population'\n",
    "- 'households'\n",
    "- 'median_income'\n",
    "- 'median_house_value'\n",
    "- 'ocean_proximity'"
   ]
  },
  {
   "cell_type": "code",
   "execution_count": 173,
   "id": "06ada06e",
   "metadata": {},
   "outputs": [],
   "source": [
    "features = [\n",
    "    \"latitude\",\n",
    "    \"longitude\",\n",
    "    \"housing_median_age\",\n",
    "    \"total_rooms\",\n",
    "    \"total_bedrooms\",\n",
    "    \"population\",\n",
    "    \"households\",\n",
    "    \"median_income\",\n",
    "    \"median_house_value\",\n",
    "    \"ocean_proximity\",\n",
    "]"
   ]
  },
  {
   "cell_type": "code",
   "execution_count": 174,
   "id": "41e84a76",
   "metadata": {},
   "outputs": [],
   "source": [
    "subset_data = data[features]"
   ]
  },
  {
   "cell_type": "markdown",
   "id": "ad1b0aba",
   "metadata": {},
   "source": [
    "# Data preparation"
   ]
  },
  {
   "cell_type": "markdown",
   "id": "d5626013",
   "metadata": {},
   "source": [
    "## Fill in the missing values with median"
   ]
  },
  {
   "cell_type": "code",
   "execution_count": 175,
   "id": "30fb90d6",
   "metadata": {},
   "outputs": [
    {
     "data": {
      "text/plain": [
       "latitude                0\n",
       "longitude               0\n",
       "housing_median_age      0\n",
       "total_rooms             0\n",
       "total_bedrooms        207\n",
       "population              0\n",
       "households              0\n",
       "median_income           0\n",
       "median_house_value      0\n",
       "ocean_proximity         0\n",
       "dtype: int64"
      ]
     },
     "execution_count": 175,
     "metadata": {},
     "output_type": "execute_result"
    }
   ],
   "source": [
    "subset_data.isnull().sum()"
   ]
  },
  {
   "cell_type": "code",
   "execution_count": 176,
   "id": "6e5acd74",
   "metadata": {},
   "outputs": [],
   "source": [
    "# Calculate the median of total_bedrooms\n",
    "median_bedrooms = subset_data[\"total_bedrooms\"].median()"
   ]
  },
  {
   "cell_type": "code",
   "execution_count": 177,
   "id": "b1539aa4",
   "metadata": {},
   "outputs": [
    {
     "data": {
      "text/plain": [
       "435.0"
      ]
     },
     "execution_count": 177,
     "metadata": {},
     "output_type": "execute_result"
    }
   ],
   "source": [
    "median_bedrooms"
   ]
  },
  {
   "cell_type": "code",
   "execution_count": 178,
   "id": "c117c68c",
   "metadata": {},
   "outputs": [],
   "source": [
    "subset_data = subset_data.fillna(median_bedrooms)"
   ]
  },
  {
   "cell_type": "code",
   "execution_count": 179,
   "id": "d5e12755",
   "metadata": {},
   "outputs": [
    {
     "data": {
      "text/plain": [
       "latitude              0\n",
       "longitude             0\n",
       "housing_median_age    0\n",
       "total_rooms           0\n",
       "total_bedrooms        0\n",
       "population            0\n",
       "households            0\n",
       "median_income         0\n",
       "median_house_value    0\n",
       "ocean_proximity       0\n",
       "dtype: int64"
      ]
     },
     "execution_count": 179,
     "metadata": {},
     "output_type": "execute_result"
    }
   ],
   "source": [
    "subset_data.isnull().sum()"
   ]
  },
  {
   "cell_type": "markdown",
   "id": "ecdb9dee",
   "metadata": {},
   "source": [
    "## Create a new column rooms_per_household by dividing the column total_rooms by the column households from dataframe."
   ]
  },
  {
   "cell_type": "code",
   "execution_count": 213,
   "id": "4f669153",
   "metadata": {},
   "outputs": [],
   "source": [
    "subset_data[\"rooms_per_household\"] = (\n",
    "    subset_data[\"total_rooms\"] / subset_data[\"households\"]\n",
    ")"
   ]
  },
  {
   "cell_type": "code",
   "execution_count": 214,
   "id": "8f9aeb71",
   "metadata": {},
   "outputs": [
    {
     "data": {
      "text/plain": [
       "0        6.984127\n",
       "1        6.238137\n",
       "2        8.288136\n",
       "3        5.817352\n",
       "4        6.281853\n",
       "           ...   \n",
       "20635    5.045455\n",
       "20636    6.114035\n",
       "20637    5.205543\n",
       "20638    5.329513\n",
       "20639    5.254717\n",
       "Name: rooms_per_household, Length: 20640, dtype: float64"
      ]
     },
     "execution_count": 214,
     "metadata": {},
     "output_type": "execute_result"
    }
   ],
   "source": [
    "subset_data[\"rooms_per_household\"]"
   ]
  },
  {
   "cell_type": "markdown",
   "id": "af983247",
   "metadata": {},
   "source": [
    "## Create a new column bedrooms_per_room by dividing the column total_bedrooms by the column total_rooms from dataframe."
   ]
  },
  {
   "cell_type": "code",
   "execution_count": 215,
   "id": "ec40950f",
   "metadata": {},
   "outputs": [],
   "source": [
    "subset_data[\"bedrooms_per_room\"] = (\n",
    "    subset_data[\"total_bedrooms\"] / subset_data[\"total_rooms\"]\n",
    ")"
   ]
  },
  {
   "cell_type": "code",
   "execution_count": 216,
   "id": "8bf8f062",
   "metadata": {},
   "outputs": [
    {
     "data": {
      "text/plain": [
       "0        0.146591\n",
       "1        0.155797\n",
       "2        0.129516\n",
       "3        0.184458\n",
       "4        0.172096\n",
       "           ...   \n",
       "20635    0.224625\n",
       "20636    0.215208\n",
       "20637    0.215173\n",
       "20638    0.219892\n",
       "20639    0.221185\n",
       "Name: bedrooms_per_room, Length: 20640, dtype: float64"
      ]
     },
     "execution_count": 216,
     "metadata": {},
     "output_type": "execute_result"
    }
   ],
   "source": [
    "subset_data[\"bedrooms_per_room\"]"
   ]
  },
  {
   "cell_type": "markdown",
   "id": "4067bdef",
   "metadata": {},
   "source": [
    "## Create a new column population_per_household by dividing the column population by the column households from dataframe."
   ]
  },
  {
   "cell_type": "code",
   "execution_count": 217,
   "id": "ed34ebbf",
   "metadata": {},
   "outputs": [],
   "source": [
    "subset_data[\"population_per_household\"] = (\n",
    "    subset_data[\"population\"] / subset_data[\"households\"]\n",
    ")"
   ]
  },
  {
   "cell_type": "code",
   "execution_count": 218,
   "id": "6d6f2bb2",
   "metadata": {},
   "outputs": [
    {
     "data": {
      "text/plain": [
       "0        2.555556\n",
       "1        2.109842\n",
       "2        2.802260\n",
       "3        2.547945\n",
       "4        2.181467\n",
       "           ...   \n",
       "20635    2.560606\n",
       "20636    3.122807\n",
       "20637    2.325635\n",
       "20638    2.123209\n",
       "20639    2.616981\n",
       "Name: population_per_household, Length: 20640, dtype: float64"
      ]
     },
     "execution_count": 218,
     "metadata": {},
     "output_type": "execute_result"
    }
   ],
   "source": [
    "subset_data[\"population_per_household\"]"
   ]
  },
  {
   "cell_type": "markdown",
   "id": "c0049e5b",
   "metadata": {},
   "source": [
    "# Question 1"
   ]
  },
  {
   "cell_type": "markdown",
   "id": "290ea83d",
   "metadata": {},
   "source": [
    "What is the most frequent observation (mode) for the column ocean_proximity?"
   ]
  },
  {
   "cell_type": "code",
   "execution_count": 219,
   "id": "96481a9c",
   "metadata": {},
   "outputs": [
    {
     "data": {
      "text/plain": [
       "0    <1H OCEAN\n",
       "Name: ocean_proximity, dtype: object"
      ]
     },
     "execution_count": 219,
     "metadata": {},
     "output_type": "execute_result"
    }
   ],
   "source": [
    "subset_data[\"ocean_proximity\"].mode()"
   ]
  },
  {
   "cell_type": "markdown",
   "id": "744e4d52",
   "metadata": {},
   "source": [
    "# Question 2"
   ]
  },
  {
   "cell_type": "markdown",
   "id": "38210144",
   "metadata": {},
   "source": [
    "Create the correlation matrix for the numerical features of your train dataset.\n",
    "- In a correlation matrix, you compute the correlation coefficient between every pair of features in the dataset."
   ]
  },
  {
   "cell_type": "code",
   "execution_count": 220,
   "id": "70ec75c8",
   "metadata": {},
   "outputs": [
    {
     "data": {
      "text/plain": [
       "latitude                    float64\n",
       "longitude                   float64\n",
       "housing_median_age          float64\n",
       "total_rooms                 float64\n",
       "total_bedrooms              float64\n",
       "population                  float64\n",
       "households                  float64\n",
       "median_income               float64\n",
       "median_house_value          float64\n",
       "ocean_proximity              object\n",
       "rooms_per_household         float64\n",
       "bedrooms_per_room           float64\n",
       "population_per_household    float64\n",
       "dtype: object"
      ]
     },
     "execution_count": 220,
     "metadata": {},
     "output_type": "execute_result"
    }
   ],
   "source": [
    "# Select numerical features of the dataset\n",
    "subset_data.dtypes"
   ]
  },
  {
   "cell_type": "code",
   "execution_count": 221,
   "id": "a75fb4e2",
   "metadata": {},
   "outputs": [],
   "source": [
    "numerical_features = subset_data.columns.values.tolist()"
   ]
  },
  {
   "cell_type": "code",
   "execution_count": 222,
   "id": "fccf2e4f",
   "metadata": {},
   "outputs": [
    {
     "data": {
      "text/plain": [
       "['latitude',\n",
       " 'longitude',\n",
       " 'housing_median_age',\n",
       " 'total_rooms',\n",
       " 'total_bedrooms',\n",
       " 'population',\n",
       " 'households',\n",
       " 'median_income',\n",
       " 'median_house_value',\n",
       " 'ocean_proximity',\n",
       " 'rooms_per_household',\n",
       " 'bedrooms_per_room',\n",
       " 'population_per_household']"
      ]
     },
     "execution_count": 222,
     "metadata": {},
     "output_type": "execute_result"
    }
   ],
   "source": [
    "numerical_features"
   ]
  },
  {
   "cell_type": "code",
   "execution_count": 223,
   "id": "5a0c0999",
   "metadata": {},
   "outputs": [
    {
     "data": {
      "image/png": "[encoded data removed]",
      "text/plain": [
       "<Figure size 1200x600 with 2 Axes>"
      ]
     },
     "metadata": {},
     "output_type": "display_data"
    }
   ],
   "source": [
    "plot_correlation_heatmap(subset_data, \"Correlation between numerical features\")"
   ]
  },
  {
   "cell_type": "markdown",
   "id": "b78d90e5",
   "metadata": {},
   "source": [
    "What are the two features that have the biggest correlation in this dataset?"
   ]
  },
  {
   "cell_type": "code",
   "execution_count": 224,
   "id": "b6dd383f",
   "metadata": {},
   "outputs": [
    {
     "data": {
      "text/plain": [
       "latitude                  latitude                    1.000000\n",
       "longitude                 longitude                   1.000000\n",
       "bedrooms_per_room         bedrooms_per_room           1.000000\n",
       "rooms_per_household       rooms_per_household         1.000000\n",
       "median_house_value        median_house_value          1.000000\n",
       "                                                        ...   \n",
       "longitude                 population_per_household    0.002476\n",
       "latitude                  population_per_household    0.002366\n",
       "population_per_household  latitude                    0.002366\n",
       "total_bedrooms            rooms_per_household         0.001765\n",
       "rooms_per_household       total_bedrooms              0.001765\n",
       "Length: 144, dtype: float64"
      ]
     },
     "execution_count": 224,
     "metadata": {},
     "output_type": "execute_result"
    }
   ],
   "source": [
    "# Extract the correlation coefficients from the correlation matrix (I use the absolute value to not miss any correlation)\n",
    "ordered_correlations = abs(corr_matrix).unstack().sort_values(ascending=False)\n",
    "ordered_correlations"
   ]
  },
  {
   "cell_type": "code",
   "execution_count": 225,
   "id": "aab113ae",
   "metadata": {},
   "outputs": [
    {
     "name": "stdout",
     "output_type": "stream",
     "text": [
      "households                total_bedrooms              0.974366\n",
      "total_bedrooms            households                  0.974366\n",
      "                          total_rooms                 0.927058\n",
      "total_rooms               total_bedrooms              0.927058\n",
      "longitude                 latitude                    0.924664\n",
      "                                                        ...   \n",
      "                          population_per_household    0.002476\n",
      "latitude                  population_per_household    0.002366\n",
      "population_per_household  latitude                    0.002366\n",
      "total_bedrooms            rooms_per_household         0.001765\n",
      "rooms_per_household       total_bedrooms              0.001765\n",
      "Length: 132, dtype: float64\n"
     ]
    }
   ],
   "source": [
    "print(ordered_correlations[ordered_correlations < 1])"
   ]
  },
  {
   "cell_type": "markdown",
   "id": "db627b6b",
   "metadata": {},
   "source": [
    "The two variables 'total_bedrooms' and 'households' have the greatest correlation between them."
   ]
  },
  {
   "cell_type": "markdown",
   "id": "14765687",
   "metadata": {},
   "source": [
    "# Make median_house_value binary"
   ]
  },
  {
   "cell_type": "markdown",
   "id": "4ef620c2",
   "metadata": {},
   "source": [
    "We need to turn the median_house_value variable from numeric into binary.\n",
    "\n",
    "Let's create a variable above_average which is 1 if the median_house_value is above its mean value and 0 otherwise."
   ]
  },
  {
   "cell_type": "code",
   "execution_count": 226,
   "id": "e9dae1b4",
   "metadata": {},
   "outputs": [
    {
     "data": {
      "text/plain": [
       "206855.81690891474"
      ]
     },
     "execution_count": 226,
     "metadata": {},
     "output_type": "execute_result"
    }
   ],
   "source": [
    "# Calculate the mean of 'median_house_value'\n",
    "median_house_value_mean = subset_data[\"median_house_value\"].mean()\n",
    "median_house_value_mean"
   ]
  },
  {
   "cell_type": "code",
   "execution_count": 227,
   "id": "8f6502b1",
   "metadata": {},
   "outputs": [],
   "source": [
    "subset_data[\"above_average\"] = np.where(\n",
    "    subset_data[\"median_house_value\"] > median_house_value_mean, 1, 0\n",
    ")"
   ]
  },
  {
   "cell_type": "markdown",
   "id": "2cda84fe",
   "metadata": {},
   "source": [
    "# Split the data"
   ]
  },
  {
   "cell_type": "markdown",
   "id": "f39f08c2",
   "metadata": {},
   "source": [
    "Split your data in train/val/test sets, with 60%/20%/20% distribution.\n",
    "\n",
    "Use Scikit-Learn for that (the train_test_split function) and set the seed to 42.\n",
    "\n",
    "Make sure that the target value (median_house_value) is not in your dataframe."
   ]
  },
  {
   "cell_type": "code",
   "execution_count": 228,
   "id": "b4fce16b",
   "metadata": {},
   "outputs": [],
   "source": [
    "# First generate the full training dataset and the test dataset\n",
    "full_train, test = train_test_split(subset_data, test_size=0.2, random_state=42)"
   ]
  },
  {
   "cell_type": "code",
   "execution_count": 229,
   "id": "23230313",
   "metadata": {},
   "outputs": [],
   "source": [
    "# Then separate the full training dataset into train and validation datasets. We have to adjust the proportions:\n",
    "# we need 20% of the total number of rows from the 80% of values, which means we are looking for 0.25 proportion for the validation dataset\n",
    "train, val = train_test_split(full_train, test_size=0.25, random_state=42)"
   ]
  },
  {
   "cell_type": "code",
   "execution_count": 230,
   "id": "b8f224ee",
   "metadata": {},
   "outputs": [],
   "source": [
    "train, val, test, y_train, y_val, y_test = separate_target_from_features(\n",
    "    train, val, test, \"above_average\"\n",
    ")"
   ]
  },
  {
   "cell_type": "code",
   "execution_count": 231,
   "id": "73c569c9",
   "metadata": {},
   "outputs": [],
   "source": [
    "# I also remove the 'median_house_value' from the three datasets\n",
    "del train[\"median_house_value\"]\n",
    "del val[\"median_house_value\"]\n",
    "del test[\"median_house_value\"]"
   ]
  },
  {
   "cell_type": "markdown",
   "id": "761b7ec5",
   "metadata": {},
   "source": [
    "# Question 3"
   ]
  },
  {
   "cell_type": "markdown",
   "id": "4050e2f1",
   "metadata": {},
   "source": [
    "Calculate the mutual information score between above_average and ocean_proximity . Use the training set only.\n",
    "\n",
    "Round it to 2 decimals using round(score, 2)\n",
    "\n",
    "What is their mutual information score?"
   ]
  },
  {
   "cell_type": "code",
   "execution_count": 234,
   "id": "8306f422",
   "metadata": {},
   "outputs": [
    {
     "data": {
      "text/plain": [
       "0.1"
      ]
     },
     "execution_count": 234,
     "metadata": {},
     "output_type": "execute_result"
    }
   ],
   "source": [
    "# Here I use the full_train dataset and split it into train and val again\n",
    "train_mutual, val_mutual = train_test_split(full_train, test_size=0.25, random_state=42)\n",
    "round(\n",
    "    mutual_info_score(train_mutual[\"above_average\"], train_mutual[\"ocean_proximity\"]), 2\n",
    ")"
   ]
  },
  {
   "cell_type": "markdown",
   "id": "ad79ba64",
   "metadata": {},
   "source": [
    "# Question 4"
   ]
  },
  {
   "cell_type": "markdown",
   "id": "d9c5179e",
   "metadata": {},
   "source": [
    "Now let's train a logistic regression\n",
    "\n",
    "Remember that we have one categorical variable ocean_proximity in the data. Include it using one-hot encoding.\n",
    "\n",
    "Fit the model on the training dataset.\n",
    "\n",
    "To make sure the results are reproducible across different versions of Scikit-Learn, fit the model with these parameters:\n",
    "model = LogisticRegression(solver=\"liblinear\", C=1.0, max_iter=1000, random_state=42)\n",
    "\n",
    "Calculate the accuracy on the validation dataset and round it to 2 decimal digits."
   ]
  },
  {
   "cell_type": "code",
   "execution_count": 239,
   "id": "6facd6b2",
   "metadata": {},
   "outputs": [
    {
     "name": "stdout",
     "output_type": "stream",
     "text": [
      "The features used are ['latitude', 'longitude', 'housing_median_age', 'total_rooms', 'total_bedrooms', 'population', 'households', 'median_income', 'ocean_proximity', 'rooms_per_household', 'bedrooms_per_room', 'population_per_household'].\n",
      "Training Accuracy Score 0.83\n",
      "Validation Accuracy Score 0.836\n",
      "Test Accuracy Score 0.835\n"
     ]
    }
   ],
   "source": [
    "# Extract feature list from training dataset\n",
    "feature_list = train.columns.tolist()\n",
    "\n",
    "# Calculate the accuracy for training, validation and test datasets\n",
    "train_acc, val_acc, test_acc = logistic_regression_accuracy(\n",
    "    feature_list=feature_list,\n",
    "    train_df=train,\n",
    "    val_df=val,\n",
    "    test_df=test,\n",
    "    y_train=y_train,\n",
    "    y_val=y_val,\n",
    "    y_test=y_test,\n",
    ")"
   ]
  },
  {
   "cell_type": "code",
   "execution_count": 241,
   "id": "535700e7",
   "metadata": {},
   "outputs": [
    {
     "name": "stdout",
     "output_type": "stream",
     "text": [
      "The accuracy on the validation dataset is equal to: 0.84.\n"
     ]
    }
   ],
   "source": [
    "print(f\"The accuracy on the validation dataset is equal to: {round(val_acc,2)}.\")"
   ]
  },
  {
   "cell_type": "markdown",
   "id": "24d0ac10",
   "metadata": {},
   "source": [
    "# Question 5"
   ]
  },
  {
   "cell_type": "markdown",
   "id": "428d80aa",
   "metadata": {},
   "source": [
    "Let's find the least useful feature using the feature elimination technique.\n",
    "- Train a model with all these features (using the same parameters as in Q4).\n",
    "- Now exclude each feature from this set and train a model without it. Record the accuracy for each model.\n",
    "- For each feature, calculate the difference between the original accuracy and the accuracy without the feature.\n",
    "- Which of following feature has the smallest difference?\n",
    "\n",
    "Features:\n",
    "- total_rooms\n",
    "- total_bedrooms\n",
    "- population\n",
    "- households"
   ]
  },
  {
   "cell_type": "code",
   "execution_count": 242,
   "id": "a9366071",
   "metadata": {},
   "outputs": [],
   "source": [
    "features_to_keep = [\"total_rooms\", \"total_bedrooms\", \"population\", \"households\"]"
   ]
  },
  {
   "cell_type": "code",
   "execution_count": 243,
   "id": "718262f2",
   "metadata": {},
   "outputs": [
    {
     "name": "stdout",
     "output_type": "stream",
     "text": [
      "The features used are ['total_rooms', 'total_bedrooms', 'population', 'households'].\n",
      "Training Accuracy Score 0.83\n",
      "Validation Accuracy Score 0.836\n",
      "Test Accuracy Score 0.835\n"
     ]
    }
   ],
   "source": [
    "score_train_all, score_val_all, score_test_all = logistic_regression_accuracy(\n",
    "    features_to_keep, train, val, test, y_train, y_val, y_test\n",
    ")"
   ]
  },
  {
   "cell_type": "code",
   "execution_count": 244,
   "id": "10b0529e",
   "metadata": {},
   "outputs": [],
   "source": [
    "features_without_total_rooms = [\"total_bedrooms\", \"population\", \"households\"]"
   ]
  },
  {
   "cell_type": "code",
   "execution_count": 245,
   "id": "f5d9f3da",
   "metadata": {},
   "outputs": [
    {
     "name": "stdout",
     "output_type": "stream",
     "text": [
      "The features used are ['total_bedrooms', 'population', 'households'].\n",
      "Training Accuracy Score 0.83\n",
      "Validation Accuracy Score 0.836\n",
      "Test Accuracy Score 0.835\n"
     ]
    }
   ],
   "source": [
    "score_train_all, score_val_all, score_test_all = logistic_regression_accuracy(\n",
    "    features_without_total_rooms, train, val, test, y_train, y_val, y_test\n",
    ")"
   ]
  },
  {
   "cell_type": "code",
   "execution_count": 246,
   "id": "3d59161c",
   "metadata": {},
   "outputs": [],
   "source": [
    "features_without_total_bedrooms = [\"total_rooms\", \"population\", \"households\"]"
   ]
  },
  {
   "cell_type": "code",
   "execution_count": 247,
   "id": "847834dc",
   "metadata": {},
   "outputs": [
    {
     "name": "stdout",
     "output_type": "stream",
     "text": [
      "The features used are ['total_rooms', 'population', 'households'].\n",
      "Training Accuracy Score 0.83\n",
      "Validation Accuracy Score 0.836\n",
      "Test Accuracy Score 0.835\n"
     ]
    }
   ],
   "source": [
    "score_train_all, score_val_all, score_test_all = logistic_regression_accuracy(\n",
    "    features_without_total_bedrooms, train, val, test, y_train, y_val, y_test\n",
    ")"
   ]
  },
  {
   "cell_type": "code",
   "execution_count": 248,
   "id": "86cfde01",
   "metadata": {},
   "outputs": [],
   "source": [
    "features_without_population = [\"total_rooms\", \"total_bedrooms\", \"households\"]"
   ]
  },
  {
   "cell_type": "code",
   "execution_count": 249,
   "id": "c4ce93a7",
   "metadata": {},
   "outputs": [
    {
     "name": "stdout",
     "output_type": "stream",
     "text": [
      "The features used are ['total_rooms', 'total_bedrooms', 'households'].\n",
      "Training Accuracy Score 0.83\n",
      "Validation Accuracy Score 0.836\n",
      "Test Accuracy Score 0.835\n"
     ]
    }
   ],
   "source": [
    "score_train_all, score_val_all, score_test_all = logistic_regression_accuracy(\n",
    "    features_without_population, train, val, test, y_train, y_val, y_test\n",
    ")"
   ]
  },
  {
   "cell_type": "code",
   "execution_count": 250,
   "id": "da2f9311",
   "metadata": {},
   "outputs": [],
   "source": [
    "features_without_households = [\"total_rooms\", \"total_bedrooms\", \"population\"]"
   ]
  },
  {
   "cell_type": "code",
   "execution_count": 251,
   "id": "6d4400ae",
   "metadata": {},
   "outputs": [
    {
     "name": "stdout",
     "output_type": "stream",
     "text": [
      "The features used are ['total_rooms', 'total_bedrooms', 'population'].\n",
      "Training Accuracy Score 0.83\n",
      "Validation Accuracy Score 0.836\n",
      "Test Accuracy Score 0.835\n"
     ]
    }
   ],
   "source": [
    "score_train_all, score_val_all, score_test_all = logistic_regression_accuracy(\n",
    "    features_without_households, train, val, test, y_train, y_val, y_test\n",
    ")"
   ]
  },
  {
   "cell_type": "code",
   "execution_count": 252,
   "id": "9895ee6b",
   "metadata": {},
   "outputs": [],
   "source": [
    "# Calculate the difference in accuracy for the validation dataset for each feature compared to all features:\n",
    "diff_total_rooms = 0.71 - 0.628\n",
    "diff_total_bedrooms = 0.71 - 0.661\n",
    "diff_population = 0.71 - 0.657\n",
    "diff_households = 0.71 - 0.672"
   ]
  },
  {
   "cell_type": "code",
   "execution_count": 253,
   "id": "1a5ea1fd",
   "metadata": {},
   "outputs": [
    {
     "name": "stdout",
     "output_type": "stream",
     "text": [
      "The accuracy difference between all features and total_rooms is: 0.08.\n",
      "The accuracy difference between all features and total_bedrooms is: 0.05.\n",
      "The accuracy difference between all features and households is: 0.04.\n",
      "The accuracy difference between all features and population is: 0.05.\n"
     ]
    }
   ],
   "source": [
    "# Print the differences:\n",
    "print(\n",
    "    f\"The accuracy difference between all features and total_rooms is: {round(diff_total_rooms,2)}.\"\n",
    ")\n",
    "print(\n",
    "    f\"The accuracy difference between all features and total_bedrooms is: {round(diff_total_bedrooms,2)}.\"\n",
    ")\n",
    "print(\n",
    "    f\"The accuracy difference between all features and households is: {round(diff_households,2)}.\"\n",
    ")\n",
    "print(\n",
    "    f\"The accuracy difference between all features and population is: {round(diff_population,2)}.\"\n",
    ")"
   ]
  },
  {
   "cell_type": "markdown",
   "id": "3d990cac",
   "metadata": {},
   "source": [
    "The \"households\" variable presents the smallest difference compared to all features."
   ]
  },
  {
   "cell_type": "markdown",
   "id": "c13b6b0f",
   "metadata": {},
   "source": [
    "# Question 6"
   ]
  },
  {
   "cell_type": "markdown",
   "id": "8ecea0bb",
   "metadata": {},
   "source": [
    "For this question, we'll see how to use a linear regression model from Scikit-Learn\n",
    "\n",
    "We'll need to use the original column 'median_house_value'. Apply the logarithmic transformation to this column.\n",
    "\n",
    "Fit the Ridge regression model (model = Ridge(alpha=a, solver=\"sag\", random_state=42)) on the training data.\n",
    "\n",
    "This model has a parameter alpha. Let's try the following values: [0, 0.01, 0.1, 1, 10]\n",
    "\n",
    "Which of these alphas leads to the best RMSE on the validation set? Round your RMSE scores to 3 decimal digits."
   ]
  },
  {
   "cell_type": "code",
   "execution_count": 254,
   "id": "739bedf6",
   "metadata": {},
   "outputs": [],
   "source": [
    "# Since we need to use the original median_house_value column, we start from the original data\n",
    "\n",
    "# First generate the full training dataset and the test dataset\n",
    "full_train, test = train_test_split(subset_data, test_size=0.2, random_state=42)\n",
    "\n",
    "# Then separate the full training dataset into train and validation datasets. We have to adjust the proportions:\n",
    "# we need 20% of the total number of rows from the 80% of values, which means we are looking for 0.25 proportion for the validation dataset\n",
    "train, val = train_test_split(full_train, test_size=0.25, random_state=42)"
   ]
  },
  {
   "cell_type": "code",
   "execution_count": 260,
   "id": "01923cdc",
   "metadata": {},
   "outputs": [],
   "source": [
    "train, val, test, y_train, y_val, y_test = separate_target_from_features(\n",
    "    train_df=train,\n",
    "    val_df=val,\n",
    "    test_df=test,\n",
    "    target_name=\"median_house_value\",\n",
    "    log_transformation=True,\n",
    ")"
   ]
  },
  {
   "cell_type": "code",
   "execution_count": 262,
   "id": "a71abf66",
   "metadata": {},
   "outputs": [],
   "source": [
    "# Also delete the 'above_average' column (data leakage)\n",
    "del train[\"above_average\"]\n",
    "del val[\"above_average\"]\n",
    "del test[\"above_average\"]"
   ]
  },
  {
   "cell_type": "code",
   "execution_count": 266,
   "id": "7dc1b263",
   "metadata": {},
   "outputs": [
    {
     "name": "stderr",
     "output_type": "stream",
     "text": [
      "C:\\Users\\Melanie\\anaconda3\\Lib\\site-packages\\sklearn\\linear_model\\_sag.py:350: ConvergenceWarning: The max_iter was reached which means the coef_ did not converge\n",
      "  warnings.warn(\n"
     ]
    },
    {
     "name": "stdout",
     "output_type": "stream",
     "text": [
      "The obtained RMSE on the validation dataset with alpha=0 is 0.523.\n"
     ]
    },
    {
     "name": "stderr",
     "output_type": "stream",
     "text": [
      "C:\\Users\\Melanie\\anaconda3\\Lib\\site-packages\\sklearn\\linear_model\\_sag.py:350: ConvergenceWarning: The max_iter was reached which means the coef_ did not converge\n",
      "  warnings.warn(\n"
     ]
    },
    {
     "name": "stdout",
     "output_type": "stream",
     "text": [
      "The obtained RMSE on the validation dataset with alpha=0.01 is 0.523.\n"
     ]
    },
    {
     "name": "stderr",
     "output_type": "stream",
     "text": [
      "C:\\Users\\Melanie\\anaconda3\\Lib\\site-packages\\sklearn\\linear_model\\_sag.py:350: ConvergenceWarning: The max_iter was reached which means the coef_ did not converge\n",
      "  warnings.warn(\n"
     ]
    },
    {
     "name": "stdout",
     "output_type": "stream",
     "text": [
      "The obtained RMSE on the validation dataset with alpha=0.1 is 0.523.\n"
     ]
    },
    {
     "name": "stderr",
     "output_type": "stream",
     "text": [
      "C:\\Users\\Melanie\\anaconda3\\Lib\\site-packages\\sklearn\\linear_model\\_sag.py:350: ConvergenceWarning: The max_iter was reached which means the coef_ did not converge\n",
      "  warnings.warn(\n"
     ]
    },
    {
     "name": "stdout",
     "output_type": "stream",
     "text": [
      "The obtained RMSE on the validation dataset with alpha=1 is 0.523.\n",
      "The obtained RMSE on the validation dataset with alpha=10 is 0.523.\n"
     ]
    },
    {
     "name": "stderr",
     "output_type": "stream",
     "text": [
      "C:\\Users\\Melanie\\anaconda3\\Lib\\site-packages\\sklearn\\linear_model\\_sag.py:350: ConvergenceWarning: The max_iter was reached which means the coef_ did not converge\n",
      "  warnings.warn(\n"
     ]
    }
   ],
   "source": [
    "# Fit a Ridge regression model on the training dataset with the list of alpha parameters\n",
    "rmse_val_list = []\n",
    "alpha_list = [0, 0.01, 0.1, 1, 10]\n",
    "\n",
    "for alpha in alpha_list:\n",
    "    rmse_value = rmse_validation_ridge(\n",
    "        train_df=train,\n",
    "        val_df=val,\n",
    "        y_train=y_train,\n",
    "        y_val=y_val,\n",
    "        alpha=alpha,\n",
    "    )\n",
    "    rmse_val_list.append(rmse_value)"
   ]
  },
  {
   "cell_type": "code",
   "execution_count": 267,
   "id": "1f600f4a",
   "metadata": {},
   "outputs": [
    {
     "data": {
      "text/plain": [
       "[0.523, 0.523, 0.523, 0.523, 0.523]"
      ]
     },
     "execution_count": 267,
     "metadata": {},
     "output_type": "execute_result"
    }
   ],
   "source": [
    "rmse_val_list"
   ]
  },
  {
   "cell_type": "markdown",
   "id": "29e210c6",
   "metadata": {},
   "source": [
    "The smallest RMSE value is obtained with alpha=0."
   ]
  },
  {
   "cell_type": "code",
   "execution_count": null,
   "id": "78a35ccd",
   "metadata": {},
   "outputs": [],
   "source": []
  }
 ],
 "metadata": {
  "kernelspec": {
   "display_name": "Python 3 (ipykernel)",
   "language": "python",
   "name": "python3"
  },
  "language_info": {
   "codemirror_mode": {
    "name": "ipython",
    "version": 3
   },
   "file_extension": ".py",
   "mimetype": "text/x-python",
   "name": "python",
   "nbconvert_exporter": "python",
   "pygments_lexer": "ipython3",
   "version": "3.11.4"
  }
 },
 "nbformat": 4,
 "nbformat_minor": 5
}
