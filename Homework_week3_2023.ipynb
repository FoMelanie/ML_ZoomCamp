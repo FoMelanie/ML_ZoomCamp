{
 "cells": [
  {
   "cell_type": "markdown",
   "id": "85faa096",
   "metadata": {},
   "source": [
    "# Imports"
   ]
  },
  {
   "cell_type": "code",
   "execution_count": 1,
   "id": "3568d517",
   "metadata": {},
   "outputs": [],
   "source": [
    "from sklearn.linear_model import LogisticRegression, Ridge\n",
    "from sklearn.model_selection import train_test_split\n",
    "from sklearn.metrics import mutual_info_score\n",
    "from sklearn.feature_extraction import DictVectorizer\n",
    "import pandas as pd\n",
    "import numpy as np\n",
    "import matplotlib.pyplot as plt\n",
    "import seaborn as sns\n",
    "from typing import List, Tuple"
   ]
  },
  {
   "cell_type": "markdown",
   "id": "3a495185",
   "metadata": {},
   "source": [
    "# Functions"
   ]
  },
  {
   "cell_type": "code",
   "execution_count": 2,
   "id": "025e5b96",
   "metadata": {},
   "outputs": [],
   "source": [
    "def plot_correlation_heatmap(dataframe: pd.DataFrame, title: str):\n",
    "    \"\"\"\n",
    "    Plot a triangle correlation heatmap with a color gradient from blue to red, using the data from the provided\n",
    "    dataframe. The user should precise the plot title.\n",
    "    Args:\n",
    "        dataframe: a pandas dataframe containing values we want to correlate and represent their correlation\n",
    "        title: string, the plot title\n",
    "    \"\"\"\n",
    "    plt.figure(figsize=(12, 6))\n",
    "\n",
    "    # define the mask to set the values in the upper triangle to True\n",
    "    mask = np.triu(np.ones_like(dataframe.corr(numeric_only=True), dtype=bool))\n",
    "\n",
    "    # Generate a custom diverging colormap\n",
    "    cmap = sns.diverging_palette(230, 20, as_cmap=True)\n",
    "\n",
    "    heatmap = sns.heatmap(\n",
    "        dataframe.corr(numeric_only=True),\n",
    "        mask=mask,\n",
    "        cmap=cmap,\n",
    "        vmin=-1,\n",
    "        vmax=1,\n",
    "        annot=True,\n",
    "        linewidths=0.5,\n",
    "    )\n",
    "    heatmap.set_title(title, fontdict={\"fontsize\": 18}, pad=16)\n",
    "    plt.show()"
   ]
  },
  {
   "cell_type": "code",
   "execution_count": 3,
   "id": "d8bed85d",
   "metadata": {},
   "outputs": [],
   "source": [
    "def separate_target_from_features(\n",
    "    train_df: pd.DataFrame,\n",
    "    val_df: pd.DataFrame,\n",
    "    test_df: pd.DataFrame,\n",
    "    target_name: str,\n",
    "    log_transformation: bool = False,\n",
    ") -> Tuple[pd.DataFrame, pd.DataFrame, pd.DataFrame, np.array, np.array, np.array]:\n",
    "    \"\"\"\n",
    "    From the three datasets (pandas dataframes, train, validation and test) containing all features and the\n",
    "    target column, separate features and target to return three pandas dataframes containing only features and\n",
    "    three numpy arrays containing target values. The target is selected according to the provided target_name.\n",
    "\n",
    "    Args:\n",
    "        train_df: pandas dataframe containing all training features and target values\n",
    "        val_df: pandas dataframe containing all validation features and target values\n",
    "        test_df: pandas dataframe containing all test features and target values\n",
    "\n",
    "    Returns:\n",
    "        train: pandas dataframe containing only features values for training dataset\n",
    "        val: pandas dataframe containing only features values for validation dataset\n",
    "        test: pandas dataframe containing only features values for test dataset\n",
    "        y_train: numpy array containing train target values\n",
    "        y_val: numpy array containing validation target values\n",
    "        y_test: numpy array containing test target values\n",
    "    \"\"\"\n",
    "\n",
    "    # Select the target values from original datasets\n",
    "    y_train = train_df[target_name]\n",
    "    y_val = val_df[target_name]\n",
    "    y_test = test_df[target_name]\n",
    "\n",
    "    # If the target value should be log transformed:\n",
    "    if log_transformation:\n",
    "        y_train = np.log1p(y_train)\n",
    "        y_val = np.log1p(y_val)\n",
    "        y_test = np.log1p(y_test)\n",
    "\n",
    "    # Remove the target column from features dataset\n",
    "    del train[target_name]\n",
    "    del val[target_name]\n",
    "    del test[target_name]\n",
    "\n",
    "    return train, val, test, y_train, y_val, y_test"
   ]
  },
  {
   "cell_type": "code",
   "execution_count": 4,
   "id": "5985a661",
   "metadata": {},
   "outputs": [],
   "source": [
    "def prepare_feature_matrix_onehot(feature_df: pd.DataFrame) -> np.array:\n",
    "    \"\"\"\n",
    "    From a pandas dataframe containing feature data (one feature per column), compute the feature matrix with one-hot encoding\n",
    "    of the categorical columns.\n",
    "    Categorical columns are one hot encoded using the DictVectorizer from sklearn.\n",
    "\n",
    "    Args:\n",
    "        feature_df: pandas dataframe containing feature data (one individual per row and one feature per column)\n",
    "\n",
    "    Returns:\n",
    "        feature_matrix: a numpy 2D array corresponding to the obtained feature matrix\n",
    "    \"\"\"\n",
    "\n",
    "    feature_dicts = feature_df.to_dict(orient=\"records\")\n",
    "    dv = DictVectorizer(sparse=False)\n",
    "    feature_matrix = dv.fit_transform(feature_dicts)\n",
    "\n",
    "    return feature_matrix"
   ]
  },
  {
   "cell_type": "code",
   "execution_count": 5,
   "id": "e22ab5f7",
   "metadata": {},
   "outputs": [],
   "source": [
    "def logistic_regression_accuracy(\n",
    "    train: np.array,\n",
    "    val: np.array,\n",
    "    test: np.array,\n",
    "    y_train: np.array,\n",
    "    y_val: np.array,\n",
    "    y_test: np.array,\n",
    ") -> Tuple[float, float, float]:\n",
    "    \"\"\"\n",
    "    Computes the accuracy of a logistic regression model trained on the provided training data, for training, validation\n",
    "    and test data. The provided matrices should already be encoded for categorical variables.\n",
    "    The logistic regression model has these parameters (fixed for this exercise): solver=\"liblinear\", C=1.0, max_iter=1000, random_state=42.\n",
    "\n",
    "    Args:\n",
    "        feature_list: list of strings containing the features we want to keep in our feature matrices.\n",
    "        train: numpy array containing the training dataset values (features only)\n",
    "        val: numpy array containing the validation dataset values (features only)\n",
    "        test: numpy array containing the test dataset values (features only)\n",
    "        y_train: numpy array containing the target values for the training dataset\n",
    "        y_val: numpy array containing the target values for the validation dataset\n",
    "        y_test: numpy array containing the target values for the test dataset\n",
    "\n",
    "    Returns:\n",
    "        score_train: float, the accuracy score obtained on the training dataset\n",
    "        score_val: float, the accuracy score obtained on the validation dataset\n",
    "        score_test: float, the accuracy score obtained on the test dataset\n",
    "    \"\"\"\n",
    "\n",
    "    # Train the model with these features:\n",
    "    model = LogisticRegression(\n",
    "        solver=\"liblinear\", C=10, max_iter=1000, random_state=42\n",
    "    )\n",
    "    model.fit(X_train_features, y_train)\n",
    "\n",
    "    # Accuracy on the train dataset\n",
    "    score_train = model.score(X_train_features, y_train)\n",
    "    print(\"Training Accuracy Score\", round(score_train, 3))\n",
    "    # Accuracy on the validation set\n",
    "    score_val = model.score(X_val_features, y_val)\n",
    "    print(\"Validation Accuracy Score\", round(score_val, 3))\n",
    "    # Accuracy on the test set\n",
    "    score_test = model.score(X_test_features, y_test)\n",
    "    print(\"Test Accuracy Score\", round(score_test, 3))\n",
    "\n",
    "    return score_train, score_val, score_test"
   ]
  },
  {
   "cell_type": "markdown",
   "id": "174c2fad",
   "metadata": {},
   "source": [
    "# Load dataset"
   ]
  },
  {
   "cell_type": "code",
   "execution_count": 6,
   "id": "f8655522",
   "metadata": {},
   "outputs": [],
   "source": [
    "car_price = pd.read_csv('car_price.csv')"
   ]
  },
  {
   "cell_type": "code",
   "execution_count": 7,
   "id": "08a1ec10",
   "metadata": {},
   "outputs": [
    {
     "data": {
      "text/html": [
       "<div>\n",
       "<style scoped>\n",
       "    .dataframe tbody tr th:only-of-type {\n",
       "        vertical-align: middle;\n",
       "    }\n",
       "\n",
       "    .dataframe tbody tr th {\n",
       "        vertical-align: top;\n",
       "    }\n",
       "\n",
       "    .dataframe thead th {\n",
       "        text-align: right;\n",
       "    }\n",
       "</style>\n",
       "<table border=\"1\" class=\"dataframe\">\n",
       "  <thead>\n",
       "    <tr style=\"text-align: right;\">\n",
       "      <th></th>\n",
       "      <th>Make</th>\n",
       "      <th>Model</th>\n",
       "      <th>Year</th>\n",
       "      <th>Engine Fuel Type</th>\n",
       "      <th>Engine HP</th>\n",
       "      <th>Engine Cylinders</th>\n",
       "      <th>Transmission Type</th>\n",
       "      <th>Driven_Wheels</th>\n",
       "      <th>Number of Doors</th>\n",
       "      <th>Market Category</th>\n",
       "      <th>Vehicle Size</th>\n",
       "      <th>Vehicle Style</th>\n",
       "      <th>highway MPG</th>\n",
       "      <th>city mpg</th>\n",
       "      <th>Popularity</th>\n",
       "      <th>MSRP</th>\n",
       "    </tr>\n",
       "  </thead>\n",
       "  <tbody>\n",
       "    <tr>\n",
       "      <th>0</th>\n",
       "      <td>BMW</td>\n",
       "      <td>1 Series M</td>\n",
       "      <td>2011</td>\n",
       "      <td>premium unleaded (required)</td>\n",
       "      <td>335.0</td>\n",
       "      <td>6.0</td>\n",
       "      <td>MANUAL</td>\n",
       "      <td>rear wheel drive</td>\n",
       "      <td>2.0</td>\n",
       "      <td>Factory Tuner,Luxury,High-Performance</td>\n",
       "      <td>Compact</td>\n",
       "      <td>Coupe</td>\n",
       "      <td>26</td>\n",
       "      <td>19</td>\n",
       "      <td>3916</td>\n",
       "      <td>46135</td>\n",
       "    </tr>\n",
       "    <tr>\n",
       "      <th>1</th>\n",
       "      <td>BMW</td>\n",
       "      <td>1 Series</td>\n",
       "      <td>2011</td>\n",
       "      <td>premium unleaded (required)</td>\n",
       "      <td>300.0</td>\n",
       "      <td>6.0</td>\n",
       "      <td>MANUAL</td>\n",
       "      <td>rear wheel drive</td>\n",
       "      <td>2.0</td>\n",
       "      <td>Luxury,Performance</td>\n",
       "      <td>Compact</td>\n",
       "      <td>Convertible</td>\n",
       "      <td>28</td>\n",
       "      <td>19</td>\n",
       "      <td>3916</td>\n",
       "      <td>40650</td>\n",
       "    </tr>\n",
       "    <tr>\n",
       "      <th>2</th>\n",
       "      <td>BMW</td>\n",
       "      <td>1 Series</td>\n",
       "      <td>2011</td>\n",
       "      <td>premium unleaded (required)</td>\n",
       "      <td>300.0</td>\n",
       "      <td>6.0</td>\n",
       "      <td>MANUAL</td>\n",
       "      <td>rear wheel drive</td>\n",
       "      <td>2.0</td>\n",
       "      <td>Luxury,High-Performance</td>\n",
       "      <td>Compact</td>\n",
       "      <td>Coupe</td>\n",
       "      <td>28</td>\n",
       "      <td>20</td>\n",
       "      <td>3916</td>\n",
       "      <td>36350</td>\n",
       "    </tr>\n",
       "    <tr>\n",
       "      <th>3</th>\n",
       "      <td>BMW</td>\n",
       "      <td>1 Series</td>\n",
       "      <td>2011</td>\n",
       "      <td>premium unleaded (required)</td>\n",
       "      <td>230.0</td>\n",
       "      <td>6.0</td>\n",
       "      <td>MANUAL</td>\n",
       "      <td>rear wheel drive</td>\n",
       "      <td>2.0</td>\n",
       "      <td>Luxury,Performance</td>\n",
       "      <td>Compact</td>\n",
       "      <td>Coupe</td>\n",
       "      <td>28</td>\n",
       "      <td>18</td>\n",
       "      <td>3916</td>\n",
       "      <td>29450</td>\n",
       "    </tr>\n",
       "    <tr>\n",
       "      <th>4</th>\n",
       "      <td>BMW</td>\n",
       "      <td>1 Series</td>\n",
       "      <td>2011</td>\n",
       "      <td>premium unleaded (required)</td>\n",
       "      <td>230.0</td>\n",
       "      <td>6.0</td>\n",
       "      <td>MANUAL</td>\n",
       "      <td>rear wheel drive</td>\n",
       "      <td>2.0</td>\n",
       "      <td>Luxury</td>\n",
       "      <td>Compact</td>\n",
       "      <td>Convertible</td>\n",
       "      <td>28</td>\n",
       "      <td>18</td>\n",
       "      <td>3916</td>\n",
       "      <td>34500</td>\n",
       "    </tr>\n",
       "  </tbody>\n",
       "</table>\n",
       "</div>"
      ],
      "text/plain": [
       "  Make       Model  Year             Engine Fuel Type  Engine HP  \\\n",
       "0  BMW  1 Series M  2011  premium unleaded (required)      335.0   \n",
       "1  BMW    1 Series  2011  premium unleaded (required)      300.0   \n",
       "2  BMW    1 Series  2011  premium unleaded (required)      300.0   \n",
       "3  BMW    1 Series  2011  premium unleaded (required)      230.0   \n",
       "4  BMW    1 Series  2011  premium unleaded (required)      230.0   \n",
       "\n",
       "   Engine Cylinders Transmission Type     Driven_Wheels  Number of Doors  \\\n",
       "0               6.0            MANUAL  rear wheel drive              2.0   \n",
       "1               6.0            MANUAL  rear wheel drive              2.0   \n",
       "2               6.0            MANUAL  rear wheel drive              2.0   \n",
       "3               6.0            MANUAL  rear wheel drive              2.0   \n",
       "4               6.0            MANUAL  rear wheel drive              2.0   \n",
       "\n",
       "                         Market Category Vehicle Size Vehicle Style  \\\n",
       "0  Factory Tuner,Luxury,High-Performance      Compact         Coupe   \n",
       "1                     Luxury,Performance      Compact   Convertible   \n",
       "2                Luxury,High-Performance      Compact         Coupe   \n",
       "3                     Luxury,Performance      Compact         Coupe   \n",
       "4                                 Luxury      Compact   Convertible   \n",
       "\n",
       "   highway MPG  city mpg  Popularity   MSRP  \n",
       "0           26        19        3916  46135  \n",
       "1           28        19        3916  40650  \n",
       "2           28        20        3916  36350  \n",
       "3           28        18        3916  29450  \n",
       "4           28        18        3916  34500  "
      ]
     },
     "execution_count": 7,
     "metadata": {},
     "output_type": "execute_result"
    }
   ],
   "source": [
    "car_price.head(5)"
   ]
  },
  {
   "cell_type": "markdown",
   "id": "15127662",
   "metadata": {},
   "source": [
    "# Features"
   ]
  },
  {
   "cell_type": "markdown",
   "id": "64546ebf",
   "metadata": {},
   "source": [
    "For the rest of the homework, you'll need to use only these columns:\n",
    "- Make,\n",
    "- Model,\n",
    "- Year,\n",
    "- Engine HP,\n",
    "- Engine Cylinders,\n",
    "- Transmission Type,\n",
    "- Vehicle Style,\n",
    "- highway MPG,\n",
    "- city mpg"
   ]
  },
  {
   "cell_type": "code",
   "execution_count": 8,
   "id": "d3470530",
   "metadata": {},
   "outputs": [],
   "source": [
    "# Setup the list of features to keep. We should also keep the MSRP column (our target value)\n",
    "features_to_keep = [\n",
    "    \"Make\",\n",
    "    \"Model\",\n",
    "    \"Year\",\n",
    "    \"Engine HP\",\n",
    "    \"Engine Cylinders\",\n",
    "    \"Transmission Type\",\n",
    "    \"Vehicle Style\",\n",
    "    \"highway MPG\",\n",
    "    \"city mpg\",\n",
    "    \"MSRP\",\n",
    "]"
   ]
  },
  {
   "cell_type": "markdown",
   "id": "719c33de",
   "metadata": {},
   "source": [
    "# Data preparation"
   ]
  },
  {
   "cell_type": "markdown",
   "id": "a4b2d217",
   "metadata": {},
   "source": [
    "Select only the features from above and transform their names using next line:\n",
    "```python\n",
    "data.columns = data.columns.str.replace(' ', '_').str.lower()\n",
    "```"
   ]
  },
  {
   "cell_type": "code",
   "execution_count": 9,
   "id": "6676b4dd",
   "metadata": {},
   "outputs": [],
   "source": [
    "# Select the subset of features\n",
    "car_price = car_price[features_to_keep]"
   ]
  },
  {
   "cell_type": "code",
   "execution_count": 10,
   "id": "c3ec13c8",
   "metadata": {},
   "outputs": [],
   "source": [
    "# Transform their names\n",
    "car_price.columns = car_price.columns.str.replace(' ', '_').str.lower()"
   ]
  },
  {
   "cell_type": "markdown",
   "id": "a0e1c1f6",
   "metadata": {},
   "source": [
    "Fill in the missing values of the selected features with 0."
   ]
  },
  {
   "cell_type": "code",
   "execution_count": 11,
   "id": "60499e65",
   "metadata": {},
   "outputs": [
    {
     "data": {
      "text/plain": [
       "make                  0\n",
       "model                 0\n",
       "year                  0\n",
       "engine_hp            69\n",
       "engine_cylinders     30\n",
       "transmission_type     0\n",
       "vehicle_style         0\n",
       "highway_mpg           0\n",
       "city_mpg              0\n",
       "msrp                  0\n",
       "dtype: int64"
      ]
     },
     "execution_count": 11,
     "metadata": {},
     "output_type": "execute_result"
    }
   ],
   "source": [
    "# First check where are the missing values\n",
    "car_price.isnull().sum()"
   ]
  },
  {
   "cell_type": "markdown",
   "id": "6d7b9110",
   "metadata": {},
   "source": [
    "Two features have missing values: engine_hp and engine_cylinders. Since they correspond to horse power and the number of cylinders, this does make a good sense to replace these values by 0. However, without any information, we cannot impute them easily."
   ]
  },
  {
   "cell_type": "code",
   "execution_count": 12,
   "id": "3d8277df",
   "metadata": {},
   "outputs": [],
   "source": [
    "# Fill NaN values with 0\n",
    "car_price=car_price.fillna(0)"
   ]
  },
  {
   "cell_type": "markdown",
   "id": "e5d6d3e2",
   "metadata": {},
   "source": [
    "Rename MSRP variable to price."
   ]
  },
  {
   "cell_type": "code",
   "execution_count": 13,
   "id": "9988482b",
   "metadata": {},
   "outputs": [],
   "source": [
    "# Rename the msrp column to \"price\"\n",
    "car_price = car_price.rename(columns={'msrp':'price'})"
   ]
  },
  {
   "cell_type": "code",
   "execution_count": 14,
   "id": "114f7461",
   "metadata": {},
   "outputs": [
    {
     "data": {
      "text/html": [
       "<div>\n",
       "<style scoped>\n",
       "    .dataframe tbody tr th:only-of-type {\n",
       "        vertical-align: middle;\n",
       "    }\n",
       "\n",
       "    .dataframe tbody tr th {\n",
       "        vertical-align: top;\n",
       "    }\n",
       "\n",
       "    .dataframe thead th {\n",
       "        text-align: right;\n",
       "    }\n",
       "</style>\n",
       "<table border=\"1\" class=\"dataframe\">\n",
       "  <thead>\n",
       "    <tr style=\"text-align: right;\">\n",
       "      <th></th>\n",
       "      <th>make</th>\n",
       "      <th>model</th>\n",
       "      <th>year</th>\n",
       "      <th>engine_hp</th>\n",
       "      <th>engine_cylinders</th>\n",
       "      <th>transmission_type</th>\n",
       "      <th>vehicle_style</th>\n",
       "      <th>highway_mpg</th>\n",
       "      <th>city_mpg</th>\n",
       "      <th>price</th>\n",
       "    </tr>\n",
       "  </thead>\n",
       "  <tbody>\n",
       "    <tr>\n",
       "      <th>0</th>\n",
       "      <td>BMW</td>\n",
       "      <td>1 Series M</td>\n",
       "      <td>2011</td>\n",
       "      <td>335.0</td>\n",
       "      <td>6.0</td>\n",
       "      <td>MANUAL</td>\n",
       "      <td>Coupe</td>\n",
       "      <td>26</td>\n",
       "      <td>19</td>\n",
       "      <td>46135</td>\n",
       "    </tr>\n",
       "    <tr>\n",
       "      <th>1</th>\n",
       "      <td>BMW</td>\n",
       "      <td>1 Series</td>\n",
       "      <td>2011</td>\n",
       "      <td>300.0</td>\n",
       "      <td>6.0</td>\n",
       "      <td>MANUAL</td>\n",
       "      <td>Convertible</td>\n",
       "      <td>28</td>\n",
       "      <td>19</td>\n",
       "      <td>40650</td>\n",
       "    </tr>\n",
       "    <tr>\n",
       "      <th>2</th>\n",
       "      <td>BMW</td>\n",
       "      <td>1 Series</td>\n",
       "      <td>2011</td>\n",
       "      <td>300.0</td>\n",
       "      <td>6.0</td>\n",
       "      <td>MANUAL</td>\n",
       "      <td>Coupe</td>\n",
       "      <td>28</td>\n",
       "      <td>20</td>\n",
       "      <td>36350</td>\n",
       "    </tr>\n",
       "    <tr>\n",
       "      <th>3</th>\n",
       "      <td>BMW</td>\n",
       "      <td>1 Series</td>\n",
       "      <td>2011</td>\n",
       "      <td>230.0</td>\n",
       "      <td>6.0</td>\n",
       "      <td>MANUAL</td>\n",
       "      <td>Coupe</td>\n",
       "      <td>28</td>\n",
       "      <td>18</td>\n",
       "      <td>29450</td>\n",
       "    </tr>\n",
       "    <tr>\n",
       "      <th>4</th>\n",
       "      <td>BMW</td>\n",
       "      <td>1 Series</td>\n",
       "      <td>2011</td>\n",
       "      <td>230.0</td>\n",
       "      <td>6.0</td>\n",
       "      <td>MANUAL</td>\n",
       "      <td>Convertible</td>\n",
       "      <td>28</td>\n",
       "      <td>18</td>\n",
       "      <td>34500</td>\n",
       "    </tr>\n",
       "  </tbody>\n",
       "</table>\n",
       "</div>"
      ],
      "text/plain": [
       "  make       model  year  engine_hp  engine_cylinders transmission_type  \\\n",
       "0  BMW  1 Series M  2011      335.0               6.0            MANUAL   \n",
       "1  BMW    1 Series  2011      300.0               6.0            MANUAL   \n",
       "2  BMW    1 Series  2011      300.0               6.0            MANUAL   \n",
       "3  BMW    1 Series  2011      230.0               6.0            MANUAL   \n",
       "4  BMW    1 Series  2011      230.0               6.0            MANUAL   \n",
       "\n",
       "  vehicle_style  highway_mpg  city_mpg  price  \n",
       "0         Coupe           26        19  46135  \n",
       "1   Convertible           28        19  40650  \n",
       "2         Coupe           28        20  36350  \n",
       "3         Coupe           28        18  29450  \n",
       "4   Convertible           28        18  34500  "
      ]
     },
     "execution_count": 14,
     "metadata": {},
     "output_type": "execute_result"
    }
   ],
   "source": [
    "car_price.head(5)"
   ]
  },
  {
   "cell_type": "markdown",
   "id": "c7a01737",
   "metadata": {},
   "source": [
    "# Question 1"
   ]
  },
  {
   "cell_type": "markdown",
   "id": "a23af7e5",
   "metadata": {},
   "source": [
    "What is the most frequent observation (mode) for the column transmission_type?\n",
    "- AUTOMATIC\n",
    "- MANUAL\n",
    "- AUTOMATED_MANUAL\n",
    "- DIRECT_DRIVE"
   ]
  },
  {
   "cell_type": "code",
   "execution_count": 15,
   "id": "2823b348",
   "metadata": {},
   "outputs": [
    {
     "data": {
      "text/plain": [
       "0    AUTOMATIC\n",
       "Name: transmission_type, dtype: object"
      ]
     },
     "execution_count": 15,
     "metadata": {},
     "output_type": "execute_result"
    }
   ],
   "source": [
    "# Check the most frequent observation for the column transmission_type\n",
    "car_price['transmission_type'].mode()"
   ]
  },
  {
   "cell_type": "markdown",
   "id": "c9352a19",
   "metadata": {},
   "source": [
    "The most frequent observation for the column transmission_type is 'AUTOMATIC'."
   ]
  },
  {
   "cell_type": "markdown",
   "id": "40cccb02",
   "metadata": {},
   "source": [
    "# Question 2"
   ]
  },
  {
   "cell_type": "markdown",
   "id": "7425361b",
   "metadata": {},
   "source": [
    "Create the correlation matrix for the numerical features of your dataset. In a correlation matrix, you compute the correlation coefficient between every pair of features in the dataset.\n",
    "\n",
    "What are the two features that have the biggest correlation in this dataset?\n",
    "\n",
    "- engine_hp and year\n",
    "- engine_hp and engine_cylinders\n",
    "- highway_mpg and engine_cylinders\n",
    "- highway_mpg and city_mpg"
   ]
  },
  {
   "cell_type": "code",
   "execution_count": 16,
   "id": "ea9a9ed9",
   "metadata": {},
   "outputs": [
    {
     "data": {
      "image/png": "[encoded data removed]",
      "text/plain": [
       "<Figure size 1200x600 with 2 Axes>"
      ]
     },
     "metadata": {},
     "output_type": "display_data"
    }
   ],
   "source": [
    "# First, plot the correlation heatmap to have visual insights\n",
    "plot_correlation_heatmap(car_price, \"Correlation between numerical values\")"
   ]
  },
  {
   "cell_type": "markdown",
   "id": "26fb3683",
   "metadata": {},
   "source": [
    "The \"highway_mpg\" and \"city_mpg\" features seem to have the highest correlation.\n",
    "\n",
    "We can confirm it by determining the features that get the maximum absolute correlation value:"
   ]
  },
  {
   "cell_type": "code",
   "execution_count": 17,
   "id": "89510225",
   "metadata": {},
   "outputs": [],
   "source": [
    "corr_matrix=car_price.corr(numeric_only=True)"
   ]
  },
  {
   "cell_type": "code",
   "execution_count": 18,
   "id": "e094b76a",
   "metadata": {},
   "outputs": [
    {
     "data": {
      "text/plain": [
       "year              year                1.000000\n",
       "engine_hp         engine_hp           1.000000\n",
       "city_mpg          city_mpg            1.000000\n",
       "highway_mpg       highway_mpg         1.000000\n",
       "engine_cylinders  engine_cylinders    1.000000\n",
       "price             price               1.000000\n",
       "highway_mpg       city_mpg            0.886829\n",
       "city_mpg          highway_mpg         0.886829\n",
       "engine_hp         engine_cylinders    0.774851\n",
       "engine_cylinders  engine_hp           0.774851\n",
       "engine_hp         price               0.650095\n",
       "price             engine_hp           0.650095\n",
       "engine_cylinders  highway_mpg         0.614541\n",
       "highway_mpg       engine_cylinders    0.614541\n",
       "engine_cylinders  city_mpg            0.587306\n",
       "city_mpg          engine_cylinders    0.587306\n",
       "engine_cylinders  price               0.526274\n",
       "price             engine_cylinders    0.526274\n",
       "city_mpg          engine_hp           0.424918\n",
       "engine_hp         city_mpg            0.424918\n",
       "highway_mpg       engine_hp           0.415707\n",
       "engine_hp         highway_mpg         0.415707\n",
       "year              engine_hp           0.338714\n",
       "engine_hp         year                0.338714\n",
       "year              highway_mpg         0.258240\n",
       "highway_mpg       year                0.258240\n",
       "year              price               0.227590\n",
       "price             year                0.227590\n",
       "city_mpg          year                0.198171\n",
       "year              city_mpg            0.198171\n",
       "highway_mpg       price               0.160043\n",
       "price             highway_mpg         0.160043\n",
       "city_mpg          price               0.157676\n",
       "price             city_mpg            0.157676\n",
       "year              engine_cylinders    0.040708\n",
       "engine_cylinders  year                0.040708\n",
       "dtype: float64"
      ]
     },
     "execution_count": 18,
     "metadata": {},
     "output_type": "execute_result"
    }
   ],
   "source": [
    "# Extract the correlation coefficients from the correlation matrix (I use the absolute value to not miss any correlation)\n",
    "ordered_correlations = abs(corr_matrix).unstack().sort_values(ascending=False)\n",
    "ordered_correlations"
   ]
  },
  {
   "cell_type": "code",
   "execution_count": 19,
   "id": "c838ea0d",
   "metadata": {},
   "outputs": [
    {
     "name": "stdout",
     "output_type": "stream",
     "text": [
      "highway_mpg  city_mpg    0.886829\n",
      "dtype: float64\n"
     ]
    }
   ],
   "source": [
    "print(ordered_correlations[ordered_correlations < 1][:1])"
   ]
  },
  {
   "cell_type": "markdown",
   "id": "0e2278bb",
   "metadata": {},
   "source": [
    "We confirm that the highest correlation coefficient is obtained between \"highway_mpg\" and \"city_mpg\"."
   ]
  },
  {
   "cell_type": "markdown",
   "id": "3e2c49d3",
   "metadata": {},
   "source": [
    "# Make price binary"
   ]
  },
  {
   "cell_type": "markdown",
   "id": "46660d57",
   "metadata": {},
   "source": [
    "Now we need to turn the price variable from numeric into a binary format.\n",
    "\n",
    "Let's create a variable above_average which is 1 if the price is above its mean value and 0 otherwise."
   ]
  },
  {
   "cell_type": "code",
   "execution_count": 20,
   "id": "a78513e4",
   "metadata": {},
   "outputs": [
    {
     "data": {
      "text/plain": [
       "40594.737032063116"
      ]
     },
     "execution_count": 20,
     "metadata": {},
     "output_type": "execute_result"
    }
   ],
   "source": [
    "# Calculate the mean of 'price'\n",
    "price_mean = car_price[\"price\"].mean()\n",
    "price_mean"
   ]
  },
  {
   "cell_type": "code",
   "execution_count": 21,
   "id": "09982a69",
   "metadata": {},
   "outputs": [],
   "source": [
    "# Add a new column according to this mean price\n",
    "car_price[\"above_average\"] = np.where(\n",
    "    car_price[\"price\"] > price_mean, 1, 0\n",
    ")"
   ]
  },
  {
   "cell_type": "markdown",
   "id": "1e5ba171",
   "metadata": {},
   "source": [
    "# Split the data"
   ]
  },
  {
   "cell_type": "markdown",
   "id": "1015a9a0",
   "metadata": {},
   "source": [
    "Split your data in train/val/test sets with 60%/20%/20% distribution.\n",
    "\n",
    "Use Scikit-Learn for that (the train_test_split function) and set the seed to 42.\n",
    "\n",
    "Make sure that the target value (price) is not in your dataframe.\n",
    "\n",
    "-> I will also make sure that the feature matrix will not contain the \"above_average\" column, which is our target for classification analysis"
   ]
  },
  {
   "cell_type": "code",
   "execution_count": 22,
   "id": "e8843007",
   "metadata": {},
   "outputs": [],
   "source": [
    "# First generate the full training dataset and the test dataset\n",
    "full_train, test = train_test_split(car_price, test_size=0.2, random_state=42)"
   ]
  },
  {
   "cell_type": "code",
   "execution_count": 23,
   "id": "230bc9e7",
   "metadata": {},
   "outputs": [],
   "source": [
    "# Then separate the full training dataset into train and validation datasets. We have to adjust the proportions:\n",
    "# we need 20% of the total number of rows from the 80% of values, which means we are looking for 0.25 proportion for the validation dataset\n",
    "train, val = train_test_split(full_train, test_size=0.25, random_state=42)"
   ]
  },
  {
   "cell_type": "code",
   "execution_count": 24,
   "id": "86a59fb6",
   "metadata": {},
   "outputs": [],
   "source": [
    "train, val, test, y_train, y_val, y_test = separate_target_from_features(\n",
    "    train, val, test, \"above_average\"\n",
    ")"
   ]
  },
  {
   "cell_type": "code",
   "execution_count": 25,
   "id": "3d225db9",
   "metadata": {},
   "outputs": [
    {
     "data": {
      "text/html": [
       "<div>\n",
       "<style scoped>\n",
       "    .dataframe tbody tr th:only-of-type {\n",
       "        vertical-align: middle;\n",
       "    }\n",
       "\n",
       "    .dataframe tbody tr th {\n",
       "        vertical-align: top;\n",
       "    }\n",
       "\n",
       "    .dataframe thead th {\n",
       "        text-align: right;\n",
       "    }\n",
       "</style>\n",
       "<table border=\"1\" class=\"dataframe\">\n",
       "  <thead>\n",
       "    <tr style=\"text-align: right;\">\n",
       "      <th></th>\n",
       "      <th>make</th>\n",
       "      <th>model</th>\n",
       "      <th>year</th>\n",
       "      <th>engine_hp</th>\n",
       "      <th>engine_cylinders</th>\n",
       "      <th>transmission_type</th>\n",
       "      <th>vehicle_style</th>\n",
       "      <th>highway_mpg</th>\n",
       "      <th>city_mpg</th>\n",
       "      <th>price</th>\n",
       "    </tr>\n",
       "  </thead>\n",
       "  <tbody>\n",
       "    <tr>\n",
       "      <th>3972</th>\n",
       "      <td>Mitsubishi</td>\n",
       "      <td>Endeavor</td>\n",
       "      <td>2011</td>\n",
       "      <td>225.0</td>\n",
       "      <td>6.0</td>\n",
       "      <td>AUTOMATIC</td>\n",
       "      <td>4dr SUV</td>\n",
       "      <td>19</td>\n",
       "      <td>15</td>\n",
       "      <td>33599</td>\n",
       "    </tr>\n",
       "    <tr>\n",
       "      <th>1997</th>\n",
       "      <td>Kia</td>\n",
       "      <td>Borrego</td>\n",
       "      <td>2009</td>\n",
       "      <td>276.0</td>\n",
       "      <td>6.0</td>\n",
       "      <td>AUTOMATIC</td>\n",
       "      <td>4dr SUV</td>\n",
       "      <td>21</td>\n",
       "      <td>17</td>\n",
       "      <td>26245</td>\n",
       "    </tr>\n",
       "    <tr>\n",
       "      <th>5216</th>\n",
       "      <td>Lamborghini</td>\n",
       "      <td>Gallardo</td>\n",
       "      <td>2012</td>\n",
       "      <td>570.0</td>\n",
       "      <td>10.0</td>\n",
       "      <td>MANUAL</td>\n",
       "      <td>Convertible</td>\n",
       "      <td>20</td>\n",
       "      <td>12</td>\n",
       "      <td>248000</td>\n",
       "    </tr>\n",
       "    <tr>\n",
       "      <th>2805</th>\n",
       "      <td>Chevrolet</td>\n",
       "      <td>Colorado</td>\n",
       "      <td>2016</td>\n",
       "      <td>200.0</td>\n",
       "      <td>4.0</td>\n",
       "      <td>AUTOMATIC</td>\n",
       "      <td>Crew Cab Pickup</td>\n",
       "      <td>27</td>\n",
       "      <td>20</td>\n",
       "      <td>24990</td>\n",
       "    </tr>\n",
       "    <tr>\n",
       "      <th>11369</th>\n",
       "      <td>Pontiac</td>\n",
       "      <td>Vibe</td>\n",
       "      <td>2009</td>\n",
       "      <td>158.0</td>\n",
       "      <td>4.0</td>\n",
       "      <td>AUTOMATIC</td>\n",
       "      <td>4dr Hatchback</td>\n",
       "      <td>26</td>\n",
       "      <td>20</td>\n",
       "      <td>20475</td>\n",
       "    </tr>\n",
       "  </tbody>\n",
       "</table>\n",
       "</div>"
      ],
      "text/plain": [
       "              make     model  year  engine_hp  engine_cylinders  \\\n",
       "3972    Mitsubishi  Endeavor  2011      225.0               6.0   \n",
       "1997           Kia   Borrego  2009      276.0               6.0   \n",
       "5216   Lamborghini  Gallardo  2012      570.0              10.0   \n",
       "2805     Chevrolet  Colorado  2016      200.0               4.0   \n",
       "11369      Pontiac      Vibe  2009      158.0               4.0   \n",
       "\n",
       "      transmission_type    vehicle_style  highway_mpg  city_mpg   price  \n",
       "3972          AUTOMATIC          4dr SUV           19        15   33599  \n",
       "1997          AUTOMATIC          4dr SUV           21        17   26245  \n",
       "5216             MANUAL      Convertible           20        12  248000  \n",
       "2805          AUTOMATIC  Crew Cab Pickup           27        20   24990  \n",
       "11369         AUTOMATIC    4dr Hatchback           26        20   20475  "
      ]
     },
     "execution_count": 25,
     "metadata": {},
     "output_type": "execute_result"
    }
   ],
   "source": [
    "train.head(5)"
   ]
  },
  {
   "cell_type": "code",
   "execution_count": 26,
   "id": "17e6c313",
   "metadata": {},
   "outputs": [
    {
     "data": {
      "text/plain": [
       "(7148, 10)"
      ]
     },
     "execution_count": 26,
     "metadata": {},
     "output_type": "execute_result"
    }
   ],
   "source": [
    "train.shape"
   ]
  },
  {
   "cell_type": "code",
   "execution_count": 27,
   "id": "1fc5d397",
   "metadata": {},
   "outputs": [
    {
     "data": {
      "text/plain": [
       "(2383, 10)"
      ]
     },
     "execution_count": 27,
     "metadata": {},
     "output_type": "execute_result"
    }
   ],
   "source": [
    "val.shape"
   ]
  },
  {
   "cell_type": "code",
   "execution_count": 28,
   "id": "60e67f39",
   "metadata": {},
   "outputs": [
    {
     "data": {
      "text/plain": [
       "(2383, 10)"
      ]
     },
     "execution_count": 28,
     "metadata": {},
     "output_type": "execute_result"
    }
   ],
   "source": [
    "test.shape"
   ]
  },
  {
   "cell_type": "code",
   "execution_count": 29,
   "id": "1216df1f",
   "metadata": {},
   "outputs": [],
   "source": [
    "# I also remove the 'price' column from the three datasets\n",
    "del train[\"price\"]\n",
    "del val[\"price\"]\n",
    "del test[\"price\"]"
   ]
  },
  {
   "cell_type": "markdown",
   "id": "77a0211c",
   "metadata": {},
   "source": [
    "# Question 3"
   ]
  },
  {
   "cell_type": "markdown",
   "id": "51612d03",
   "metadata": {},
   "source": [
    "Calculate the mutual information score between above_average and other categorical variables in our dataset. Use the training set only.\n",
    "\n",
    "Round the scores to 2 decimals using round(score, 2)."
   ]
  },
  {
   "cell_type": "code",
   "execution_count": 30,
   "id": "2ac6f37d",
   "metadata": {},
   "outputs": [
    {
     "data": {
      "text/plain": [
       "make                  object\n",
       "model                 object\n",
       "year                   int64\n",
       "engine_hp            float64\n",
       "engine_cylinders     float64\n",
       "transmission_type     object\n",
       "vehicle_style         object\n",
       "highway_mpg            int64\n",
       "city_mpg               int64\n",
       "price                  int64\n",
       "above_average          int32\n",
       "dtype: object"
      ]
     },
     "execution_count": 30,
     "metadata": {},
     "output_type": "execute_result"
    }
   ],
   "source": [
    "# Isolate the categorical variables from the dataset\n",
    "full_train.dtypes"
   ]
  },
  {
   "cell_type": "code",
   "execution_count": 31,
   "id": "0280accd",
   "metadata": {},
   "outputs": [],
   "source": [
    "# Put the categorical variables in a list\n",
    "categorical_variables = ['make','model','transmission_type','vehicle_style']"
   ]
  },
  {
   "cell_type": "code",
   "execution_count": 32,
   "id": "6e84d3b1",
   "metadata": {},
   "outputs": [
    {
     "name": "stdout",
     "output_type": "stream",
     "text": [
      "The mutual information score between 'above_average' and 'make' is equal to 0.24.\n",
      "The mutual information score between 'above_average' and 'model' is equal to 0.46.\n",
      "The mutual information score between 'above_average' and 'transmission_type' is equal to 0.02.\n",
      "The mutual information score between 'above_average' and 'vehicle_style' is equal to 0.08.\n"
     ]
    }
   ],
   "source": [
    "# Here I use the full_train dataset and split it into train and val again\n",
    "for categorical_variable in categorical_variables:\n",
    "    \n",
    "    # Since y_train is the \"above_average\" values, I use it directly to compute mutual information score\n",
    "    mutual_score = round(\n",
    "        mutual_info_score(y_train, train[categorical_variable]), 2\n",
    "    )\n",
    "    \n",
    "    print(f\"The mutual information score between 'above_average' and '{categorical_variable}' is equal to {mutual_score}.\")"
   ]
  },
  {
   "cell_type": "markdown",
   "id": "91e0e9d2",
   "metadata": {},
   "source": [
    "Which of these variables has the lowest mutual information score?\n",
    "- make\n",
    "- model\n",
    "- transmission_type\n",
    "- vehicle_style"
   ]
  },
  {
   "cell_type": "markdown",
   "id": "ac83fa5b",
   "metadata": {},
   "source": [
    "The variable 'transmission_type' has the lowest mutual information score (0.02)."
   ]
  },
  {
   "cell_type": "markdown",
   "id": "5d6254dc",
   "metadata": {},
   "source": [
    "# Question 4"
   ]
  },
  {
   "cell_type": "markdown",
   "id": "f2be2e31",
   "metadata": {},
   "source": [
    "Now let's train a logistic regression.\n",
    "\n",
    "Remember that we have several categorical variables in the dataset. Include them using one-hot encoding.\n",
    "\n",
    "Fit the model on the training dataset.\n",
    "\n",
    "To make sure the results are reproducible across different versions of Scikit-Learn, fit the model with these parameters:\n",
    "model = LogisticRegression(solver='liblinear', C=10, max_iter=1000, random_state=42)\n",
    "\n",
    "Calculate the accuracy on the validation dataset and round it to 2 decimal digits."
   ]
  },
  {
   "cell_type": "markdown",
   "id": "486c7f18",
   "metadata": {},
   "source": [
    "Since some values for categorical variables are present in the train but not in validation, an error occurs (the model is trained on more features than the number of features in the validation dataset.\n",
    "\n",
    "I try to encode these features before splitting the dataset into train, val and test sets:"
   ]
  },
  {
   "cell_type": "code",
   "execution_count": null,
   "id": "f198356f",
   "metadata": {},
   "outputs": [],
   "source": [
    "# Remove the price and above_average columns (we already have them since we use the same random_state)"
   ]
  },
  {
   "cell_type": "code",
   "execution_count": 55,
   "id": "d331fa55",
   "metadata": {},
   "outputs": [],
   "source": [
    "car_price_one_hot = prepare_feature_matrix_onehot(car_price)"
   ]
  },
  {
   "cell_type": "code",
   "execution_count": 66,
   "id": "18ac4f56",
   "metadata": {},
   "outputs": [
    {
     "data": {
      "text/plain": [
       "Index(['make', 'model', 'year', 'engine_hp', 'engine_cylinders',\n",
       "       'transmission_type', 'vehicle_style', 'highway_mpg', 'city_mpg',\n",
       "       'price', 'above_average'],\n",
       "      dtype='object')"
      ]
     },
     "execution_count": 66,
     "metadata": {},
     "output_type": "execute_result"
    }
   ],
   "source": [
    "car_price.columns"
   ]
  },
  {
   "cell_type": "code",
   "execution_count": 56,
   "id": "126381a8",
   "metadata": {},
   "outputs": [
    {
     "data": {
      "text/plain": [
       "(11914, 991)"
      ]
     },
     "execution_count": 56,
     "metadata": {},
     "output_type": "execute_result"
    }
   ],
   "source": [
    "# Check the shape of the obtained matrix before splitting : total of 991 features after one hot encoding\n",
    "car_price_one_hot.shape"
   ]
  },
  {
   "cell_type": "code",
   "execution_count": 61,
   "id": "de8a0adb",
   "metadata": {},
   "outputs": [],
   "source": [
    "# Split the matrix \n",
    "\n",
    "# First generate the full training dataset and the test dataset\n",
    "full_train, test = train_test_split(car_price_one_hot, test_size=0.2, random_state=42)\n",
    "\n",
    "# Then separate the full training dataset into train and validation datasets. We have to adjust the proportions:\n",
    "# we need 20% of the total number of rows from the 80% of values, which means we are looking for 0.25 proportion for the validation dataset\n",
    "train, val = train_test_split(full_train, test_size=0.25, random_state=42)"
   ]
  },
  {
   "cell_type": "code",
   "execution_count": 62,
   "id": "7bd59458",
   "metadata": {},
   "outputs": [
    {
     "data": {
      "text/plain": [
       "(7148, 991)"
      ]
     },
     "execution_count": 62,
     "metadata": {},
     "output_type": "execute_result"
    }
   ],
   "source": [
    "train.shape"
   ]
  },
  {
   "cell_type": "code",
   "execution_count": 67,
   "id": "7745e76f",
   "metadata": {},
   "outputs": [
    {
     "data": {
      "text/plain": [
       "array([[0.000e+00, 1.500e+01, 6.000e+00, ..., 0.000e+00, 0.000e+00,\n",
       "        2.011e+03],\n",
       "       [0.000e+00, 1.700e+01, 6.000e+00, ..., 0.000e+00, 0.000e+00,\n",
       "        2.009e+03],\n",
       "       [1.000e+00, 1.200e+01, 1.000e+01, ..., 0.000e+00, 0.000e+00,\n",
       "        2.012e+03],\n",
       "       [0.000e+00, 2.000e+01, 4.000e+00, ..., 0.000e+00, 0.000e+00,\n",
       "        2.016e+03],\n",
       "       [0.000e+00, 2.000e+01, 4.000e+00, ..., 0.000e+00, 0.000e+00,\n",
       "        2.009e+03]])"
      ]
     },
     "execution_count": 67,
     "metadata": {},
     "output_type": "execute_result"
    }
   ],
   "source": [
    "train[:5]"
   ]
  },
  {
   "cell_type": "code",
   "execution_count": 60,
   "id": "32b6a6fd",
   "metadata": {},
   "outputs": [
    {
     "data": {
      "text/plain": [
       "(2383, 991)"
      ]
     },
     "execution_count": 60,
     "metadata": {},
     "output_type": "execute_result"
    }
   ],
   "source": [
    "test.shape"
   ]
  },
  {
   "cell_type": "code",
   "execution_count": 63,
   "id": "130f87c7",
   "metadata": {},
   "outputs": [
    {
     "data": {
      "text/plain": [
       "(2383, 991)"
      ]
     },
     "execution_count": 63,
     "metadata": {},
     "output_type": "execute_result"
    }
   ],
   "source": [
    "val.shape"
   ]
  },
  {
   "cell_type": "markdown",
   "id": "c57270ac",
   "metadata": {},
   "source": [
    "All feature matrices have the same number of features."
   ]
  },
  {
   "cell_type": "code",
   "execution_count": 53,
   "id": "95e54856",
   "metadata": {},
   "outputs": [
    {
     "name": "stdout",
     "output_type": "stream",
     "text": [
      "The features used are ['make', 'model', 'year', 'engine_hp', 'engine_cylinders', 'transmission_type', 'vehicle_style', 'highway_mpg', 'city_mpg'].\n",
      "(7148, 943)\n",
      "(2383, 788)\n",
      "(2383, 779)\n",
      "Training Accuracy Score 0.953\n"
     ]
    },
    {
     "ename": "ValueError",
     "evalue": "X has 788 features, but LogisticRegression is expecting 943 features as input.",
     "output_type": "error",
     "traceback": [
      "\u001b[1;31m---------------------------------------------------------------------------\u001b[0m",
      "\u001b[1;31mValueError\u001b[0m                                Traceback (most recent call last)",
      "Cell \u001b[1;32mIn[53], line 5\u001b[0m\n\u001b[0;32m      2\u001b[0m feature_list \u001b[38;5;241m=\u001b[39m train\u001b[38;5;241m.\u001b[39mcolumns\u001b[38;5;241m.\u001b[39mtolist()\n\u001b[0;32m      4\u001b[0m \u001b[38;5;66;03m# Calculate the accuracy for training, validation and test datasets\u001b[39;00m\n\u001b[1;32m----> 5\u001b[0m train_acc, val_acc, test_acc \u001b[38;5;241m=\u001b[39m logistic_regression_accuracy(\n\u001b[0;32m      6\u001b[0m     feature_list\u001b[38;5;241m=\u001b[39mfeature_list,\n\u001b[0;32m      7\u001b[0m     train_df\u001b[38;5;241m=\u001b[39mtrain,\n\u001b[0;32m      8\u001b[0m     val_df\u001b[38;5;241m=\u001b[39mval,\n\u001b[0;32m      9\u001b[0m     test_df\u001b[38;5;241m=\u001b[39mtest,\n\u001b[0;32m     10\u001b[0m     y_train\u001b[38;5;241m=\u001b[39my_train,\n\u001b[0;32m     11\u001b[0m     y_val\u001b[38;5;241m=\u001b[39my_val,\n\u001b[0;32m     12\u001b[0m     y_test\u001b[38;5;241m=\u001b[39my_test,\n\u001b[0;32m     13\u001b[0m )\n",
      "Cell \u001b[1;32mIn[52], line 59\u001b[0m, in \u001b[0;36mlogistic_regression_accuracy\u001b[1;34m(feature_list, train_df, val_df, test_df, y_train, y_val, y_test)\u001b[0m\n\u001b[0;32m     57\u001b[0m \u001b[38;5;28mprint\u001b[39m(\u001b[38;5;124m\"\u001b[39m\u001b[38;5;124mTraining Accuracy Score\u001b[39m\u001b[38;5;124m\"\u001b[39m, \u001b[38;5;28mround\u001b[39m(score_train, \u001b[38;5;241m3\u001b[39m))\n\u001b[0;32m     58\u001b[0m \u001b[38;5;66;03m# Accuracy on the validation set\u001b[39;00m\n\u001b[1;32m---> 59\u001b[0m score_val \u001b[38;5;241m=\u001b[39m model\u001b[38;5;241m.\u001b[39mscore(X_val_features, y_val)\n\u001b[0;32m     60\u001b[0m \u001b[38;5;28mprint\u001b[39m(\u001b[38;5;124m\"\u001b[39m\u001b[38;5;124mValidation Accuracy Score\u001b[39m\u001b[38;5;124m\"\u001b[39m, \u001b[38;5;28mround\u001b[39m(score_val, \u001b[38;5;241m3\u001b[39m))\n\u001b[0;32m     61\u001b[0m \u001b[38;5;66;03m# Accuracy on the test set\u001b[39;00m\n",
      "File \u001b[1;32m~\\anaconda3\\Lib\\site-packages\\sklearn\\base.py:705\u001b[0m, in \u001b[0;36mClassifierMixin.score\u001b[1;34m(self, X, y, sample_weight)\u001b[0m\n\u001b[0;32m    680\u001b[0m \u001b[38;5;250m\u001b[39m\u001b[38;5;124;03m\"\"\"\u001b[39;00m\n\u001b[0;32m    681\u001b[0m \u001b[38;5;124;03mReturn the mean accuracy on the given test data and labels.\u001b[39;00m\n\u001b[0;32m    682\u001b[0m \n\u001b[1;32m   (...)\u001b[0m\n\u001b[0;32m    701\u001b[0m \u001b[38;5;124;03m    Mean accuracy of ``self.predict(X)`` w.r.t. `y`.\u001b[39;00m\n\u001b[0;32m    702\u001b[0m \u001b[38;5;124;03m\"\"\"\u001b[39;00m\n\u001b[0;32m    703\u001b[0m \u001b[38;5;28;01mfrom\u001b[39;00m \u001b[38;5;21;01m.\u001b[39;00m\u001b[38;5;21;01mmetrics\u001b[39;00m \u001b[38;5;28;01mimport\u001b[39;00m accuracy_score\n\u001b[1;32m--> 705\u001b[0m \u001b[38;5;28;01mreturn\u001b[39;00m accuracy_score(y, \u001b[38;5;28mself\u001b[39m\u001b[38;5;241m.\u001b[39mpredict(X), sample_weight\u001b[38;5;241m=\u001b[39msample_weight)\n",
      "File \u001b[1;32m~\\anaconda3\\Lib\\site-packages\\sklearn\\linear_model\\_base.py:451\u001b[0m, in \u001b[0;36mLinearClassifierMixin.predict\u001b[1;34m(self, X)\u001b[0m\n\u001b[0;32m    437\u001b[0m \u001b[38;5;250m\u001b[39m\u001b[38;5;124;03m\"\"\"\u001b[39;00m\n\u001b[0;32m    438\u001b[0m \u001b[38;5;124;03mPredict class labels for samples in X.\u001b[39;00m\n\u001b[0;32m    439\u001b[0m \n\u001b[1;32m   (...)\u001b[0m\n\u001b[0;32m    448\u001b[0m \u001b[38;5;124;03m    Vector containing the class labels for each sample.\u001b[39;00m\n\u001b[0;32m    449\u001b[0m \u001b[38;5;124;03m\"\"\"\u001b[39;00m\n\u001b[0;32m    450\u001b[0m xp, _ \u001b[38;5;241m=\u001b[39m get_namespace(X)\n\u001b[1;32m--> 451\u001b[0m scores \u001b[38;5;241m=\u001b[39m \u001b[38;5;28mself\u001b[39m\u001b[38;5;241m.\u001b[39mdecision_function(X)\n\u001b[0;32m    452\u001b[0m \u001b[38;5;28;01mif\u001b[39;00m \u001b[38;5;28mlen\u001b[39m(scores\u001b[38;5;241m.\u001b[39mshape) \u001b[38;5;241m==\u001b[39m \u001b[38;5;241m1\u001b[39m:\n\u001b[0;32m    453\u001b[0m     indices \u001b[38;5;241m=\u001b[39m xp\u001b[38;5;241m.\u001b[39mastype(scores \u001b[38;5;241m>\u001b[39m \u001b[38;5;241m0\u001b[39m, \u001b[38;5;28mint\u001b[39m)\n",
      "File \u001b[1;32m~\\anaconda3\\Lib\\site-packages\\sklearn\\linear_model\\_base.py:432\u001b[0m, in \u001b[0;36mLinearClassifierMixin.decision_function\u001b[1;34m(self, X)\u001b[0m\n\u001b[0;32m    429\u001b[0m check_is_fitted(\u001b[38;5;28mself\u001b[39m)\n\u001b[0;32m    430\u001b[0m xp, _ \u001b[38;5;241m=\u001b[39m get_namespace(X)\n\u001b[1;32m--> 432\u001b[0m X \u001b[38;5;241m=\u001b[39m \u001b[38;5;28mself\u001b[39m\u001b[38;5;241m.\u001b[39m_validate_data(X, accept_sparse\u001b[38;5;241m=\u001b[39m\u001b[38;5;124m\"\u001b[39m\u001b[38;5;124mcsr\u001b[39m\u001b[38;5;124m\"\u001b[39m, reset\u001b[38;5;241m=\u001b[39m\u001b[38;5;28;01mFalse\u001b[39;00m)\n\u001b[0;32m    433\u001b[0m scores \u001b[38;5;241m=\u001b[39m safe_sparse_dot(X, \u001b[38;5;28mself\u001b[39m\u001b[38;5;241m.\u001b[39mcoef_\u001b[38;5;241m.\u001b[39mT, dense_output\u001b[38;5;241m=\u001b[39m\u001b[38;5;28;01mTrue\u001b[39;00m) \u001b[38;5;241m+\u001b[39m \u001b[38;5;28mself\u001b[39m\u001b[38;5;241m.\u001b[39mintercept_\n\u001b[0;32m    434\u001b[0m \u001b[38;5;28;01mreturn\u001b[39;00m xp\u001b[38;5;241m.\u001b[39mreshape(scores, (\u001b[38;5;241m-\u001b[39m\u001b[38;5;241m1\u001b[39m,)) \u001b[38;5;28;01mif\u001b[39;00m scores\u001b[38;5;241m.\u001b[39mshape[\u001b[38;5;241m1\u001b[39m] \u001b[38;5;241m==\u001b[39m \u001b[38;5;241m1\u001b[39m \u001b[38;5;28;01melse\u001b[39;00m scores\n",
      "File \u001b[1;32m~\\anaconda3\\Lib\\site-packages\\sklearn\\base.py:625\u001b[0m, in \u001b[0;36mBaseEstimator._validate_data\u001b[1;34m(self, X, y, reset, validate_separately, cast_to_ndarray, **check_params)\u001b[0m\n\u001b[0;32m    622\u001b[0m     out \u001b[38;5;241m=\u001b[39m X, y\n\u001b[0;32m    624\u001b[0m \u001b[38;5;28;01mif\u001b[39;00m \u001b[38;5;129;01mnot\u001b[39;00m no_val_X \u001b[38;5;129;01mand\u001b[39;00m check_params\u001b[38;5;241m.\u001b[39mget(\u001b[38;5;124m\"\u001b[39m\u001b[38;5;124mensure_2d\u001b[39m\u001b[38;5;124m\"\u001b[39m, \u001b[38;5;28;01mTrue\u001b[39;00m):\n\u001b[1;32m--> 625\u001b[0m     \u001b[38;5;28mself\u001b[39m\u001b[38;5;241m.\u001b[39m_check_n_features(X, reset\u001b[38;5;241m=\u001b[39mreset)\n\u001b[0;32m    627\u001b[0m \u001b[38;5;28;01mreturn\u001b[39;00m out\n",
      "File \u001b[1;32m~\\anaconda3\\Lib\\site-packages\\sklearn\\base.py:414\u001b[0m, in \u001b[0;36mBaseEstimator._check_n_features\u001b[1;34m(self, X, reset)\u001b[0m\n\u001b[0;32m    411\u001b[0m     \u001b[38;5;28;01mreturn\u001b[39;00m\n\u001b[0;32m    413\u001b[0m \u001b[38;5;28;01mif\u001b[39;00m n_features \u001b[38;5;241m!=\u001b[39m \u001b[38;5;28mself\u001b[39m\u001b[38;5;241m.\u001b[39mn_features_in_:\n\u001b[1;32m--> 414\u001b[0m     \u001b[38;5;28;01mraise\u001b[39;00m \u001b[38;5;167;01mValueError\u001b[39;00m(\n\u001b[0;32m    415\u001b[0m         \u001b[38;5;124mf\u001b[39m\u001b[38;5;124m\"\u001b[39m\u001b[38;5;124mX has \u001b[39m\u001b[38;5;132;01m{\u001b[39;00mn_features\u001b[38;5;132;01m}\u001b[39;00m\u001b[38;5;124m features, but \u001b[39m\u001b[38;5;132;01m{\u001b[39;00m\u001b[38;5;28mself\u001b[39m\u001b[38;5;241m.\u001b[39m\u001b[38;5;18m__class__\u001b[39m\u001b[38;5;241m.\u001b[39m\u001b[38;5;18m__name__\u001b[39m\u001b[38;5;132;01m}\u001b[39;00m\u001b[38;5;124m \u001b[39m\u001b[38;5;124m\"\u001b[39m\n\u001b[0;32m    416\u001b[0m         \u001b[38;5;124mf\u001b[39m\u001b[38;5;124m\"\u001b[39m\u001b[38;5;124mis expecting \u001b[39m\u001b[38;5;132;01m{\u001b[39;00m\u001b[38;5;28mself\u001b[39m\u001b[38;5;241m.\u001b[39mn_features_in_\u001b[38;5;132;01m}\u001b[39;00m\u001b[38;5;124m features as input.\u001b[39m\u001b[38;5;124m\"\u001b[39m\n\u001b[0;32m    417\u001b[0m     )\n",
      "\u001b[1;31mValueError\u001b[0m: X has 788 features, but LogisticRegression is expecting 943 features as input."
     ]
    }
   ],
   "source": [
    "# Extract feature list from training dataset\n",
    "feature_list = train.columns.tolist()\n",
    "\n",
    "# Calculate the accuracy for training, validation and test datasets\n",
    "train_acc, val_acc, test_acc = logistic_regression_accuracy(\n",
    "    feature_list=feature_list,\n",
    "    train=train,\n",
    "    val=val,\n",
    "    test=test,\n",
    "    y_train=y_train,\n",
    "    y_val=y_val,\n",
    "    y_test=y_test,\n",
    ")"
   ]
  },
  {
   "cell_type": "code",
   "execution_count": 64,
   "id": "45fdc4ff",
   "metadata": {},
   "outputs": [
    {
     "data": {
      "text/plain": [
       "numpy.ndarray"
      ]
     },
     "execution_count": 64,
     "metadata": {},
     "output_type": "execute_result"
    }
   ],
   "source": [
    "type(train)"
   ]
  },
  {
   "cell_type": "code",
   "execution_count": null,
   "id": "f270e7ae",
   "metadata": {},
   "outputs": [],
   "source": []
  }
 ],
 "metadata": {
  "kernelspec": {
   "display_name": "Python 3 (ipykernel)",
   "language": "python",
   "name": "python3"
  },
  "language_info": {
   "codemirror_mode": {
    "name": "ipython",
    "version": 3
   },
   "file_extension": ".py",
   "mimetype": "text/x-python",
   "name": "python",
   "nbconvert_exporter": "python",
   "pygments_lexer": "ipython3",
   "version": "3.11.4"
  }
 },
 "nbformat": 4,
 "nbformat_minor": 5
}
