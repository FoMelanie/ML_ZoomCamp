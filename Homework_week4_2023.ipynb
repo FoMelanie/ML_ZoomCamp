{
 "cells": [
  {
   "cell_type": "markdown",
   "id": "fa66017d",
   "metadata": {},
   "source": [
    "# Imports"
   ]
  },
  {
   "cell_type": "code",
   "execution_count": 148,
   "id": "59f6d5e8",
   "metadata": {},
   "outputs": [],
   "source": [
    "import pandas as pd\n",
    "import numpy as np\n",
    "import seaborn as sns\n",
    "import matplotlib.pyplot as plt\n",
    "from sklearn.linear_model import LogisticRegression\n",
    "from sklearn.model_selection import train_test_split, KFold\n",
    "from sklearn.metrics import roc_auc_score, confusion_matrix\n",
    "from sklearn.feature_extraction import DictVectorizer\n",
    "from typing import Tuple, List\n",
    "from tqdm.auto import tqdm"
   ]
  },
  {
   "cell_type": "markdown",
   "id": "0ae0e93e",
   "metadata": {},
   "source": [
    "# Functions"
   ]
  },
  {
   "cell_type": "code",
   "execution_count": 24,
   "id": "3d757df5",
   "metadata": {},
   "outputs": [],
   "source": [
    "def separate_target_from_features(\n",
    "    train_df: pd.DataFrame,\n",
    "    val_df: pd.DataFrame,\n",
    "    test_df: pd.DataFrame,\n",
    "    target_name: str,\n",
    "    log_transformation: bool = False,\n",
    ") -> Tuple[pd.DataFrame, pd.DataFrame, pd.DataFrame, np.array, np.array, np.array]:\n",
    "    \"\"\"\n",
    "    From the three datasets (pandas dataframes, train, validation and test) containing all features and the\n",
    "    target column, separate features and target to return three pandas dataframes containing only features and\n",
    "    three numpy arrays containing target values. The target is selected according to the provided target_name.\n",
    "\n",
    "    Args:\n",
    "        train_df: pandas dataframe containing all training features and target values\n",
    "        val_df: pandas dataframe containing all validation features and target values\n",
    "        test_df: pandas dataframe containing all test features and target values\n",
    "\n",
    "    Returns:\n",
    "        train: pandas dataframe containing only features values for training dataset\n",
    "        val: pandas dataframe containing only features values for validation dataset\n",
    "        test: pandas dataframe containing only features values for test dataset\n",
    "        y_train: numpy array containing train target values\n",
    "        y_val: numpy array containing validation target values\n",
    "        y_test: numpy array containing test target values\n",
    "    \"\"\"\n",
    "\n",
    "    # Select the target values from original datasets\n",
    "    y_train = train_df[target_name]\n",
    "    y_val = val_df[target_name]\n",
    "    y_test = test_df[target_name]\n",
    "\n",
    "    # If the target value should be log transformed:\n",
    "    if log_transformation:\n",
    "        y_train = np.log1p(y_train)\n",
    "        y_val = np.log1p(y_val)\n",
    "        y_test = np.log1p(y_test)\n",
    "\n",
    "    # Remove the target column from features dataset\n",
    "    del train[target_name]\n",
    "    del val[target_name]\n",
    "    del test[target_name]\n",
    "\n",
    "    return train, val, test, y_train, y_val, y_test"
   ]
  },
  {
   "cell_type": "code",
   "execution_count": 46,
   "id": "432f3a90",
   "metadata": {},
   "outputs": [],
   "source": [
    "def prepare_feature_matrix_onehot(feature_df: pd.DataFrame) -> np.array:\n",
    "    \"\"\"\n",
    "    From a pandas dataframe containing feature data (one feature per column), compute the feature matrix with one-hot encoding\n",
    "    of the categorical columns.\n",
    "    Categorical columns are one hot encoded using the DictVectorizer from sklearn.\n",
    "\n",
    "    Args:\n",
    "        feature_df: pandas dataframe containing feature data (one individual per row and one feature per column)\n",
    "\n",
    "    Returns:\n",
    "        feature_matrix: a numpy 2D array corresponding to the obtained feature matrix\n",
    "    \"\"\"\n",
    "\n",
    "    feature_dicts = feature_df.to_dict(orient=\"records\")\n",
    "    dv = DictVectorizer(sparse=False)\n",
    "    feature_matrix = dv.fit_transform(feature_dicts)\n",
    "\n",
    "    return feature_matrix"
   ]
  },
  {
   "cell_type": "code",
   "execution_count": 47,
   "id": "445d5639",
   "metadata": {},
   "outputs": [],
   "source": [
    "def prepare_train_val_test_feature_matrix_onehot(\n",
    "    train_df: pd.DataFrame, val_df: pd.DataFrame, test_df: pd.DataFrame\n",
    ") -> Tuple[np.array, np.array, np.array]:\n",
    "    \"\"\"\n",
    "    From a pandas dataframe containing feature data (one feature per column), compute the feature matrix with one-hot encoding\n",
    "    of the categorical columns. The DictVectorizer is fit on the training data.\n",
    "    Categorical columns are one hot encoded using the DictVectorizer from sklearn.\n",
    "\n",
    "    Args:\n",
    "        feature_df: pandas dataframe containing feature data (one individual per row and one feature per column)\n",
    "\n",
    "    Returns:\n",
    "        feature_matrix: a numpy 2D array corresponding to the obtained feature matrix\n",
    "    \"\"\"\n",
    "\n",
    "    # First, create dictionaries from input dataframes obtained after splitting the data\n",
    "    train_dicts = train_df.to_dict(orient=\"records\")\n",
    "    val_dicts = val_df.to_dict(orient=\"records\")\n",
    "    test_dicts = test_df.to_dict(orient=\"records\")\n",
    "\n",
    "    # Initiate the DictVectorizer and fit it on the train data dictionary\n",
    "    dv = DictVectorizer(sparse=False)\n",
    "    dv.fit(train_dicts)\n",
    "\n",
    "    # Obtain the transformed features using the fitted DictVectorizer\n",
    "    train_ohe = dv.transform(train_dicts)\n",
    "    val_ohe = dv.transform(val_dicts)\n",
    "    test_ohe = dv.transform(test_dicts)\n",
    "\n",
    "    return train_ohe, val_ohe, test_ohe"
   ]
  },
  {
   "cell_type": "code",
   "execution_count": 60,
   "id": "2ca98d49",
   "metadata": {},
   "outputs": [],
   "source": [
    "def logistic_regression_metrics_feature_selection(\n",
    "    feature_list: List[str],\n",
    "    train_df: pd.DataFrame,\n",
    "    val_df: pd.DataFrame,\n",
    "    test_df: pd.DataFrame,\n",
    "    y_train: np.array,\n",
    "    y_val: np.array,\n",
    "    y_test: np.array,\n",
    ") -> Tuple[float, float, float]:\n",
    "    \"\"\"\n",
    "    Computes the accuracy of a logistic regression model trained on the provided training data, for training, validation\n",
    "    and test data. The provided matrices should already be encoded for categorical variables.\n",
    "    The logistic regression model has these parameters (fixed for this exercise): solver=\"liblinear\", C=1.0, max_iter=1000, random_state=42.\n",
    "\n",
    "    Args:\n",
    "        feature_list: list of strings containing the features we want to keep in our feature matrices.\n",
    "        train_df: pandas dataframe containing the training dataset values (features only)\n",
    "        val_df: pandas dataframe containing the validation dataset values (features only)\n",
    "        test_df: pandas dataframe containing the test dataset values (features only)\n",
    "        y_train: numpy array containing the target values for the training dataset\n",
    "        y_val: numpy array containing the target values for the validation dataset\n",
    "        y_test: numpy array containing the target values for the test dataset\n",
    "\n",
    "    Returns:\n",
    "        score_train: float, the accuracy score obtained on the training dataset\n",
    "        score_val: float, the accuracy score obtained on the validation dataset\n",
    "        score_test: float, the accuracy score obtained on the test dataset\n",
    "    \"\"\"\n",
    "\n",
    "    # Select the input features in our input dataframes\n",
    "    train_selection = train_df[feature_list]\n",
    "    val_selection = val_df[feature_list]\n",
    "    test_selection = test_df[feature_list]\n",
    "\n",
    "    # Create dictionaries from input dataframes obtained after splitting the data\n",
    "    train_dicts = train_selection.to_dict(orient=\"records\")\n",
    "    val_dicts = val_selection.to_dict(orient=\"records\")\n",
    "    test_dicts = test_selection.to_dict(orient=\"records\")\n",
    "\n",
    "    # Initiate the DictVectorizer and fit it on the train data dictionary\n",
    "    dv = DictVectorizer(sparse=False)\n",
    "    dv.fit(train_dicts)\n",
    "\n",
    "    # Obtain the transformed features using the fitted DictVectorizer\n",
    "    train_ohe = dv.transform(train_dicts)\n",
    "    val_ohe = dv.transform(val_dicts)\n",
    "    test_ohe = dv.transform(test_dicts)\n",
    "\n",
    "    # Train the model with these features:\n",
    "    model = LogisticRegression(solver=\"liblinear\", C=1, max_iter=1000)\n",
    "    model.fit(train_ohe, y_train)\n",
    "\n",
    "    # Accuracy on the train dataset\n",
    "    score_train = model.score(train_ohe, y_train)\n",
    "    print(\"Training Accuracy Score\", round(score_train, 2))\n",
    "    # Accuracy on the validation set\n",
    "    score_val = model.score(val_ohe, y_val)\n",
    "    print(\"Validation Accuracy Score\", round(score_val, 2))\n",
    "    # Accuracy on the test set\n",
    "    score_test = model.score(test_ohe, y_test)\n",
    "    print(\"Test Accuracy Score\", round(score_test, 2))\n",
    "\n",
    "    # Get predictions from the model\n",
    "    y_pred_train = model.predict_proba(train_ohe)[:, 1]\n",
    "    y_pred_val = model.predict_proba(val_ohe)[:, 1]\n",
    "    y_pred_test = model.predict_proba(test_ohe)[:, 1]\n",
    "\n",
    "    # ROC AUC on the train dataset\n",
    "    train_auc = roc_auc_score(y_train, y_pred_train)\n",
    "    val_auc = roc_auc_score(y_val, y_pred_val)\n",
    "    test_auc = roc_auc_score(y_test, y_pred_test)\n",
    "\n",
    "    print(f\"The ROC AUC score obtained on the training data is {round(train_auc,4)}.\")\n",
    "    print(f\"The ROC AUC score obtained on the validation data is {round(val_auc,4)}.\")\n",
    "    print(f\"The ROC AUC score obtained on the test data is {round(test_auc,4)}.\")\n",
    "\n",
    "    return score_train, score_val, score_test"
   ]
  },
  {
   "cell_type": "code",
   "execution_count": 132,
   "id": "e8238db4",
   "metadata": {},
   "outputs": [],
   "source": [
    "def plot_precision_recall_curve(y_true, y_pred, thresholds) -> pd.DataFrame:\n",
    "    \"\"\"\n",
    "    From y_true values and y_pred values, plot the precision recall curve according to the array of thresholds.\n",
    "    Args:\n",
    "        y_true: np.array, true y values\n",
    "        y_pred: np.array, predicted y values\n",
    "        thresholds: np.array, the thresholds\n",
    "    Returns:\n",
    "        df_scores: pandas dataframe containing thresholds, tp, tn, fp, fn and precision and recall values as columns\n",
    "    \"\"\"\n",
    "\n",
    "    # Instantiate scores lists\n",
    "    scores = []\n",
    "\n",
    "    for threshold in tqdm(thresholds):\n",
    "        actual_positive = y_true == 1\n",
    "        actual_negative = y_true == 0\n",
    "\n",
    "        predict_positive = y_pred >= threshold\n",
    "        predict_negative = y_pred < threshold\n",
    "\n",
    "        tp = (predict_positive & actual_positive).sum()\n",
    "        tn = (predict_negative & actual_negative).sum()\n",
    "\n",
    "        fp = (predict_positive & actual_negative).sum()\n",
    "        fn = (predict_negative & actual_positive).sum()\n",
    "\n",
    "        scores.append((threshold, tp, fp, fn, tn))\n",
    "\n",
    "    columns = [\"threshold\", \"tp\", \"fp\", \"fn\", \"tn\"]\n",
    "    df_scores = pd.DataFrame(scores, columns=columns)\n",
    "\n",
    "    df_scores[\"precision\"] = df_scores.tp / (df_scores.tp + df_scores.fp)\n",
    "    df_scores[\"recall\"] = df_scores.tp / (df_scores.tp + df_scores.fn)\n",
    "\n",
    "    # Plot precision-recall curve\n",
    "    plt.figure(figsize=(6, 4))\n",
    "    plt.plot(df_scores[\"threshold\"], df_scores[\"precision\"], label=\"Precision\")\n",
    "    plt.plot(df_scores[\"threshold\"], df_scores[\"recall\"], label=\"Recall\")\n",
    "\n",
    "    # Find the intersection of the curves\n",
    "    idx = np.argwhere(\n",
    "        np.diff(\n",
    "            np.sign(np.array(df_scores[\"precision\"]) - np.array(df_scores[\"recall\"]))\n",
    "        )\n",
    "    ).flatten()\n",
    "    print(\n",
    "        f\"The precision and recall curves intersect at a threshold equal to {df_scores.loc[idx]['threshold']}.\"\n",
    "    )\n",
    "\n",
    "    plt.legend()\n",
    "    plt.show()\n",
    "\n",
    "    return df_scores"
   ]
  },
  {
   "cell_type": "code",
   "execution_count": 133,
   "id": "7cd5aefa",
   "metadata": {},
   "outputs": [],
   "source": [
    "def logistic_regression_precision_recall_feature_selection(\n",
    "    feature_list: List[str],\n",
    "    train_df: pd.DataFrame,\n",
    "    val_df: pd.DataFrame,\n",
    "    test_df: pd.DataFrame,\n",
    "    y_train: np.array,\n",
    "    y_val: np.array,\n",
    "    y_test: np.array,\n",
    "    thresholds: np.array,\n",
    ") -> Tuple[pd.DataFrame, pd.DataFrame, pd.DataFrame]:\n",
    "    \"\"\"\n",
    "    Computes the accuracy of a logistic regression model trained on the provided training data, for training, validation\n",
    "    and test data. The provided matrices should already be encoded for categorical variables.\n",
    "    The logistic regression model has these parameters (fixed for this exercise): solver=\"liblinear\", C=1.0, max_iter=1000, random_state=42.\n",
    "\n",
    "    Args:\n",
    "        feature_list: list of strings containing the features we want to keep in our feature matrices.\n",
    "        train_df: pandas dataframe containing the training dataset values (features only)\n",
    "        val_df: pandas dataframe containing the validation dataset values (features only)\n",
    "        test_df: pandas dataframe containing the test dataset values (features only)\n",
    "        y_train: numpy array containing the target values for the training dataset\n",
    "        y_val: numpy array containing the target values for the validation dataset\n",
    "        y_test: numpy array containing the target values for the test dataset\n",
    "        threshold: float, the threshold above which the predicted class is equal to 1\n",
    "\n",
    "    Returns:\n",
    "        score_train: float, the accuracy score obtained on the training dataset\n",
    "        score_val: float, the accuracy score obtained on the validation dataset\n",
    "        score_test: float, the accuracy score obtained on the test dataset\n",
    "    \"\"\"\n",
    "\n",
    "    # Select the input features in our input dataframes\n",
    "    train_selection = train_df[feature_list]\n",
    "    val_selection = val_df[feature_list]\n",
    "    test_selection = test_df[feature_list]\n",
    "\n",
    "    # Create dictionaries from input dataframes obtained after splitting the data\n",
    "    train_dicts = train_selection.to_dict(orient=\"records\")\n",
    "    val_dicts = val_selection.to_dict(orient=\"records\")\n",
    "    test_dicts = test_selection.to_dict(orient=\"records\")\n",
    "\n",
    "    # Initiate the DictVectorizer and fit it on the train data dictionary\n",
    "    dv = DictVectorizer(sparse=False)\n",
    "    dv.fit(train_dicts)\n",
    "\n",
    "    # Obtain the transformed features using the fitted DictVectorizer\n",
    "    train_ohe = dv.transform(train_dicts)\n",
    "    val_ohe = dv.transform(val_dicts)\n",
    "    test_ohe = dv.transform(test_dicts)\n",
    "\n",
    "    # Train the model with these features:\n",
    "    model = LogisticRegression(solver=\"liblinear\", C=1, max_iter=1000)\n",
    "    model.fit(train_ohe, y_train)\n",
    "\n",
    "    # Get predictions from the model\n",
    "    y_pred_train = model.predict_proba(train_ohe)[:, 1]\n",
    "    y_pred_val = model.predict_proba(val_ohe)[:, 1]\n",
    "    y_pred_test = model.predict_proba(test_ohe)[:, 1]\n",
    "\n",
    "    # Plot precision recall curves\n",
    "    print(\"Precision and Recall for train dataset:\\n\")\n",
    "    df_scores_train = plot_precision_recall_curve(y_train, y_pred_train, thresholds)\n",
    "    print(\"Precision and Recall for validation dataset:\\n\")\n",
    "    df_scores_val = plot_precision_recall_curve(y_val, y_pred_val, thresholds)\n",
    "    print(\"Precision and Recall for test dataset:\\n\")\n",
    "    df_scores_test = plot_precision_recall_curve(y_test, y_pred_test, thresholds)\n",
    "\n",
    "    return df_scores_train, df_scores_val, df_scores_test"
   ]
  },
  {
   "cell_type": "code",
   "execution_count": 146,
   "id": "08ab3692",
   "metadata": {},
   "outputs": [],
   "source": [
    "def compute_f1_score(y_true, y_pred, thresholds) -> pd.DataFrame:\n",
    "    \"\"\"\n",
    "    From y_true values and y_pred values, plot the precision recall curve according to the array of thresholds.\n",
    "    Args:\n",
    "        y_true: np.array, true y values\n",
    "        y_pred: np.array, predicted y values\n",
    "        thresholds: np.array, the thresholds\n",
    "    Returns:\n",
    "        df_scores: pandas dataframe containing thresholds, tp, tn, fp, fn, precision, recall and f1-score values as columns\n",
    "    \"\"\"\n",
    "\n",
    "    # Instantiate scores lists\n",
    "    scores = []\n",
    "\n",
    "    for threshold in tqdm(thresholds):\n",
    "        actual_positive = y_true == 1\n",
    "        actual_negative = y_true == 0\n",
    "\n",
    "        predict_positive = y_pred >= threshold\n",
    "        predict_negative = y_pred < threshold\n",
    "\n",
    "        tp = (predict_positive & actual_positive).sum()\n",
    "        tn = (predict_negative & actual_negative).sum()\n",
    "\n",
    "        fp = (predict_positive & actual_negative).sum()\n",
    "        fn = (predict_negative & actual_positive).sum()\n",
    "\n",
    "        scores.append((threshold, tp, fp, fn, tn))\n",
    "\n",
    "    columns = [\"threshold\", \"tp\", \"fp\", \"fn\", \"tn\"]\n",
    "    df_scores = pd.DataFrame(scores, columns=columns)\n",
    "\n",
    "    df_scores[\"precision\"] = df_scores.tp / (df_scores.tp + df_scores.fp)\n",
    "    df_scores[\"recall\"] = df_scores.tp / (df_scores.tp + df_scores.fn)\n",
    "\n",
    "    # Compute the f1-score\n",
    "    df_scores[\"f1_score\"] = (\n",
    "        2\n",
    "        * (df_scores[\"precision\"] * df_scores[\"recall\"])\n",
    "        / (df_scores[\"precision\"] + df_scores[\"recall\"])\n",
    "    )\n",
    "\n",
    "    # Get the threshold for which the F1 score is maximal\n",
    "    max_threshold = df_scores[df_scores[\"f1_score\"] == df_scores[\"f1_score\"].max()][\n",
    "        \"threshold\"\n",
    "    ]\n",
    "\n",
    "    # Plot the F1-score\n",
    "    plt.plot(df_scores[\"threshold\"], df_scores[\"f1_score\"])\n",
    "    plt.xticks(np.linspace(0, 1, 11))\n",
    "    plt.show()\n",
    "\n",
    "    print(f\"The threshold for which the F1-score is maximal is : {max_threshold}.\")\n",
    "\n",
    "    return df_scores"
   ]
  },
  {
   "cell_type": "code",
   "execution_count": 142,
   "id": "0b9767cc",
   "metadata": {},
   "outputs": [],
   "source": [
    "def logistic_f1_score_feature_selection(\n",
    "    feature_list: List[str],\n",
    "    train_df: pd.DataFrame,\n",
    "    val_df: pd.DataFrame,\n",
    "    test_df: pd.DataFrame,\n",
    "    y_train: np.array,\n",
    "    y_val: np.array,\n",
    "    y_test: np.array,\n",
    "    thresholds: np.array,\n",
    ") -> Tuple[pd.DataFrame, pd.DataFrame, pd.DataFrame]:\n",
    "    \"\"\"\n",
    "    Computes the accuracy of a logistic regression model trained on the provided training data, for training, validation\n",
    "    and test data. The provided matrices should already be encoded for categorical variables.\n",
    "    The logistic regression model has these parameters (fixed for this exercise): solver=\"liblinear\", C=1.0, max_iter=1000, random_state=42.\n",
    "\n",
    "    Args:\n",
    "        feature_list: list of strings containing the features we want to keep in our feature matrices.\n",
    "        train_df: pandas dataframe containing the training dataset values (features only)\n",
    "        val_df: pandas dataframe containing the validation dataset values (features only)\n",
    "        test_df: pandas dataframe containing the test dataset values (features only)\n",
    "        y_train: numpy array containing the target values for the training dataset\n",
    "        y_val: numpy array containing the target values for the validation dataset\n",
    "        y_test: numpy array containing the target values for the test dataset\n",
    "        threshold: float, the threshold above which the predicted class is equal to 1\n",
    "\n",
    "    Returns:\n",
    "        df_scores_train: pandas dataframe containing thresholds, tp, tn, fp, fn, precision, recall and f1-score values as columns for the training dataset\n",
    "        df_scores_val: pandas dataframe containing thresholds, tp, tn, fp, fn, precision, recall and f1-score values as columns for the validation dataset\n",
    "        df_scores_test: pandas dataframe containing thresholds, tp, tn, fp, fn, precision, recall and f1-score values as columns for the test dataset\n",
    "    \"\"\"\n",
    "\n",
    "    # Select the input features in our input dataframes\n",
    "    train_selection = train_df[feature_list]\n",
    "    val_selection = val_df[feature_list]\n",
    "    test_selection = test_df[feature_list]\n",
    "\n",
    "    # Create dictionaries from input dataframes obtained after splitting the data\n",
    "    train_dicts = train_selection.to_dict(orient=\"records\")\n",
    "    val_dicts = val_selection.to_dict(orient=\"records\")\n",
    "    test_dicts = test_selection.to_dict(orient=\"records\")\n",
    "\n",
    "    # Initiate the DictVectorizer and fit it on the train data dictionary\n",
    "    dv = DictVectorizer(sparse=False)\n",
    "    dv.fit(train_dicts)\n",
    "\n",
    "    # Obtain the transformed features using the fitted DictVectorizer\n",
    "    train_ohe = dv.transform(train_dicts)\n",
    "    val_ohe = dv.transform(val_dicts)\n",
    "    test_ohe = dv.transform(test_dicts)\n",
    "\n",
    "    # Train the model with these features:\n",
    "    model = LogisticRegression(solver=\"liblinear\", C=1, max_iter=1000)\n",
    "    model.fit(train_ohe, y_train)\n",
    "\n",
    "    # Get predictions from the model\n",
    "    y_pred_train = model.predict_proba(train_ohe)[:, 1]\n",
    "    y_pred_val = model.predict_proba(val_ohe)[:, 1]\n",
    "    y_pred_test = model.predict_proba(test_ohe)[:, 1]\n",
    "\n",
    "    # Compute F1-scores\n",
    "    print(\"Threshold corresponding to the maximum F1-score for the training data:\")\n",
    "    df_scores_train = compute_f1_score(y_train, y_pred_train, thresholds)\n",
    "    print(\"Threshold corresponding to the maximum F1-score for the validation data:\")\n",
    "    df_scores_val = compute_f1_score(y_val, y_pred_val, thresholds)\n",
    "    print(\"Threshold corresponding to the maximum F1-score for the test data:\")\n",
    "    df_scores_test = compute_f1_score(y_test, y_pred_test, thresholds)\n",
    "\n",
    "    return df_scores_train, df_scores_val, df_scores_test"
   ]
  },
  {
   "cell_type": "code",
   "execution_count": 170,
   "id": "f6106180",
   "metadata": {},
   "outputs": [],
   "source": [
    "def train(feature_list, df_train, y_train, C=1.0):\n",
    "    dicts = df_train[feature_list].to_dict(orient=\"records\")\n",
    "\n",
    "    dv = DictVectorizer(sparse=False)\n",
    "    X_train = dv.fit_transform(dicts)\n",
    "\n",
    "    model = LogisticRegression(solver=\"liblinear\", C=C, max_iter=1000)\n",
    "    model.fit(X_train, y_train)\n",
    "\n",
    "    return dv, model\n",
    "\n",
    "\n",
    "def predict(feature_list, df, dv, model):\n",
    "    dicts = df[feature_list].to_dict(orient=\"records\")\n",
    "\n",
    "    X = dv.transform(dicts)\n",
    "    y_pred = model.predict_proba(X)[:, 1]\n",
    "\n",
    "    return y_pred"
   ]
  },
  {
   "cell_type": "markdown",
   "id": "0fb981f2",
   "metadata": {},
   "source": [
    "# Data loading"
   ]
  },
  {
   "cell_type": "code",
   "execution_count": 3,
   "id": "ba5dfa9a",
   "metadata": {},
   "outputs": [],
   "source": [
    "data = pd.read_csv(\"car_price.csv\")"
   ]
  },
  {
   "cell_type": "code",
   "execution_count": 4,
   "id": "b3aa4cdc",
   "metadata": {},
   "outputs": [
    {
     "data": {
      "text/html": [
       "<div>\n",
       "<style scoped>\n",
       "    .dataframe tbody tr th:only-of-type {\n",
       "        vertical-align: middle;\n",
       "    }\n",
       "\n",
       "    .dataframe tbody tr th {\n",
       "        vertical-align: top;\n",
       "    }\n",
       "\n",
       "    .dataframe thead th {\n",
       "        text-align: right;\n",
       "    }\n",
       "</style>\n",
       "<table border=\"1\" class=\"dataframe\">\n",
       "  <thead>\n",
       "    <tr style=\"text-align: right;\">\n",
       "      <th></th>\n",
       "      <th>Make</th>\n",
       "      <th>Model</th>\n",
       "      <th>Year</th>\n",
       "      <th>Engine Fuel Type</th>\n",
       "      <th>Engine HP</th>\n",
       "      <th>Engine Cylinders</th>\n",
       "      <th>Transmission Type</th>\n",
       "      <th>Driven_Wheels</th>\n",
       "      <th>Number of Doors</th>\n",
       "      <th>Market Category</th>\n",
       "      <th>Vehicle Size</th>\n",
       "      <th>Vehicle Style</th>\n",
       "      <th>highway MPG</th>\n",
       "      <th>city mpg</th>\n",
       "      <th>Popularity</th>\n",
       "      <th>MSRP</th>\n",
       "    </tr>\n",
       "  </thead>\n",
       "  <tbody>\n",
       "    <tr>\n",
       "      <th>0</th>\n",
       "      <td>BMW</td>\n",
       "      <td>1 Series M</td>\n",
       "      <td>2011</td>\n",
       "      <td>premium unleaded (required)</td>\n",
       "      <td>335.0</td>\n",
       "      <td>6.0</td>\n",
       "      <td>MANUAL</td>\n",
       "      <td>rear wheel drive</td>\n",
       "      <td>2.0</td>\n",
       "      <td>Factory Tuner,Luxury,High-Performance</td>\n",
       "      <td>Compact</td>\n",
       "      <td>Coupe</td>\n",
       "      <td>26</td>\n",
       "      <td>19</td>\n",
       "      <td>3916</td>\n",
       "      <td>46135</td>\n",
       "    </tr>\n",
       "    <tr>\n",
       "      <th>1</th>\n",
       "      <td>BMW</td>\n",
       "      <td>1 Series</td>\n",
       "      <td>2011</td>\n",
       "      <td>premium unleaded (required)</td>\n",
       "      <td>300.0</td>\n",
       "      <td>6.0</td>\n",
       "      <td>MANUAL</td>\n",
       "      <td>rear wheel drive</td>\n",
       "      <td>2.0</td>\n",
       "      <td>Luxury,Performance</td>\n",
       "      <td>Compact</td>\n",
       "      <td>Convertible</td>\n",
       "      <td>28</td>\n",
       "      <td>19</td>\n",
       "      <td>3916</td>\n",
       "      <td>40650</td>\n",
       "    </tr>\n",
       "    <tr>\n",
       "      <th>2</th>\n",
       "      <td>BMW</td>\n",
       "      <td>1 Series</td>\n",
       "      <td>2011</td>\n",
       "      <td>premium unleaded (required)</td>\n",
       "      <td>300.0</td>\n",
       "      <td>6.0</td>\n",
       "      <td>MANUAL</td>\n",
       "      <td>rear wheel drive</td>\n",
       "      <td>2.0</td>\n",
       "      <td>Luxury,High-Performance</td>\n",
       "      <td>Compact</td>\n",
       "      <td>Coupe</td>\n",
       "      <td>28</td>\n",
       "      <td>20</td>\n",
       "      <td>3916</td>\n",
       "      <td>36350</td>\n",
       "    </tr>\n",
       "    <tr>\n",
       "      <th>3</th>\n",
       "      <td>BMW</td>\n",
       "      <td>1 Series</td>\n",
       "      <td>2011</td>\n",
       "      <td>premium unleaded (required)</td>\n",
       "      <td>230.0</td>\n",
       "      <td>6.0</td>\n",
       "      <td>MANUAL</td>\n",
       "      <td>rear wheel drive</td>\n",
       "      <td>2.0</td>\n",
       "      <td>Luxury,Performance</td>\n",
       "      <td>Compact</td>\n",
       "      <td>Coupe</td>\n",
       "      <td>28</td>\n",
       "      <td>18</td>\n",
       "      <td>3916</td>\n",
       "      <td>29450</td>\n",
       "    </tr>\n",
       "    <tr>\n",
       "      <th>4</th>\n",
       "      <td>BMW</td>\n",
       "      <td>1 Series</td>\n",
       "      <td>2011</td>\n",
       "      <td>premium unleaded (required)</td>\n",
       "      <td>230.0</td>\n",
       "      <td>6.0</td>\n",
       "      <td>MANUAL</td>\n",
       "      <td>rear wheel drive</td>\n",
       "      <td>2.0</td>\n",
       "      <td>Luxury</td>\n",
       "      <td>Compact</td>\n",
       "      <td>Convertible</td>\n",
       "      <td>28</td>\n",
       "      <td>18</td>\n",
       "      <td>3916</td>\n",
       "      <td>34500</td>\n",
       "    </tr>\n",
       "  </tbody>\n",
       "</table>\n",
       "</div>"
      ],
      "text/plain": [
       "  Make       Model  Year             Engine Fuel Type  Engine HP  \\\n",
       "0  BMW  1 Series M  2011  premium unleaded (required)      335.0   \n",
       "1  BMW    1 Series  2011  premium unleaded (required)      300.0   \n",
       "2  BMW    1 Series  2011  premium unleaded (required)      300.0   \n",
       "3  BMW    1 Series  2011  premium unleaded (required)      230.0   \n",
       "4  BMW    1 Series  2011  premium unleaded (required)      230.0   \n",
       "\n",
       "   Engine Cylinders Transmission Type     Driven_Wheels  Number of Doors  \\\n",
       "0               6.0            MANUAL  rear wheel drive              2.0   \n",
       "1               6.0            MANUAL  rear wheel drive              2.0   \n",
       "2               6.0            MANUAL  rear wheel drive              2.0   \n",
       "3               6.0            MANUAL  rear wheel drive              2.0   \n",
       "4               6.0            MANUAL  rear wheel drive              2.0   \n",
       "\n",
       "                         Market Category Vehicle Size Vehicle Style  \\\n",
       "0  Factory Tuner,Luxury,High-Performance      Compact         Coupe   \n",
       "1                     Luxury,Performance      Compact   Convertible   \n",
       "2                Luxury,High-Performance      Compact         Coupe   \n",
       "3                     Luxury,Performance      Compact         Coupe   \n",
       "4                                 Luxury      Compact   Convertible   \n",
       "\n",
       "   highway MPG  city mpg  Popularity   MSRP  \n",
       "0           26        19        3916  46135  \n",
       "1           28        19        3916  40650  \n",
       "2           28        20        3916  36350  \n",
       "3           28        18        3916  29450  \n",
       "4           28        18        3916  34500  "
      ]
     },
     "execution_count": 4,
     "metadata": {},
     "output_type": "execute_result"
    }
   ],
   "source": [
    "data.head(5)"
   ]
  },
  {
   "cell_type": "markdown",
   "id": "dbe1f2d3",
   "metadata": {},
   "source": [
    "# Data preparation"
   ]
  },
  {
   "cell_type": "code",
   "execution_count": 7,
   "id": "f84bf3bc",
   "metadata": {},
   "outputs": [],
   "source": [
    "columns_to_keep = [\n",
    "    \"Make\",\n",
    "    \"Model\",\n",
    "    \"Year\",\n",
    "    \"Engine HP\",\n",
    "    \"Engine Cylinders\",\n",
    "    \"Transmission Type\",\n",
    "    \"Vehicle Style\",\n",
    "    \"highway MPG\",\n",
    "    \"city mpg\",\n",
    "    \"MSRP\",\n",
    "]"
   ]
  },
  {
   "cell_type": "code",
   "execution_count": 8,
   "id": "7a4ea5e0",
   "metadata": {},
   "outputs": [],
   "source": [
    "data = data[columns_to_keep]"
   ]
  },
  {
   "cell_type": "code",
   "execution_count": 9,
   "id": "16012073",
   "metadata": {},
   "outputs": [
    {
     "data": {
      "text/html": [
       "<div>\n",
       "<style scoped>\n",
       "    .dataframe tbody tr th:only-of-type {\n",
       "        vertical-align: middle;\n",
       "    }\n",
       "\n",
       "    .dataframe tbody tr th {\n",
       "        vertical-align: top;\n",
       "    }\n",
       "\n",
       "    .dataframe thead th {\n",
       "        text-align: right;\n",
       "    }\n",
       "</style>\n",
       "<table border=\"1\" class=\"dataframe\">\n",
       "  <thead>\n",
       "    <tr style=\"text-align: right;\">\n",
       "      <th></th>\n",
       "      <th>Make</th>\n",
       "      <th>Model</th>\n",
       "      <th>Year</th>\n",
       "      <th>Engine HP</th>\n",
       "      <th>Engine Cylinders</th>\n",
       "      <th>Transmission Type</th>\n",
       "      <th>Vehicle Style</th>\n",
       "      <th>highway MPG</th>\n",
       "      <th>city mpg</th>\n",
       "      <th>MSRP</th>\n",
       "    </tr>\n",
       "  </thead>\n",
       "  <tbody>\n",
       "    <tr>\n",
       "      <th>0</th>\n",
       "      <td>BMW</td>\n",
       "      <td>1 Series M</td>\n",
       "      <td>2011</td>\n",
       "      <td>335.0</td>\n",
       "      <td>6.0</td>\n",
       "      <td>MANUAL</td>\n",
       "      <td>Coupe</td>\n",
       "      <td>26</td>\n",
       "      <td>19</td>\n",
       "      <td>46135</td>\n",
       "    </tr>\n",
       "    <tr>\n",
       "      <th>1</th>\n",
       "      <td>BMW</td>\n",
       "      <td>1 Series</td>\n",
       "      <td>2011</td>\n",
       "      <td>300.0</td>\n",
       "      <td>6.0</td>\n",
       "      <td>MANUAL</td>\n",
       "      <td>Convertible</td>\n",
       "      <td>28</td>\n",
       "      <td>19</td>\n",
       "      <td>40650</td>\n",
       "    </tr>\n",
       "    <tr>\n",
       "      <th>2</th>\n",
       "      <td>BMW</td>\n",
       "      <td>1 Series</td>\n",
       "      <td>2011</td>\n",
       "      <td>300.0</td>\n",
       "      <td>6.0</td>\n",
       "      <td>MANUAL</td>\n",
       "      <td>Coupe</td>\n",
       "      <td>28</td>\n",
       "      <td>20</td>\n",
       "      <td>36350</td>\n",
       "    </tr>\n",
       "    <tr>\n",
       "      <th>3</th>\n",
       "      <td>BMW</td>\n",
       "      <td>1 Series</td>\n",
       "      <td>2011</td>\n",
       "      <td>230.0</td>\n",
       "      <td>6.0</td>\n",
       "      <td>MANUAL</td>\n",
       "      <td>Coupe</td>\n",
       "      <td>28</td>\n",
       "      <td>18</td>\n",
       "      <td>29450</td>\n",
       "    </tr>\n",
       "    <tr>\n",
       "      <th>4</th>\n",
       "      <td>BMW</td>\n",
       "      <td>1 Series</td>\n",
       "      <td>2011</td>\n",
       "      <td>230.0</td>\n",
       "      <td>6.0</td>\n",
       "      <td>MANUAL</td>\n",
       "      <td>Convertible</td>\n",
       "      <td>28</td>\n",
       "      <td>18</td>\n",
       "      <td>34500</td>\n",
       "    </tr>\n",
       "  </tbody>\n",
       "</table>\n",
       "</div>"
      ],
      "text/plain": [
       "  Make       Model  Year  Engine HP  Engine Cylinders Transmission Type  \\\n",
       "0  BMW  1 Series M  2011      335.0               6.0            MANUAL   \n",
       "1  BMW    1 Series  2011      300.0               6.0            MANUAL   \n",
       "2  BMW    1 Series  2011      300.0               6.0            MANUAL   \n",
       "3  BMW    1 Series  2011      230.0               6.0            MANUAL   \n",
       "4  BMW    1 Series  2011      230.0               6.0            MANUAL   \n",
       "\n",
       "  Vehicle Style  highway MPG  city mpg   MSRP  \n",
       "0         Coupe           26        19  46135  \n",
       "1   Convertible           28        19  40650  \n",
       "2         Coupe           28        20  36350  \n",
       "3         Coupe           28        18  29450  \n",
       "4   Convertible           28        18  34500  "
      ]
     },
     "execution_count": 9,
     "metadata": {},
     "output_type": "execute_result"
    }
   ],
   "source": [
    "data.head(5)"
   ]
  },
  {
   "cell_type": "markdown",
   "id": "ea86fee8",
   "metadata": {},
   "source": [
    "Lowercase the column names and replace spaces with underscores:"
   ]
  },
  {
   "cell_type": "code",
   "execution_count": 11,
   "id": "5a0c0096",
   "metadata": {},
   "outputs": [],
   "source": [
    "data.columns = data.columns.str.replace(\" \", \"_\").str.lower()"
   ]
  },
  {
   "cell_type": "markdown",
   "id": "1661cdd3",
   "metadata": {},
   "source": [
    "Fill the missing values with 0:"
   ]
  },
  {
   "cell_type": "code",
   "execution_count": 12,
   "id": "31666ab4",
   "metadata": {},
   "outputs": [],
   "source": [
    "data = data.fillna(0)"
   ]
  },
  {
   "cell_type": "markdown",
   "id": "827203a4",
   "metadata": {},
   "source": [
    "Make the price binary (1 if above the average, 0 otherwise) - this will be our target variable above_average:"
   ]
  },
  {
   "cell_type": "code",
   "execution_count": 15,
   "id": "99c9cd7a",
   "metadata": {},
   "outputs": [],
   "source": [
    "# Rename the msrp column to \"price\"\n",
    "data = data.rename(columns={\"msrp\": \"price\"})\n",
    "\n",
    "price_average = data[\"price\"].mean()"
   ]
  },
  {
   "cell_type": "code",
   "execution_count": 16,
   "id": "cbc47c48",
   "metadata": {},
   "outputs": [
    {
     "data": {
      "text/plain": [
       "40594.737032063116"
      ]
     },
     "execution_count": 16,
     "metadata": {},
     "output_type": "execute_result"
    }
   ],
   "source": [
    "price_average"
   ]
  },
  {
   "cell_type": "code",
   "execution_count": 17,
   "id": "8ad3bba5",
   "metadata": {},
   "outputs": [],
   "source": [
    "# Add a new column according to this mean price\n",
    "data[\"above_average\"] = np.where(data[\"price\"] > price_average, 1, 0)"
   ]
  },
  {
   "cell_type": "code",
   "execution_count": 28,
   "id": "a2d2b9c4",
   "metadata": {},
   "outputs": [],
   "source": [
    "# Here I remove the \"price column\"\n",
    "del data[\"price\"]"
   ]
  },
  {
   "cell_type": "markdown",
   "id": "e5681d54",
   "metadata": {},
   "source": [
    "Split the data into 3 parts: train/validation/test with 60%/20%/20% distribution. Use train_test_split function for that with random_state=1:"
   ]
  },
  {
   "cell_type": "code",
   "execution_count": 29,
   "id": "f8bbaeb6",
   "metadata": {},
   "outputs": [],
   "source": [
    "# First generate the full training dataset and the test dataset\n",
    "full_train, test = train_test_split(data, test_size=0.2, random_state=1)"
   ]
  },
  {
   "cell_type": "code",
   "execution_count": 30,
   "id": "205a7d6e",
   "metadata": {},
   "outputs": [],
   "source": [
    "# Then separate the full training dataset into train and validation datasets. We have to adjust the proportions:\n",
    "# we need 20% of the total number of rows from the 80% of values, which means we are looking for 0.25 proportion for the validation dataset\n",
    "train, val = train_test_split(full_train, test_size=0.25, random_state=1)"
   ]
  },
  {
   "cell_type": "code",
   "execution_count": 31,
   "id": "2193ddfe",
   "metadata": {},
   "outputs": [
    {
     "data": {
      "text/plain": [
       "Index(['make', 'model', 'year', 'engine_hp', 'engine_cylinders',\n",
       "       'transmission_type', 'vehicle_style', 'highway_mpg', 'city_mpg',\n",
       "       'above_average'],\n",
       "      dtype='object')"
      ]
     },
     "execution_count": 31,
     "metadata": {},
     "output_type": "execute_result"
    }
   ],
   "source": [
    "train.columns"
   ]
  },
  {
   "cell_type": "code",
   "execution_count": 32,
   "id": "198e9cf5",
   "metadata": {},
   "outputs": [],
   "source": [
    "train, val, test, y_train, y_val, y_test = separate_target_from_features(\n",
    "    train, val, test, \"above_average\"\n",
    ")"
   ]
  },
  {
   "cell_type": "code",
   "execution_count": 33,
   "id": "a6e8da98",
   "metadata": {},
   "outputs": [
    {
     "data": {
      "text/plain": [
       "Index(['make', 'model', 'year', 'engine_hp', 'engine_cylinders',\n",
       "       'transmission_type', 'vehicle_style', 'highway_mpg', 'city_mpg'],\n",
       "      dtype='object')"
      ]
     },
     "execution_count": 33,
     "metadata": {},
     "output_type": "execute_result"
    }
   ],
   "source": [
    "train.columns"
   ]
  },
  {
   "cell_type": "code",
   "execution_count": 34,
   "id": "c26bb2d8",
   "metadata": {},
   "outputs": [
    {
     "data": {
      "text/plain": [
       "5727    1\n",
       "5814    0\n",
       "8450    0\n",
       "2396    1\n",
       "5494    0\n",
       "       ..\n",
       "5864    0\n",
       "7924    0\n",
       "4719    0\n",
       "63      0\n",
       "7918    0\n",
       "Name: above_average, Length: 7148, dtype: int32"
      ]
     },
     "execution_count": 34,
     "metadata": {},
     "output_type": "execute_result"
    }
   ],
   "source": [
    "y_train"
   ]
  },
  {
   "cell_type": "markdown",
   "id": "26334024",
   "metadata": {},
   "source": [
    "# Question 1: ROC AUC feature importance"
   ]
  },
  {
   "cell_type": "markdown",
   "id": "d1cabe4f",
   "metadata": {},
   "source": [
    "ROC AUC could also be used to evaluate feature importance of numerical variables.\n",
    "\n",
    "Let's do that\n",
    "\n",
    "- For each numerical variable, use it as score and compute AUC with the above_average variable\n",
    "- Use the training dataset for that\n",
    "- If your AUC is < 0.5, invert this variable by putting \"-\" in front (e.g. -df_train['engine_hp'])\n",
    "\n",
    "\n",
    "AUC can go below 0.5 if the variable is negatively correlated with the target variable. \n",
    "\n",
    "You can change the direction of the correlation by negating this variable - then negative correlation becomes positive.\n",
    "\n",
    "Which numerical variable (among the following 4) has the highest AUC?\n",
    "\n",
    "- engine_hp\n",
    "- engine_cylinders\n",
    "- highway_mpg\n",
    "- city_mpg"
   ]
  },
  {
   "cell_type": "code",
   "execution_count": 35,
   "id": "600a1e2e",
   "metadata": {},
   "outputs": [],
   "source": [
    "numerical_variables = [\"engine_hp\", \"engine_cylinders\", \"highway_mpg\", \"city_mpg\"]"
   ]
  },
  {
   "cell_type": "code",
   "execution_count": 41,
   "id": "aaa819ad",
   "metadata": {},
   "outputs": [
    {
     "data": {
      "text/plain": [
       "5727    280.0\n",
       "5814    300.0\n",
       "8450    259.0\n",
       "2396    280.0\n",
       "5494    283.0\n",
       "        ...  \n",
       "5864    148.0\n",
       "7924    325.0\n",
       "4719    130.0\n",
       "63      162.0\n",
       "7918    240.0\n",
       "Name: engine_hp, Length: 7148, dtype: float64"
      ]
     },
     "execution_count": 41,
     "metadata": {},
     "output_type": "execute_result"
    }
   ],
   "source": [
    "train[\"engine_hp\"]"
   ]
  },
  {
   "cell_type": "code",
   "execution_count": 44,
   "id": "c3150640",
   "metadata": {},
   "outputs": [
    {
     "name": "stdout",
     "output_type": "stream",
     "text": [
      "The ROC AUC between above_average and engine_hp is equal to 0.917.\n",
      "The ROC AUC between above_average and engine_cylinders is equal to 0.766.\n",
      "The ROC AUC between above_average and highway_mpg is equal to 0.367.\n",
      "The ROC AUC between above_average and city_mpg is equal to 0.327.\n"
     ]
    }
   ],
   "source": [
    "# For each numerical variable, use it as score and compute AUC with the above_average variable\n",
    "\n",
    "for column in numerical_variables:\n",
    "    column_auc = roc_auc_score(y_train, train[column])\n",
    "    if column_auc < 0:\n",
    "        column_auc = roc_auc_score(y_train, -train[column])\n",
    "    print(\n",
    "        f\"The ROC AUC between above_average and {column} is equal to {round(column_auc,3)}.\"\n",
    "    )"
   ]
  },
  {
   "cell_type": "markdown",
   "id": "45ff0e24",
   "metadata": {},
   "source": [
    "The numerical variable \"engine_hp\" has the highest ROC AUC when compared to y_train."
   ]
  },
  {
   "cell_type": "markdown",
   "id": "806aaf7c",
   "metadata": {},
   "source": [
    "# Question 2: Training the model"
   ]
  },
  {
   "cell_type": "markdown",
   "id": "716a42f5",
   "metadata": {},
   "source": [
    "Apply one-hot-encoding using DictVectorizer and train the logistic regression with these parameters:\n",
    "\n",
    "- LogisticRegression(solver='liblinear', C=1.0, max_iter=1000)\n",
    "\n",
    "What's the AUC of this model on the validation dataset? (round to 3 digits)"
   ]
  },
  {
   "cell_type": "code",
   "execution_count": 61,
   "id": "ecea6f4f",
   "metadata": {},
   "outputs": [
    {
     "name": "stdout",
     "output_type": "stream",
     "text": [
      "Training Accuracy Score 0.95\n",
      "Validation Accuracy Score 0.94\n",
      "Test Accuracy Score 0.93\n",
      "The ROC AUC score obtained on the training data is 0.987.\n",
      "The ROC AUC score obtained on the validation data is 0.9802.\n",
      "The ROC AUC score obtained on the test data is 0.9801.\n"
     ]
    }
   ],
   "source": [
    "score_train, score_val, score_test = logistic_regression_metrics_feature_selection(\n",
    "    train.columns, train, val, test, y_train, y_val, y_test\n",
    ")"
   ]
  },
  {
   "cell_type": "markdown",
   "id": "3c3c94d4",
   "metadata": {},
   "source": [
    "The ROC AUC obtained on the validation data is very close to 0.979."
   ]
  },
  {
   "cell_type": "markdown",
   "id": "ea94f98f",
   "metadata": {},
   "source": [
    "# Question 3 : Precision and Recall"
   ]
  },
  {
   "cell_type": "markdown",
   "id": "34b5f405",
   "metadata": {},
   "source": [
    "Now let's compute precision and recall for our model.\n",
    "\n",
    "- Evaluate the model on all thresholds from 0.0 to 1.0 with step 0.01\n",
    "- For each threshold, compute precision and recall\n",
    "- Plot them\n",
    "\n",
    "At which threshold precision and recall curves intersect?"
   ]
  },
  {
   "cell_type": "code",
   "execution_count": 63,
   "id": "8413f737",
   "metadata": {},
   "outputs": [
    {
     "data": {
      "text/plain": [
       "100.0"
      ]
     },
     "execution_count": 63,
     "metadata": {},
     "output_type": "execute_result"
    }
   ],
   "source": [
    "number = 1 / 0.01\n",
    "number"
   ]
  },
  {
   "cell_type": "code",
   "execution_count": 66,
   "id": "693455b3",
   "metadata": {},
   "outputs": [],
   "source": [
    "thresholds = np.linspace(0.0, 1.0, 101)"
   ]
  },
  {
   "cell_type": "code",
   "execution_count": 131,
   "id": "350886a7",
   "metadata": {},
   "outputs": [
    {
     "name": "stdout",
     "output_type": "stream",
     "text": [
      "Precision and Recall for train dataset:\n",
      "\n"
     ]
    },
    {
     "data": {
      "application/vnd.jupyter.widget-view+json": {
       "model_id": "9e743a88d5b2457483b68bfa61f558c9",
       "version_major": 2,
       "version_minor": 0
      },
      "text/plain": [
       "  0%|          | 0/101 [00:00<?, ?it/s]"
      ]
     },
     "metadata": {},
     "output_type": "display_data"
    },
    {
     "name": "stdout",
     "output_type": "stream",
     "text": [
      "The precision and recall curves intersect at a threshold equal to 45    0.45\n",
      "99    0.99\n",
      "Name: threshold, dtype: float64.\n"
     ]
    },
    {
     "data": {
      "image/png": "[encoded data removed]",
      "text/plain": [
       "<Figure size 600x400 with 1 Axes>"
      ]
     },
     "metadata": {},
     "output_type": "display_data"
    },
    {
     "name": "stdout",
     "output_type": "stream",
     "text": [
      "Precision and Recall for validation dataset:\n",
      "\n"
     ]
    },
    {
     "data": {
      "application/vnd.jupyter.widget-view+json": {
       "model_id": "0680516f7e494e4ea4a9bd8b8ead9b2c",
       "version_major": 2,
       "version_minor": 0
      },
      "text/plain": [
       "  0%|          | 0/101 [00:00<?, ?it/s]"
      ]
     },
     "metadata": {},
     "output_type": "display_data"
    },
    {
     "name": "stdout",
     "output_type": "stream",
     "text": [
      "The precision and recall curves intersect at a threshold equal to 48    0.48\n",
      "99    0.99\n",
      "Name: threshold, dtype: float64.\n"
     ]
    },
    {
     "data": {
      "image/png": "[encoded data removed]",
      "text/plain": [
       "<Figure size 600x400 with 1 Axes>"
      ]
     },
     "metadata": {},
     "output_type": "display_data"
    },
    {
     "name": "stdout",
     "output_type": "stream",
     "text": [
      "Precision and Recall for test dataset:\n",
      "\n"
     ]
    },
    {
     "data": {
      "application/vnd.jupyter.widget-view+json": {
       "model_id": "f8dfef1d76844d6b89fc35dc9e4bc679",
       "version_major": 2,
       "version_minor": 0
      },
      "text/plain": [
       "  0%|          | 0/101 [00:00<?, ?it/s]"
      ]
     },
     "metadata": {},
     "output_type": "display_data"
    },
    {
     "name": "stdout",
     "output_type": "stream",
     "text": [
      "The precision and recall curves intersect at a threshold equal to 43    0.43\n",
      "44    0.44\n",
      "99    0.99\n",
      "Name: threshold, dtype: float64.\n"
     ]
    },
    {
     "data": {
      "image/png": "[encoded data removed]",
      "text/plain": [
       "<Figure size 600x400 with 1 Axes>"
      ]
     },
     "metadata": {},
     "output_type": "display_data"
    }
   ],
   "source": [
    "_, _, _ = logistic_regression_precision_recall_feature_selection(\n",
    "    train.columns, train, val, test, y_train, y_val, y_test, thresholds\n",
    ")"
   ]
  },
  {
   "cell_type": "markdown",
   "id": "327f8940",
   "metadata": {},
   "source": [
    "For the validation data, precision and recall curves intersect at a threshold equal to 0.48."
   ]
  },
  {
   "cell_type": "markdown",
   "id": "d438a58d",
   "metadata": {},
   "source": [
    "# Question 4: F1-score"
   ]
  },
  {
   "cell_type": "markdown",
   "id": "afb8fc3b",
   "metadata": {},
   "source": [
    "Precision and recall are conflicting - when one grows, the other goes down. That's why they are often combined into the F1 score - a metrics that takes into account both.\n",
    "\n",
    "At which threshold F1 is maximal?"
   ]
  },
  {
   "cell_type": "code",
   "execution_count": 147,
   "id": "2098b497",
   "metadata": {},
   "outputs": [
    {
     "name": "stdout",
     "output_type": "stream",
     "text": [
      "Threshold corresponding to the maximum F1-score for the training data:\n"
     ]
    },
    {
     "data": {
      "application/vnd.jupyter.widget-view+json": {
       "model_id": "2128e7da2c614a1ea70223a1b9560670",
       "version_major": 2,
       "version_minor": 0
      },
      "text/plain": [
       "  0%|          | 0/101 [00:00<?, ?it/s]"
      ]
     },
     "metadata": {},
     "output_type": "display_data"
    },
    {
     "data": {
      "image/png": "[encoded data removed]",
      "text/plain": [
       "<Figure size 640x480 with 1 Axes>"
      ]
     },
     "metadata": {},
     "output_type": "display_data"
    },
    {
     "name": "stdout",
     "output_type": "stream",
     "text": [
      "The threshold for which the F1-score is maximal is : 46    0.46\n",
      "Name: threshold, dtype: float64.\n",
      "Threshold corresponding to the maximum F1-score for the validation data:\n"
     ]
    },
    {
     "data": {
      "application/vnd.jupyter.widget-view+json": {
       "model_id": "45a8f469c1874d4cbbeea2ebdb38c17b",
       "version_major": 2,
       "version_minor": 0
      },
      "text/plain": [
       "  0%|          | 0/101 [00:00<?, ?it/s]"
      ]
     },
     "metadata": {},
     "output_type": "display_data"
    },
    {
     "data": {
      "image/png": "[encoded data removed]",
      "text/plain": [
       "<Figure size 640x480 with 1 Axes>"
      ]
     },
     "metadata": {},
     "output_type": "display_data"
    },
    {
     "name": "stdout",
     "output_type": "stream",
     "text": [
      "The threshold for which the F1-score is maximal is : 51    0.51\n",
      "Name: threshold, dtype: float64.\n",
      "Threshold corresponding to the maximum F1-score for the test data:\n"
     ]
    },
    {
     "data": {
      "application/vnd.jupyter.widget-view+json": {
       "model_id": "f2f7ee73cfc34c45893b19cf1cb3b9c7",
       "version_major": 2,
       "version_minor": 0
      },
      "text/plain": [
       "  0%|          | 0/101 [00:00<?, ?it/s]"
      ]
     },
     "metadata": {},
     "output_type": "display_data"
    },
    {
     "data": {
      "image/png": "[encoded data removed]",
      "text/plain": [
       "<Figure size 640x480 with 1 Axes>"
      ]
     },
     "metadata": {},
     "output_type": "display_data"
    },
    {
     "name": "stdout",
     "output_type": "stream",
     "text": [
      "The threshold for which the F1-score is maximal is : 40    0.4\n",
      "Name: threshold, dtype: float64.\n"
     ]
    }
   ],
   "source": [
    "_, _, _ = logistic_f1_score_feature_selection(\n",
    "    train.columns, train, val, test, y_train, y_val, y_test, thresholds\n",
    ")"
   ]
  },
  {
   "cell_type": "markdown",
   "id": "cb311d68",
   "metadata": {},
   "source": [
    "For the validation data, the threshold for which the F1 score is maximal is very close to 0.52."
   ]
  },
  {
   "cell_type": "markdown",
   "id": "04796ec6",
   "metadata": {},
   "source": [
    "# Question 5 : 5-Fold CV"
   ]
  },
  {
   "cell_type": "markdown",
   "id": "ee7a7ab0",
   "metadata": {},
   "source": [
    "Use the KFold class from Scikit-Learn to evaluate our model on 5 different folds:\n",
    "\n",
    "- KFold(n_splits=5, shuffle=True, random_state=1)\n",
    "\n",
    "- Iterate over different folds of df_full_train\n",
    "- Split the data into train and validation\n",
    "- Train the model on train with these parameters: LogisticRegression(solver='liblinear', C=1.0, max_iter=1000)\n",
    "- Use AUC to evaluate the model on validation\n",
    "\n",
    "\n",
    "How large is standard deviation of the scores across different folds?"
   ]
  },
  {
   "cell_type": "code",
   "execution_count": 151,
   "id": "f1f90ff4",
   "metadata": {},
   "outputs": [],
   "source": [
    "kfold = KFold(n_splits=5, shuffle=True, random_state=1)"
   ]
  },
  {
   "cell_type": "code",
   "execution_count": 171,
   "id": "ccbb7ad9",
   "metadata": {},
   "outputs": [
    {
     "name": "stdout",
     "output_type": "stream",
     "text": [
      "0.979 +- 0.002\n"
     ]
    }
   ],
   "source": [
    "scores = []\n",
    "\n",
    "for train_idx, val_idx in kfold.split(full_train):\n",
    "    df_train = full_train.iloc[train_idx]\n",
    "    df_val = full_train.iloc[val_idx]\n",
    "\n",
    "    y_train = df_train[\"above_average\"]\n",
    "    y_val = df_val[\"above_average\"]\n",
    "\n",
    "    feature_list = df_train.columns.values.tolist()\n",
    "    feature_list.remove(\"above_average\")\n",
    "\n",
    "    dv, model = train(feature_list, df_train, y_train, C=1.0)\n",
    "    y_pred = predict(feature_list, df_val, dv, model)\n",
    "\n",
    "    auc = roc_auc_score(y_val, y_pred)\n",
    "    scores.append(auc)\n",
    "\n",
    "print(\"%.3f +- %.3f\" % (np.mean(scores), np.std(scores)))"
   ]
  },
  {
   "cell_type": "markdown",
   "id": "c412e4a2",
   "metadata": {},
   "source": [
    "The standard deviation across folds is very small, equal to around 0.003."
   ]
  },
  {
   "cell_type": "markdown",
   "id": "ba1c246d",
   "metadata": {},
   "source": [
    "# Question 6 : Hyperparemeter Tuning"
   ]
  },
  {
   "cell_type": "markdown",
   "id": "2af8dbf3",
   "metadata": {},
   "source": [
    "Now let's use 5-Fold cross-validation to find the best parameter C\n",
    "\n",
    "- Iterate over the following C values: [0.01, 0.1, 0.5, 10]\n",
    "- Initialize KFold with the same parameters as previously\n",
    "- Use these parametes for the model: LogisticRegression(solver='liblinear', C=C, max_iter=1000)\n",
    "- Compute the mean score as well as the std (round the mean and std to 3 decimal digits)\n",
    "\n",
    "Which C leads to the best mean score?\n",
    "\n",
    "- 0.01\n",
    "- 0.1\n",
    "- 0.5\n",
    "- 10\n",
    "\n",
    "If you have ties, select the score with the lowest std. If you still have ties, select the smallest C."
   ]
  },
  {
   "cell_type": "code",
   "execution_count": 173,
   "id": "e7e7f29d",
   "metadata": {},
   "outputs": [
    {
     "name": "stdout",
     "output_type": "stream",
     "text": [
      "C=0.01, 0.952 +- 0.002\n",
      "C= 0.1, 0.972 +- 0.002\n",
      "C= 0.5, 0.978 +- 0.003\n",
      "C=  10, 0.984 +- 0.003\n"
     ]
    }
   ],
   "source": [
    "for c_value in [0.01, 0.1, 0.5, 10]:\n",
    "    scores = []\n",
    "\n",
    "    for train_idx, val_idx in kfold.split(full_train):\n",
    "        df_train = full_train.iloc[train_idx]\n",
    "        df_val = full_train.iloc[val_idx]\n",
    "\n",
    "        y_train = df_train[\"above_average\"]\n",
    "        y_val = df_val[\"above_average\"]\n",
    "\n",
    "        feature_list = df_train.columns.values.tolist()\n",
    "        feature_list.remove(\"above_average\")\n",
    "\n",
    "        dv, model = train(feature_list, df_train, y_train, C=c_value)\n",
    "        y_pred = predict(feature_list, df_val, dv, model)\n",
    "\n",
    "        auc = roc_auc_score(y_val, y_pred)\n",
    "        scores.append(auc)\n",
    "\n",
    "    print(\"C=%4s, %.3f +- %.3f\" % (c_value, np.mean(scores), np.std(scores)))"
   ]
  },
  {
   "cell_type": "markdown",
   "id": "58da4d36",
   "metadata": {},
   "source": [
    "The highest mean is obtained with C=10."
   ]
  },
  {
   "cell_type": "code",
   "execution_count": null,
   "id": "250e275b",
   "metadata": {},
   "outputs": [],
   "source": []
  }
 ],
 "metadata": {
  "kernelspec": {
   "display_name": "Python 3 (ipykernel)",
   "language": "python",
   "name": "python3"
  },
  "language_info": {
   "codemirror_mode": {
    "name": "ipython",
    "version": 3
   },
   "file_extension": ".py",
   "mimetype": "text/x-python",
   "name": "python",
   "nbconvert_exporter": "python",
   "pygments_lexer": "ipython3",
   "version": "3.11.4"
  }
 },
 "nbformat": 4,
 "nbformat_minor": 5
}
