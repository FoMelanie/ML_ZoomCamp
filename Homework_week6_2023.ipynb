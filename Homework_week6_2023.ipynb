{
 "cells": [
  {
   "cell_type": "markdown",
   "id": "81744e5a",
   "metadata": {},
   "source": [
    "# Imports"
   ]
  },
  {
   "cell_type": "code",
   "execution_count": 87,
   "id": "4f5e6bf9",
   "metadata": {},
   "outputs": [],
   "source": [
    "import pandas as pd\n",
    "import matplotlib.pyplot as plt\n",
    "import seaborn as sns\n",
    "import numpy as np\n",
    "from sklearn.tree import DecisionTreeRegressor, export_text\n",
    "from sklearn.ensemble import RandomForestRegressor\n",
    "from sklearn.feature_extraction import DictVectorizer\n",
    "from sklearn.model_selection import train_test_split\n",
    "from tqdm.auto import tqdm\n",
    "import statistics\n",
    "import xgboost as xgb\n",
    "import re"
   ]
  },
  {
   "cell_type": "markdown",
   "id": "728bb93a",
   "metadata": {},
   "source": [
    "# Functions"
   ]
  },
  {
   "cell_type": "code",
   "execution_count": 29,
   "id": "20426a70",
   "metadata": {},
   "outputs": [],
   "source": [
    "def generate_rmse(y_pred: np.array, y_true: np.array) -> float:\n",
    "    \"\"\"\n",
    "    Compute the RMSE from y_pred and y_true.\n",
    "\n",
    "    Args:\n",
    "        y_pred: numpy array, the predicted target values\n",
    "        y_true: numpy array, the true target values\n",
    "\n",
    "    Returns:\n",
    "        rmse: float, the root mean squared error of y_pred and y_true\n",
    "    \"\"\"\n",
    "\n",
    "    error = y_pred - y_true\n",
    "    mse = (error**2).mean()\n",
    "    rmse = np.sqrt(mse)\n",
    "\n",
    "    return rmse"
   ]
  },
  {
   "cell_type": "code",
   "execution_count": 98,
   "id": "113cb3c1",
   "metadata": {},
   "outputs": [],
   "source": [
    "def parse_xgb_output(output):\n",
    "    \n",
    "    results = []\n",
    "\n",
    "    for line in output.stdout.strip().split('\\n'):\n",
    "        it_line, train_line, val_line = line.split('\\t')\n",
    "\n",
    "        it = int(it_line.strip('[]'))\n",
    "        train = float(train_line.split(':')[1])\n",
    "        val = float(val_line.split(':')[1])\n",
    "\n",
    "        results.append((it, train, val))\n",
    "    \n",
    "    columns = ['num_iter', 'train_rmse', 'val_rmse']\n",
    "    df_results = pd.DataFrame(results, columns=columns)\n",
    "    \n",
    "    return df_results"
   ]
  },
  {
   "cell_type": "markdown",
   "id": "ac5896d1",
   "metadata": {},
   "source": [
    "# Dataset loading"
   ]
  },
  {
   "cell_type": "code",
   "execution_count": 2,
   "id": "0c9d5f4e",
   "metadata": {},
   "outputs": [],
   "source": [
    "data = pd.read_csv('housing.csv')"
   ]
  },
  {
   "cell_type": "code",
   "execution_count": 3,
   "id": "a4ac2c23",
   "metadata": {},
   "outputs": [
    {
     "data": {
      "text/html": [
       "<div>\n",
       "<style scoped>\n",
       "    .dataframe tbody tr th:only-of-type {\n",
       "        vertical-align: middle;\n",
       "    }\n",
       "\n",
       "    .dataframe tbody tr th {\n",
       "        vertical-align: top;\n",
       "    }\n",
       "\n",
       "    .dataframe thead th {\n",
       "        text-align: right;\n",
       "    }\n",
       "</style>\n",
       "<table border=\"1\" class=\"dataframe\">\n",
       "  <thead>\n",
       "    <tr style=\"text-align: right;\">\n",
       "      <th></th>\n",
       "      <th>longitude</th>\n",
       "      <th>latitude</th>\n",
       "      <th>housing_median_age</th>\n",
       "      <th>total_rooms</th>\n",
       "      <th>total_bedrooms</th>\n",
       "      <th>population</th>\n",
       "      <th>households</th>\n",
       "      <th>median_income</th>\n",
       "      <th>median_house_value</th>\n",
       "      <th>ocean_proximity</th>\n",
       "    </tr>\n",
       "  </thead>\n",
       "  <tbody>\n",
       "    <tr>\n",
       "      <th>0</th>\n",
       "      <td>-122.23</td>\n",
       "      <td>37.88</td>\n",
       "      <td>41.0</td>\n",
       "      <td>880.0</td>\n",
       "      <td>129.0</td>\n",
       "      <td>322.0</td>\n",
       "      <td>126.0</td>\n",
       "      <td>8.3252</td>\n",
       "      <td>452600.0</td>\n",
       "      <td>NEAR BAY</td>\n",
       "    </tr>\n",
       "    <tr>\n",
       "      <th>1</th>\n",
       "      <td>-122.22</td>\n",
       "      <td>37.86</td>\n",
       "      <td>21.0</td>\n",
       "      <td>7099.0</td>\n",
       "      <td>1106.0</td>\n",
       "      <td>2401.0</td>\n",
       "      <td>1138.0</td>\n",
       "      <td>8.3014</td>\n",
       "      <td>358500.0</td>\n",
       "      <td>NEAR BAY</td>\n",
       "    </tr>\n",
       "    <tr>\n",
       "      <th>2</th>\n",
       "      <td>-122.24</td>\n",
       "      <td>37.85</td>\n",
       "      <td>52.0</td>\n",
       "      <td>1467.0</td>\n",
       "      <td>190.0</td>\n",
       "      <td>496.0</td>\n",
       "      <td>177.0</td>\n",
       "      <td>7.2574</td>\n",
       "      <td>352100.0</td>\n",
       "      <td>NEAR BAY</td>\n",
       "    </tr>\n",
       "    <tr>\n",
       "      <th>3</th>\n",
       "      <td>-122.25</td>\n",
       "      <td>37.85</td>\n",
       "      <td>52.0</td>\n",
       "      <td>1274.0</td>\n",
       "      <td>235.0</td>\n",
       "      <td>558.0</td>\n",
       "      <td>219.0</td>\n",
       "      <td>5.6431</td>\n",
       "      <td>341300.0</td>\n",
       "      <td>NEAR BAY</td>\n",
       "    </tr>\n",
       "    <tr>\n",
       "      <th>4</th>\n",
       "      <td>-122.25</td>\n",
       "      <td>37.85</td>\n",
       "      <td>52.0</td>\n",
       "      <td>1627.0</td>\n",
       "      <td>280.0</td>\n",
       "      <td>565.0</td>\n",
       "      <td>259.0</td>\n",
       "      <td>3.8462</td>\n",
       "      <td>342200.0</td>\n",
       "      <td>NEAR BAY</td>\n",
       "    </tr>\n",
       "  </tbody>\n",
       "</table>\n",
       "</div>"
      ],
      "text/plain": [
       "   longitude  latitude  housing_median_age  total_rooms  total_bedrooms  \\\n",
       "0    -122.23     37.88                41.0        880.0           129.0   \n",
       "1    -122.22     37.86                21.0       7099.0          1106.0   \n",
       "2    -122.24     37.85                52.0       1467.0           190.0   \n",
       "3    -122.25     37.85                52.0       1274.0           235.0   \n",
       "4    -122.25     37.85                52.0       1627.0           280.0   \n",
       "\n",
       "   population  households  median_income  median_house_value ocean_proximity  \n",
       "0       322.0       126.0         8.3252            452600.0        NEAR BAY  \n",
       "1      2401.0      1138.0         8.3014            358500.0        NEAR BAY  \n",
       "2       496.0       177.0         7.2574            352100.0        NEAR BAY  \n",
       "3       558.0       219.0         5.6431            341300.0        NEAR BAY  \n",
       "4       565.0       259.0         3.8462            342200.0        NEAR BAY  "
      ]
     },
     "execution_count": 3,
     "metadata": {},
     "output_type": "execute_result"
    }
   ],
   "source": [
    "data.head(5)"
   ]
  },
  {
   "cell_type": "markdown",
   "id": "56f01095",
   "metadata": {},
   "source": [
    "# Dataset preparation"
   ]
  },
  {
   "cell_type": "markdown",
   "id": "4ff33f19",
   "metadata": {},
   "source": [
    "For this homework, we only want to use a subset of data. This is the same subset we used in homework #2. But in contrast to homework #2, we are going to use all columns of the dataset.\n",
    "\n",
    "First, keep only the records where ocean_proximity is either '<1H OCEAN' or 'INLAND'\n",
    "\n",
    "Preparation:\n",
    "\n",
    "- Fill missing values with zeros.\n",
    "- Apply the log transform to median_house_value.\n",
    "- Do train/validation/test split with 60%/20%/20% distribution.\n",
    "- Use the train_test_split function and set the random_state parameter to 1.\n",
    "- Use DictVectorizer(sparse=True) to turn the dataframes into matrices."
   ]
  },
  {
   "cell_type": "code",
   "execution_count": 7,
   "id": "49a81a60",
   "metadata": {},
   "outputs": [],
   "source": [
    "# keep only the records where ocean_proximity is either '<1H OCEAN' or 'INLAND'\n",
    "data = data[data['ocean_proximity'].isin(['<1H OCEAN', 'INLAND'])]"
   ]
  },
  {
   "cell_type": "code",
   "execution_count": 8,
   "id": "d10254a1",
   "metadata": {},
   "outputs": [],
   "source": [
    "# Fill missing values with zeros\n",
    "data= data.fillna(0)"
   ]
  },
  {
   "cell_type": "code",
   "execution_count": 9,
   "id": "07a7e342",
   "metadata": {},
   "outputs": [],
   "source": [
    "# Apply the log transform to median_house_value\n",
    "data['median_house_value'] = np.log1p(data['median_house_value'])"
   ]
  },
  {
   "cell_type": "code",
   "execution_count": 16,
   "id": "07de7c8a",
   "metadata": {},
   "outputs": [],
   "source": [
    "# Do train/validation/test split with 60%/20%/20% distribution.\n",
    "full_train, test = train_test_split(data, test_size=0.2, random_state=1)"
   ]
  },
  {
   "cell_type": "code",
   "execution_count": 17,
   "id": "a292831a",
   "metadata": {},
   "outputs": [],
   "source": [
    "# Get train and validation datasets\n",
    "train, val = train_test_split(full_train, test_size = 0.25, random_state=1)"
   ]
  },
  {
   "cell_type": "code",
   "execution_count": 18,
   "id": "f5805d9f",
   "metadata": {},
   "outputs": [],
   "source": [
    "# Isolate y_value\n",
    "y_train = train['median_house_value']\n",
    "y_val = val['median_house_value']\n",
    "y_test = test['median_house_value']"
   ]
  },
  {
   "cell_type": "code",
   "execution_count": 19,
   "id": "f8e32a77",
   "metadata": {},
   "outputs": [],
   "source": [
    "# Remove this column of features\n",
    "del train['median_house_value']\n",
    "del val['median_house_value']\n",
    "del test['median_house_value']"
   ]
  },
  {
   "cell_type": "code",
   "execution_count": 20,
   "id": "c0b836a3",
   "metadata": {},
   "outputs": [],
   "source": [
    "# Create dv to turn the dataframes into matrices, fit on the training dataset:\n",
    "\n",
    "# Create dictionaries from input dataframes obtained after splitting the data\n",
    "train_dicts = train.to_dict(orient=\"records\")\n",
    "val_dicts = val.to_dict(orient=\"records\")\n",
    "test_dicts = test.to_dict(orient=\"records\")\n",
    "\n",
    "# Initiate the DictVectorizer and fit it on the train data dictionary\n",
    "dv = DictVectorizer(sparse=True)\n",
    "dv.fit(train_dicts)\n",
    "\n",
    "# Obtain the transformed features using the fitted DictVectorizer\n",
    "train_dv = dv.transform(train_dicts)\n",
    "val_dv = dv.transform(val_dicts)\n",
    "test_dv = dv.transform(test_dicts)"
   ]
  },
  {
   "cell_type": "markdown",
   "id": "304fbfa4",
   "metadata": {},
   "source": [
    "# Question 1"
   ]
  },
  {
   "cell_type": "markdown",
   "id": "b0605924",
   "metadata": {},
   "source": [
    "Let's train a decision tree regressor to predict the median_house_value variable.\n",
    "\n",
    "- Train a model with max_depth=1.\n",
    "- Which feature is used for splitting the data?\n",
    "    - ocean_proximity\n",
    "    - total_rooms\n",
    "    - latitude\n",
    "    - population"
   ]
  },
  {
   "cell_type": "code",
   "execution_count": 24,
   "id": "d5e176e1",
   "metadata": {},
   "outputs": [
    {
     "data": {
      "text/html": [
       "<style>#sk-container-id-1 {color: black;}#sk-container-id-1 pre{padding: 0;}#sk-container-id-1 div.sk-toggleable {background-color: white;}#sk-container-id-1 label.sk-toggleable__label {cursor: pointer;display: block;width: 100%;margin-bottom: 0;padding: 0.3em;box-sizing: border-box;text-align: center;}#sk-container-id-1 label.sk-toggleable__label-arrow:before {content: \"▸\";float: left;margin-right: 0.25em;color: #696969;}#sk-container-id-1 label.sk-toggleable__label-arrow:hover:before {color: black;}#sk-container-id-1 div.sk-estimator:hover label.sk-toggleable__label-arrow:before {color: black;}#sk-container-id-1 div.sk-toggleable__content {max-height: 0;max-width: 0;overflow: hidden;text-align: left;background-color: #f0f8ff;}#sk-container-id-1 div.sk-toggleable__content pre {margin: 0.2em;color: black;border-radius: 0.25em;background-color: #f0f8ff;}#sk-container-id-1 input.sk-toggleable__control:checked~div.sk-toggleable__content {max-height: 200px;max-width: 100%;overflow: auto;}#sk-container-id-1 input.sk-toggleable__control:checked~label.sk-toggleable__label-arrow:before {content: \"▾\";}#sk-container-id-1 div.sk-estimator input.sk-toggleable__control:checked~label.sk-toggleable__label {background-color: #d4ebff;}#sk-container-id-1 div.sk-label input.sk-toggleable__control:checked~label.sk-toggleable__label {background-color: #d4ebff;}#sk-container-id-1 input.sk-hidden--visually {border: 0;clip: rect(1px 1px 1px 1px);clip: rect(1px, 1px, 1px, 1px);height: 1px;margin: -1px;overflow: hidden;padding: 0;position: absolute;width: 1px;}#sk-container-id-1 div.sk-estimator {font-family: monospace;background-color: #f0f8ff;border: 1px dotted black;border-radius: 0.25em;box-sizing: border-box;margin-bottom: 0.5em;}#sk-container-id-1 div.sk-estimator:hover {background-color: #d4ebff;}#sk-container-id-1 div.sk-parallel-item::after {content: \"\";width: 100%;border-bottom: 1px solid gray;flex-grow: 1;}#sk-container-id-1 div.sk-label:hover label.sk-toggleable__label {background-color: #d4ebff;}#sk-container-id-1 div.sk-serial::before {content: \"\";position: absolute;border-left: 1px solid gray;box-sizing: border-box;top: 0;bottom: 0;left: 50%;z-index: 0;}#sk-container-id-1 div.sk-serial {display: flex;flex-direction: column;align-items: center;background-color: white;padding-right: 0.2em;padding-left: 0.2em;position: relative;}#sk-container-id-1 div.sk-item {position: relative;z-index: 1;}#sk-container-id-1 div.sk-parallel {display: flex;align-items: stretch;justify-content: center;background-color: white;position: relative;}#sk-container-id-1 div.sk-item::before, #sk-container-id-1 div.sk-parallel-item::before {content: \"\";position: absolute;border-left: 1px solid gray;box-sizing: border-box;top: 0;bottom: 0;left: 50%;z-index: -1;}#sk-container-id-1 div.sk-parallel-item {display: flex;flex-direction: column;z-index: 1;position: relative;background-color: white;}#sk-container-id-1 div.sk-parallel-item:first-child::after {align-self: flex-end;width: 50%;}#sk-container-id-1 div.sk-parallel-item:last-child::after {align-self: flex-start;width: 50%;}#sk-container-id-1 div.sk-parallel-item:only-child::after {width: 0;}#sk-container-id-1 div.sk-dashed-wrapped {border: 1px dashed gray;margin: 0 0.4em 0.5em 0.4em;box-sizing: border-box;padding-bottom: 0.4em;background-color: white;}#sk-container-id-1 div.sk-label label {font-family: monospace;font-weight: bold;display: inline-block;line-height: 1.2em;}#sk-container-id-1 div.sk-label-container {text-align: center;}#sk-container-id-1 div.sk-container {/* jupyter's `normalize.less` sets `[hidden] { display: none; }` but bootstrap.min.css set `[hidden] { display: none !important; }` so we also need the `!important` here to be able to override the default hidden behavior on the sphinx rendered scikit-learn.org. See: https://github.com/scikit-learn/scikit-learn/issues/21755 */display: inline-block !important;position: relative;}#sk-container-id-1 div.sk-text-repr-fallback {display: none;}</style><div id=\"sk-container-id-1\" class=\"sk-top-container\"><div class=\"sk-text-repr-fallback\"><pre>DecisionTreeRegressor(max_depth=1)</pre><b>In a Jupyter environment, please rerun this cell to show the HTML representation or trust the notebook. <br />On GitHub, the HTML representation is unable to render, please try loading this page with nbviewer.org.</b></div><div class=\"sk-container\" hidden><div class=\"sk-item\"><div class=\"sk-estimator sk-toggleable\"><input class=\"sk-toggleable__control sk-hidden--visually\" id=\"sk-estimator-id-1\" type=\"checkbox\" checked><label for=\"sk-estimator-id-1\" class=\"sk-toggleable__label sk-toggleable__label-arrow\">DecisionTreeRegressor</label><div class=\"sk-toggleable__content\"><pre>DecisionTreeRegressor(max_depth=1)</pre></div></div></div></div></div>"
      ],
      "text/plain": [
       "DecisionTreeRegressor(max_depth=1)"
      ]
     },
     "execution_count": 24,
     "metadata": {},
     "output_type": "execute_result"
    }
   ],
   "source": [
    "decision_tree_regressor = DecisionTreeRegressor(max_depth=1)\n",
    "decision_tree_regressor.fit(train_dv, y_train)"
   ]
  },
  {
   "cell_type": "code",
   "execution_count": 25,
   "id": "16a132b3",
   "metadata": {},
   "outputs": [
    {
     "name": "stdout",
     "output_type": "stream",
     "text": [
      "|--- ocean_proximity=<1H OCEAN <= 0.50\n",
      "|   |--- value: [11.61]\n",
      "|--- ocean_proximity=<1H OCEAN >  0.50\n",
      "|   |--- value: [12.30]\n",
      "\n"
     ]
    }
   ],
   "source": [
    "print(export_text(decision_tree_regressor, feature_names=dv.feature_names_))"
   ]
  },
  {
   "cell_type": "markdown",
   "id": "f1bc2a22",
   "metadata": {},
   "source": [
    "The feature used to split the data is ocean_proximity."
   ]
  },
  {
   "cell_type": "markdown",
   "id": "de38cc07",
   "metadata": {},
   "source": [
    "# Question 2"
   ]
  },
  {
   "cell_type": "markdown",
   "id": "faed05bd",
   "metadata": {},
   "source": [
    "Train a random forest model with these parameters:\n",
    "\n",
    "- n_estimators=10\n",
    "- random_state=1\n",
    "- n_jobs=-1 (optional - to make training faster)\n",
    "\n",
    "\n",
    "- What's the RMSE of this model on validation?\n",
    "\n",
    "    - 0.045\n",
    "    - 0.245\n",
    "    - 0.545\n",
    "    - 0.845"
   ]
  },
  {
   "cell_type": "code",
   "execution_count": 27,
   "id": "0c940a1e",
   "metadata": {},
   "outputs": [],
   "source": [
    "random_forest = RandomForestRegressor(n_estimators=10, random_state=1, n_jobs=-1)"
   ]
  },
  {
   "cell_type": "code",
   "execution_count": 28,
   "id": "856b2d7b",
   "metadata": {},
   "outputs": [
    {
     "data": {
      "text/html": [
       "<style>#sk-container-id-2 {color: black;}#sk-container-id-2 pre{padding: 0;}#sk-container-id-2 div.sk-toggleable {background-color: white;}#sk-container-id-2 label.sk-toggleable__label {cursor: pointer;display: block;width: 100%;margin-bottom: 0;padding: 0.3em;box-sizing: border-box;text-align: center;}#sk-container-id-2 label.sk-toggleable__label-arrow:before {content: \"▸\";float: left;margin-right: 0.25em;color: #696969;}#sk-container-id-2 label.sk-toggleable__label-arrow:hover:before {color: black;}#sk-container-id-2 div.sk-estimator:hover label.sk-toggleable__label-arrow:before {color: black;}#sk-container-id-2 div.sk-toggleable__content {max-height: 0;max-width: 0;overflow: hidden;text-align: left;background-color: #f0f8ff;}#sk-container-id-2 div.sk-toggleable__content pre {margin: 0.2em;color: black;border-radius: 0.25em;background-color: #f0f8ff;}#sk-container-id-2 input.sk-toggleable__control:checked~div.sk-toggleable__content {max-height: 200px;max-width: 100%;overflow: auto;}#sk-container-id-2 input.sk-toggleable__control:checked~label.sk-toggleable__label-arrow:before {content: \"▾\";}#sk-container-id-2 div.sk-estimator input.sk-toggleable__control:checked~label.sk-toggleable__label {background-color: #d4ebff;}#sk-container-id-2 div.sk-label input.sk-toggleable__control:checked~label.sk-toggleable__label {background-color: #d4ebff;}#sk-container-id-2 input.sk-hidden--visually {border: 0;clip: rect(1px 1px 1px 1px);clip: rect(1px, 1px, 1px, 1px);height: 1px;margin: -1px;overflow: hidden;padding: 0;position: absolute;width: 1px;}#sk-container-id-2 div.sk-estimator {font-family: monospace;background-color: #f0f8ff;border: 1px dotted black;border-radius: 0.25em;box-sizing: border-box;margin-bottom: 0.5em;}#sk-container-id-2 div.sk-estimator:hover {background-color: #d4ebff;}#sk-container-id-2 div.sk-parallel-item::after {content: \"\";width: 100%;border-bottom: 1px solid gray;flex-grow: 1;}#sk-container-id-2 div.sk-label:hover label.sk-toggleable__label {background-color: #d4ebff;}#sk-container-id-2 div.sk-serial::before {content: \"\";position: absolute;border-left: 1px solid gray;box-sizing: border-box;top: 0;bottom: 0;left: 50%;z-index: 0;}#sk-container-id-2 div.sk-serial {display: flex;flex-direction: column;align-items: center;background-color: white;padding-right: 0.2em;padding-left: 0.2em;position: relative;}#sk-container-id-2 div.sk-item {position: relative;z-index: 1;}#sk-container-id-2 div.sk-parallel {display: flex;align-items: stretch;justify-content: center;background-color: white;position: relative;}#sk-container-id-2 div.sk-item::before, #sk-container-id-2 div.sk-parallel-item::before {content: \"\";position: absolute;border-left: 1px solid gray;box-sizing: border-box;top: 0;bottom: 0;left: 50%;z-index: -1;}#sk-container-id-2 div.sk-parallel-item {display: flex;flex-direction: column;z-index: 1;position: relative;background-color: white;}#sk-container-id-2 div.sk-parallel-item:first-child::after {align-self: flex-end;width: 50%;}#sk-container-id-2 div.sk-parallel-item:last-child::after {align-self: flex-start;width: 50%;}#sk-container-id-2 div.sk-parallel-item:only-child::after {width: 0;}#sk-container-id-2 div.sk-dashed-wrapped {border: 1px dashed gray;margin: 0 0.4em 0.5em 0.4em;box-sizing: border-box;padding-bottom: 0.4em;background-color: white;}#sk-container-id-2 div.sk-label label {font-family: monospace;font-weight: bold;display: inline-block;line-height: 1.2em;}#sk-container-id-2 div.sk-label-container {text-align: center;}#sk-container-id-2 div.sk-container {/* jupyter's `normalize.less` sets `[hidden] { display: none; }` but bootstrap.min.css set `[hidden] { display: none !important; }` so we also need the `!important` here to be able to override the default hidden behavior on the sphinx rendered scikit-learn.org. See: https://github.com/scikit-learn/scikit-learn/issues/21755 */display: inline-block !important;position: relative;}#sk-container-id-2 div.sk-text-repr-fallback {display: none;}</style><div id=\"sk-container-id-2\" class=\"sk-top-container\"><div class=\"sk-text-repr-fallback\"><pre>RandomForestRegressor(n_estimators=10, n_jobs=-1, random_state=1)</pre><b>In a Jupyter environment, please rerun this cell to show the HTML representation or trust the notebook. <br />On GitHub, the HTML representation is unable to render, please try loading this page with nbviewer.org.</b></div><div class=\"sk-container\" hidden><div class=\"sk-item\"><div class=\"sk-estimator sk-toggleable\"><input class=\"sk-toggleable__control sk-hidden--visually\" id=\"sk-estimator-id-2\" type=\"checkbox\" checked><label for=\"sk-estimator-id-2\" class=\"sk-toggleable__label sk-toggleable__label-arrow\">RandomForestRegressor</label><div class=\"sk-toggleable__content\"><pre>RandomForestRegressor(n_estimators=10, n_jobs=-1, random_state=1)</pre></div></div></div></div></div>"
      ],
      "text/plain": [
       "RandomForestRegressor(n_estimators=10, n_jobs=-1, random_state=1)"
      ]
     },
     "execution_count": 28,
     "metadata": {},
     "output_type": "execute_result"
    }
   ],
   "source": [
    "random_forest.fit(train_dv, y_train)"
   ]
  },
  {
   "cell_type": "code",
   "execution_count": 30,
   "id": "d132201b",
   "metadata": {},
   "outputs": [],
   "source": [
    "y_pred_val = random_forest.predict(val_dv)"
   ]
  },
  {
   "cell_type": "code",
   "execution_count": 33,
   "id": "f7a9733b",
   "metadata": {},
   "outputs": [
    {
     "data": {
      "text/plain": [
       "0.245"
      ]
     },
     "execution_count": 33,
     "metadata": {},
     "output_type": "execute_result"
    }
   ],
   "source": [
    "round(generate_rmse(y_pred_val, y_val),3)"
   ]
  },
  {
   "cell_type": "markdown",
   "id": "c7fdf7c8",
   "metadata": {},
   "source": [
    "The obtained RMSE on the validation dataset after training a random forest regressor model is equal to 0.245."
   ]
  },
  {
   "cell_type": "markdown",
   "id": "7a36d9fb",
   "metadata": {},
   "source": [
    "# Question 3"
   ]
  },
  {
   "cell_type": "markdown",
   "id": "4ed40356",
   "metadata": {},
   "source": [
    "Now let's experiment with the n_estimators parameter\n",
    "\n",
    "- Try different values of this parameter from 10 to 200 with step 10.\n",
    "- Set random_state to 1.\n",
    "- Evaluate the model on the validation dataset.\n",
    "\n",
    "After which value of n_estimators does RMSE stop improving? Consider 3 decimal places for retrieving the answer.\n",
    "\n",
    "- 10\n",
    "- 25\n",
    "- 50\n",
    "- 160"
   ]
  },
  {
   "cell_type": "code",
   "execution_count": 36,
   "id": "c1b0ee3e",
   "metadata": {},
   "outputs": [],
   "source": [
    "scores = []"
   ]
  },
  {
   "cell_type": "code",
   "execution_count": 43,
   "id": "3f0c4f24",
   "metadata": {},
   "outputs": [
    {
     "data": {
      "application/vnd.jupyter.widget-view+json": {
       "model_id": "cd46802013ef42059c5b7fd8cec0314d",
       "version_major": 2,
       "version_minor": 0
      },
      "text/plain": [
       "  0%|          | 0/20 [00:00<?, ?it/s]"
      ]
     },
     "metadata": {},
     "output_type": "display_data"
    }
   ],
   "source": [
    "for n in tqdm(range(10,201,10)):\n",
    "    rf = RandomForestRegressor(n_estimators=n, random_state=1, n_jobs=-1)\n",
    "    rf.fit(train_dv, y_train)\n",
    "    \n",
    "    y_pred_val = rf.predict(val_dv)\n",
    "    rmse = generate_rmse(y_pred_val, y_val)\n",
    "    scores.append((n,rmse))"
   ]
  },
  {
   "cell_type": "code",
   "execution_count": 44,
   "id": "a62c1687",
   "metadata": {},
   "outputs": [],
   "source": [
    "df_scores = pd.DataFrame(scores, columns=[\"n_estimators\",'RMSE'])"
   ]
  },
  {
   "cell_type": "code",
   "execution_count": 48,
   "id": "c95e1726",
   "metadata": {},
   "outputs": [
    {
     "data": {
      "image/png": "[encoded data removed]",
      "text/plain": [
       "<Figure size 640x480 with 1 Axes>"
      ]
     },
     "metadata": {},
     "output_type": "display_data"
    }
   ],
   "source": [
    "plt.plot(df_scores.n_estimators, df_scores.RMSE.round(3))\n",
    "plt.show()"
   ]
  },
  {
   "cell_type": "markdown",
   "id": "704aaf0d",
   "metadata": {},
   "source": [
    "The RMSE value decreases until around n_estimators = 160."
   ]
  },
  {
   "cell_type": "markdown",
   "id": "60c5bb9f",
   "metadata": {},
   "source": [
    "# Question 4"
   ]
  },
  {
   "cell_type": "markdown",
   "id": "a6a0207f",
   "metadata": {},
   "source": [
    "Let's select the best max_depth:\n",
    "\n",
    "- Try different values of max_depth: [10, 15, 20, 25]\n",
    "- For each of these values:\n",
    "    - try different values of n_estimators from 10 till 200 (with step 10)\n",
    "    - calculate the mean RMSE\n",
    "    - Fix the random seed: random_state=1\n",
    "\n",
    "What's the best max_depth, using the mean RMSE?\n",
    "\n",
    "- 10\n",
    "- 15\n",
    "- 20\n",
    "- 25"
   ]
  },
  {
   "cell_type": "code",
   "execution_count": 56,
   "id": "e24e8bdd",
   "metadata": {},
   "outputs": [],
   "source": [
    "scores = []"
   ]
  },
  {
   "cell_type": "code",
   "execution_count": 57,
   "id": "559ee4c0",
   "metadata": {},
   "outputs": [
    {
     "data": {
      "application/vnd.jupyter.widget-view+json": {
       "model_id": "121db545eb734ac4a8905babd05ac051",
       "version_major": 2,
       "version_minor": 0
      },
      "text/plain": [
       "  0%|          | 0/4 [00:00<?, ?it/s]"
      ]
     },
     "metadata": {},
     "output_type": "display_data"
    },
    {
     "data": {
      "application/vnd.jupyter.widget-view+json": {
       "model_id": "6856d437c9c04b77baa3c0b663212b6e",
       "version_major": 2,
       "version_minor": 0
      },
      "text/plain": [
       "  0%|          | 0/20 [00:00<?, ?it/s]"
      ]
     },
     "metadata": {},
     "output_type": "display_data"
    },
    {
     "data": {
      "application/vnd.jupyter.widget-view+json": {
       "model_id": "e9eb538cdfb74f0688287c68dd674112",
       "version_major": 2,
       "version_minor": 0
      },
      "text/plain": [
       "  0%|          | 0/20 [00:00<?, ?it/s]"
      ]
     },
     "metadata": {},
     "output_type": "display_data"
    },
    {
     "data": {
      "application/vnd.jupyter.widget-view+json": {
       "model_id": "d47385d4d3f5411ea47a185c0744313c",
       "version_major": 2,
       "version_minor": 0
      },
      "text/plain": [
       "  0%|          | 0/20 [00:00<?, ?it/s]"
      ]
     },
     "metadata": {},
     "output_type": "display_data"
    },
    {
     "data": {
      "application/vnd.jupyter.widget-view+json": {
       "model_id": "cb5659000d874d88a488281d050c6f4e",
       "version_major": 2,
       "version_minor": 0
      },
      "text/plain": [
       "  0%|          | 0/20 [00:00<?, ?it/s]"
      ]
     },
     "metadata": {},
     "output_type": "display_data"
    }
   ],
   "source": [
    "for max_depth in tqdm([10, 15, 20, 25]):\n",
    "    \n",
    "    rmse_list = []\n",
    "    \n",
    "    for n_estimators in tqdm(range(10,201,10)):\n",
    "        \n",
    "        rf = RandomForestRegressor(n_estimators=n_estimators, \n",
    "                                   max_depth=max_depth,\n",
    "                                   random_state=1,\n",
    "                                   n_jobs=-1)\n",
    "        \n",
    "        rf.fit(train_dv, y_train)\n",
    "\n",
    "        y_pred_val = rf.predict(val_dv)\n",
    "        rmse = generate_rmse(y_pred_val, y_val)\n",
    "        rmse_list.append(rmse)\n",
    "    \n",
    "    mean_rmse = statistics.mean(rmse_list)\n",
    "    scores.append((max_depth,mean_rmse))"
   ]
  },
  {
   "cell_type": "code",
   "execution_count": 58,
   "id": "917b88e2",
   "metadata": {},
   "outputs": [],
   "source": [
    "df_scores = pd.DataFrame(scores, columns=[\"max_depth\",'mean_rmse'])"
   ]
  },
  {
   "cell_type": "code",
   "execution_count": 59,
   "id": "e133cf37",
   "metadata": {},
   "outputs": [
    {
     "data": {
      "image/png": "[encoded data removed]",
      "text/plain": [
       "<Figure size 640x480 with 1 Axes>"
      ]
     },
     "metadata": {},
     "output_type": "display_data"
    }
   ],
   "source": [
    "plt.plot(df_scores.max_depth, df_scores.mean_rmse.round(3))\n",
    "plt.show()"
   ]
  },
  {
   "cell_type": "markdown",
   "id": "2160e433",
   "metadata": {},
   "source": [
    "The best max_depth using the mean RMSE is equal to: 20."
   ]
  },
  {
   "cell_type": "markdown",
   "id": "5124ba07",
   "metadata": {},
   "source": [
    "# Question 5"
   ]
  },
  {
   "cell_type": "markdown",
   "id": "33be012c",
   "metadata": {},
   "source": [
    "We can extract feature importance information from tree-based models.\n",
    "\n",
    "At each step of the decision tree learning algorithm, it finds the best split. When doing it, we can calculate \"gain\" - the reduction in impurity before and after the split. This gain is quite useful in understanding what are the important features for tree-based models.\n",
    "\n",
    "In Scikit-Learn, tree-based models contain this information in the feature_importances_ field.\n",
    "\n",
    "For this homework question, we'll find the most important feature:\n",
    "\n",
    "- Train the model with these parameters:\n",
    "    - n_estimators=10,\n",
    "    - max_depth=20,\n",
    "    - random_state=1,\n",
    "    - n_jobs=-1 (optional)\n",
    "\n",
    "- Get the feature importance information from this model\n",
    "\n",
    "What's the most important feature (among these 4)?\n",
    "\n",
    "- total_rooms\n",
    "- median_income\n",
    "- total_bedrooms\n",
    "- longitude"
   ]
  },
  {
   "cell_type": "code",
   "execution_count": 60,
   "id": "a9665e78",
   "metadata": {},
   "outputs": [],
   "source": [
    "random_forest = RandomForestRegressor(n_estimators=10, n_jobs=-1, random_state=1, max_depth=20)"
   ]
  },
  {
   "cell_type": "code",
   "execution_count": 61,
   "id": "91075919",
   "metadata": {},
   "outputs": [
    {
     "data": {
      "text/html": [
       "<style>#sk-container-id-3 {color: black;}#sk-container-id-3 pre{padding: 0;}#sk-container-id-3 div.sk-toggleable {background-color: white;}#sk-container-id-3 label.sk-toggleable__label {cursor: pointer;display: block;width: 100%;margin-bottom: 0;padding: 0.3em;box-sizing: border-box;text-align: center;}#sk-container-id-3 label.sk-toggleable__label-arrow:before {content: \"▸\";float: left;margin-right: 0.25em;color: #696969;}#sk-container-id-3 label.sk-toggleable__label-arrow:hover:before {color: black;}#sk-container-id-3 div.sk-estimator:hover label.sk-toggleable__label-arrow:before {color: black;}#sk-container-id-3 div.sk-toggleable__content {max-height: 0;max-width: 0;overflow: hidden;text-align: left;background-color: #f0f8ff;}#sk-container-id-3 div.sk-toggleable__content pre {margin: 0.2em;color: black;border-radius: 0.25em;background-color: #f0f8ff;}#sk-container-id-3 input.sk-toggleable__control:checked~div.sk-toggleable__content {max-height: 200px;max-width: 100%;overflow: auto;}#sk-container-id-3 input.sk-toggleable__control:checked~label.sk-toggleable__label-arrow:before {content: \"▾\";}#sk-container-id-3 div.sk-estimator input.sk-toggleable__control:checked~label.sk-toggleable__label {background-color: #d4ebff;}#sk-container-id-3 div.sk-label input.sk-toggleable__control:checked~label.sk-toggleable__label {background-color: #d4ebff;}#sk-container-id-3 input.sk-hidden--visually {border: 0;clip: rect(1px 1px 1px 1px);clip: rect(1px, 1px, 1px, 1px);height: 1px;margin: -1px;overflow: hidden;padding: 0;position: absolute;width: 1px;}#sk-container-id-3 div.sk-estimator {font-family: monospace;background-color: #f0f8ff;border: 1px dotted black;border-radius: 0.25em;box-sizing: border-box;margin-bottom: 0.5em;}#sk-container-id-3 div.sk-estimator:hover {background-color: #d4ebff;}#sk-container-id-3 div.sk-parallel-item::after {content: \"\";width: 100%;border-bottom: 1px solid gray;flex-grow: 1;}#sk-container-id-3 div.sk-label:hover label.sk-toggleable__label {background-color: #d4ebff;}#sk-container-id-3 div.sk-serial::before {content: \"\";position: absolute;border-left: 1px solid gray;box-sizing: border-box;top: 0;bottom: 0;left: 50%;z-index: 0;}#sk-container-id-3 div.sk-serial {display: flex;flex-direction: column;align-items: center;background-color: white;padding-right: 0.2em;padding-left: 0.2em;position: relative;}#sk-container-id-3 div.sk-item {position: relative;z-index: 1;}#sk-container-id-3 div.sk-parallel {display: flex;align-items: stretch;justify-content: center;background-color: white;position: relative;}#sk-container-id-3 div.sk-item::before, #sk-container-id-3 div.sk-parallel-item::before {content: \"\";position: absolute;border-left: 1px solid gray;box-sizing: border-box;top: 0;bottom: 0;left: 50%;z-index: -1;}#sk-container-id-3 div.sk-parallel-item {display: flex;flex-direction: column;z-index: 1;position: relative;background-color: white;}#sk-container-id-3 div.sk-parallel-item:first-child::after {align-self: flex-end;width: 50%;}#sk-container-id-3 div.sk-parallel-item:last-child::after {align-self: flex-start;width: 50%;}#sk-container-id-3 div.sk-parallel-item:only-child::after {width: 0;}#sk-container-id-3 div.sk-dashed-wrapped {border: 1px dashed gray;margin: 0 0.4em 0.5em 0.4em;box-sizing: border-box;padding-bottom: 0.4em;background-color: white;}#sk-container-id-3 div.sk-label label {font-family: monospace;font-weight: bold;display: inline-block;line-height: 1.2em;}#sk-container-id-3 div.sk-label-container {text-align: center;}#sk-container-id-3 div.sk-container {/* jupyter's `normalize.less` sets `[hidden] { display: none; }` but bootstrap.min.css set `[hidden] { display: none !important; }` so we also need the `!important` here to be able to override the default hidden behavior on the sphinx rendered scikit-learn.org. See: https://github.com/scikit-learn/scikit-learn/issues/21755 */display: inline-block !important;position: relative;}#sk-container-id-3 div.sk-text-repr-fallback {display: none;}</style><div id=\"sk-container-id-3\" class=\"sk-top-container\"><div class=\"sk-text-repr-fallback\"><pre>RandomForestRegressor(max_depth=20, n_estimators=10, n_jobs=-1, random_state=1)</pre><b>In a Jupyter environment, please rerun this cell to show the HTML representation or trust the notebook. <br />On GitHub, the HTML representation is unable to render, please try loading this page with nbviewer.org.</b></div><div class=\"sk-container\" hidden><div class=\"sk-item\"><div class=\"sk-estimator sk-toggleable\"><input class=\"sk-toggleable__control sk-hidden--visually\" id=\"sk-estimator-id-3\" type=\"checkbox\" checked><label for=\"sk-estimator-id-3\" class=\"sk-toggleable__label sk-toggleable__label-arrow\">RandomForestRegressor</label><div class=\"sk-toggleable__content\"><pre>RandomForestRegressor(max_depth=20, n_estimators=10, n_jobs=-1, random_state=1)</pre></div></div></div></div></div>"
      ],
      "text/plain": [
       "RandomForestRegressor(max_depth=20, n_estimators=10, n_jobs=-1, random_state=1)"
      ]
     },
     "execution_count": 61,
     "metadata": {},
     "output_type": "execute_result"
    }
   ],
   "source": [
    "random_forest.fit(train_dv, y_train)"
   ]
  },
  {
   "cell_type": "code",
   "execution_count": 62,
   "id": "648c7a83",
   "metadata": {},
   "outputs": [
    {
     "data": {
      "text/plain": [
       "array([0.0151361 , 0.03031726, 0.10200703, 0.08624381, 0.33561113,\n",
       "       0.29247297, 0.07380644, 0.02713606, 0.01585222, 0.02141699])"
      ]
     },
     "execution_count": 62,
     "metadata": {},
     "output_type": "execute_result"
    }
   ],
   "source": [
    "# Feature importance\n",
    "random_forest.feature_importances_"
   ]
  },
  {
   "cell_type": "code",
   "execution_count": 64,
   "id": "adee585f",
   "metadata": {},
   "outputs": [
    {
     "data": {
      "text/plain": [
       "['households',\n",
       " 'housing_median_age',\n",
       " 'latitude',\n",
       " 'longitude',\n",
       " 'median_income',\n",
       " 'ocean_proximity=<1H OCEAN',\n",
       " 'ocean_proximity=INLAND',\n",
       " 'population',\n",
       " 'total_bedrooms',\n",
       " 'total_rooms']"
      ]
     },
     "execution_count": 64,
     "metadata": {},
     "output_type": "execute_result"
    }
   ],
   "source": [
    "# Feature names\n",
    "dv.feature_names_"
   ]
  },
  {
   "cell_type": "code",
   "execution_count": 67,
   "id": "629b8c96",
   "metadata": {},
   "outputs": [],
   "source": [
    "dict_feature_importance = zip(dv.feature_names_, random_forest.feature_importances_)"
   ]
  },
  {
   "cell_type": "code",
   "execution_count": 68,
   "id": "bbc578ff",
   "metadata": {},
   "outputs": [],
   "source": [
    "feature_importance_df = pd.DataFrame(dict_feature_importance, columns=[\"Feature\", \"Importance\"])"
   ]
  },
  {
   "cell_type": "code",
   "execution_count": 70,
   "id": "38051d87",
   "metadata": {},
   "outputs": [
    {
     "data": {
      "text/html": [
       "<div>\n",
       "<style scoped>\n",
       "    .dataframe tbody tr th:only-of-type {\n",
       "        vertical-align: middle;\n",
       "    }\n",
       "\n",
       "    .dataframe tbody tr th {\n",
       "        vertical-align: top;\n",
       "    }\n",
       "\n",
       "    .dataframe thead th {\n",
       "        text-align: right;\n",
       "    }\n",
       "</style>\n",
       "<table border=\"1\" class=\"dataframe\">\n",
       "  <thead>\n",
       "    <tr style=\"text-align: right;\">\n",
       "      <th></th>\n",
       "      <th>Feature</th>\n",
       "      <th>Importance</th>\n",
       "    </tr>\n",
       "  </thead>\n",
       "  <tbody>\n",
       "    <tr>\n",
       "      <th>4</th>\n",
       "      <td>median_income</td>\n",
       "      <td>0.335611</td>\n",
       "    </tr>\n",
       "  </tbody>\n",
       "</table>\n",
       "</div>"
      ],
      "text/plain": [
       "         Feature  Importance\n",
       "4  median_income    0.335611"
      ]
     },
     "execution_count": 70,
     "metadata": {},
     "output_type": "execute_result"
    }
   ],
   "source": [
    "feature_importance_df[feature_importance_df[\"Importance\"] == feature_importance_df[\"Importance\"].max()]"
   ]
  },
  {
   "cell_type": "markdown",
   "id": "7999c38d",
   "metadata": {},
   "source": [
    "The median_income feature has the most importance in this model."
   ]
  },
  {
   "cell_type": "markdown",
   "id": "5749efad",
   "metadata": {},
   "source": [
    "# Question 6"
   ]
  },
  {
   "cell_type": "markdown",
   "id": "758ca8ef",
   "metadata": {},
   "source": [
    "Now let's train an XGBoost model! For this question, we'll tune the eta parameter:\n",
    "\n",
    "- Install XGBoost\n",
    "- Create DMatrix for train and validation\n",
    "- Create a watchlist\n",
    "- Train a model with these parameters for 100 rounds:\n",
    "\n",
    "```python\n",
    "xgb_params = {\n",
    "    'eta': 0.3, \n",
    "    'max_depth': 6,\n",
    "    'min_child_weight': 1,\n",
    "    \n",
    "    'objective': 'reg:squarederror',\n",
    "    'nthread': 8,\n",
    "    \n",
    "    'seed': 1,\n",
    "    'verbosity': 1,\n",
    "}\n",
    "```\n",
    "Now change eta from 0.3 to 0.1.\n",
    "\n",
    "Which eta leads to the best RMSE score on the validation dataset?\n",
    "\n",
    "- 0.3\n",
    "- 0.1\n",
    "- Both give equal value"
   ]
  },
  {
   "cell_type": "code",
   "execution_count": 71,
   "id": "bdaa0657",
   "metadata": {},
   "outputs": [
    {
     "name": "stdout",
     "output_type": "stream",
     "text": [
      "Collecting xgboost\n",
      "  Obtaining dependency information for xgboost from https://files.pythonhosted.org/packages/32/10/4689bda37403f7dd029d550c4446e0097c2f33b8ae877b235e76d5c49bc2/xgboost-2.0.0-py3-none-win_amd64.whl.metadata\n",
      "  Downloading xgboost-2.0.0-py3-none-win_amd64.whl.metadata (2.0 kB)\n",
      "Requirement already satisfied: numpy in c:\\users\\melanie\\anaconda3\\lib\\site-packages (from xgboost) (1.24.3)\n",
      "Requirement already satisfied: scipy in c:\\users\\melanie\\anaconda3\\lib\\site-packages (from xgboost) (1.10.1)\n",
      "Downloading xgboost-2.0.0-py3-none-win_amd64.whl (99.7 MB)\n",
      "   ---------------------------------------- 0.0/99.7 MB ? eta -:--:--\n",
      "    --------------------------------------- 1.8/99.7 MB 37.7 MB/s eta 0:00:03\n",
      "   - -------------------------------------- 3.2/99.7 MB 33.8 MB/s eta 0:00:03\n",
      "   - -------------------------------------- 4.4/99.7 MB 35.3 MB/s eta 0:00:03\n",
      "   -- ------------------------------------- 6.0/99.7 MB 31.9 MB/s eta 0:00:03\n",
      "   --- ------------------------------------ 7.5/99.7 MB 34.3 MB/s eta 0:00:03\n",
      "   --- ------------------------------------ 8.9/99.7 MB 31.5 MB/s eta 0:00:03\n",
      "   ---- ----------------------------------- 10.5/99.7 MB 32.8 MB/s eta 0:00:03\n",
      "   ---- ----------------------------------- 12.0/99.7 MB 31.2 MB/s eta 0:00:03\n",
      "   ----- ---------------------------------- 14.0/99.7 MB 32.7 MB/s eta 0:00:03\n",
      "   ------ --------------------------------- 16.1/99.7 MB 36.3 MB/s eta 0:00:03\n",
      "   ------- -------------------------------- 17.9/99.7 MB 38.5 MB/s eta 0:00:03\n",
      "   ------- -------------------------------- 19.4/99.7 MB 36.4 MB/s eta 0:00:03\n",
      "   -------- ------------------------------- 21.0/99.7 MB 38.6 MB/s eta 0:00:03\n",
      "   --------- ------------------------------ 22.5/99.7 MB 36.4 MB/s eta 0:00:03\n",
      "   --------- ------------------------------ 23.9/99.7 MB 34.4 MB/s eta 0:00:03\n",
      "   ---------- ----------------------------- 25.2/99.7 MB 34.4 MB/s eta 0:00:03\n",
      "   ---------- ----------------------------- 26.3/99.7 MB 31.2 MB/s eta 0:00:03\n",
      "   ----------- ---------------------------- 28.0/99.7 MB 29.7 MB/s eta 0:00:03\n",
      "   ----------- ---------------------------- 29.8/99.7 MB 32.7 MB/s eta 0:00:03\n",
      "   ------------ --------------------------- 31.5/99.7 MB 31.2 MB/s eta 0:00:03\n",
      "   ------------- -------------------------- 33.2/99.7 MB 31.2 MB/s eta 0:00:03\n",
      "   ------------- -------------------------- 34.7/99.7 MB 32.8 MB/s eta 0:00:02\n",
      "   -------------- ------------------------- 36.3/99.7 MB 34.4 MB/s eta 0:00:02\n",
      "   --------------- ------------------------ 37.7/99.7 MB 36.4 MB/s eta 0:00:02\n",
      "   --------------- ------------------------ 39.1/99.7 MB 32.7 MB/s eta 0:00:02\n",
      "   ---------------- ----------------------- 41.1/99.7 MB 32.7 MB/s eta 0:00:02\n",
      "   ----------------- ---------------------- 42.8/99.7 MB 34.4 MB/s eta 0:00:02\n",
      "   ----------------- ---------------------- 44.4/99.7 MB 34.6 MB/s eta 0:00:02\n",
      "   ------------------ --------------------- 45.5/99.7 MB 32.8 MB/s eta 0:00:02\n",
      "   ------------------ --------------------- 46.7/99.7 MB 32.7 MB/s eta 0:00:02\n",
      "   ------------------- -------------------- 47.9/99.7 MB 29.7 MB/s eta 0:00:02\n",
      "   ------------------- -------------------- 49.6/99.7 MB 31.2 MB/s eta 0:00:02\n",
      "   -------------------- ------------------- 50.9/99.7 MB 31.2 MB/s eta 0:00:02\n",
      "   --------------------- ------------------ 52.4/99.7 MB 29.7 MB/s eta 0:00:02\n",
      "   --------------------- ------------------ 54.1/99.7 MB 28.4 MB/s eta 0:00:02\n",
      "   ---------------------- ----------------- 55.5/99.7 MB 29.8 MB/s eta 0:00:02\n",
      "   ---------------------- ----------------- 56.6/99.7 MB 28.5 MB/s eta 0:00:02\n",
      "   ----------------------- ---------------- 57.6/99.7 MB 28.5 MB/s eta 0:00:02\n",
      "   ----------------------- ---------------- 58.7/99.7 MB 29.8 MB/s eta 0:00:02\n",
      "   ------------------------ --------------- 60.1/99.7 MB 27.3 MB/s eta 0:00:02\n",
      "   ------------------------ --------------- 62.1/99.7 MB 29.7 MB/s eta 0:00:02\n",
      "   ------------------------- -------------- 63.7/99.7 MB 29.7 MB/s eta 0:00:02\n",
      "   -------------------------- ------------- 65.5/99.7 MB 31.1 MB/s eta 0:00:02\n",
      "   -------------------------- ------------- 67.3/99.7 MB 32.8 MB/s eta 0:00:01\n",
      "   --------------------------- ------------ 69.0/99.7 MB 36.4 MB/s eta 0:00:01\n",
      "   ---------------------------- ----------- 70.7/99.7 MB 36.4 MB/s eta 0:00:01\n",
      "   ----------------------------- ---------- 72.4/99.7 MB 36.4 MB/s eta 0:00:01\n",
      "   ----------------------------- ---------- 74.3/99.7 MB 38.5 MB/s eta 0:00:01\n",
      "   ------------------------------ --------- 76.4/99.7 MB 38.5 MB/s eta 0:00:01\n",
      "   ------------------------------- -------- 78.2/99.7 MB 38.5 MB/s eta 0:00:01\n",
      "   -------------------------------- ------- 79.9/99.7 MB 38.5 MB/s eta 0:00:01\n",
      "   -------------------------------- ------- 81.7/99.7 MB 40.9 MB/s eta 0:00:01\n",
      "   --------------------------------- ------ 83.6/99.7 MB 40.9 MB/s eta 0:00:01\n",
      "   ---------------------------------- ----- 85.6/99.7 MB 40.9 MB/s eta 0:00:01\n",
      "   ----------------------------------- ---- 87.5/99.7 MB 40.9 MB/s eta 0:00:01\n",
      "   ----------------------------------- ---- 89.5/99.7 MB 40.9 MB/s eta 0:00:01\n",
      "   ------------------------------------ --- 91.1/99.7 MB 40.9 MB/s eta 0:00:01\n",
      "   ------------------------------------ --- 92.1/99.7 MB 36.3 MB/s eta 0:00:01\n",
      "   ------------------------------------- -- 93.8/99.7 MB 36.3 MB/s eta 0:00:01\n",
      "   -------------------------------------- - 95.9/99.7 MB 36.4 MB/s eta 0:00:01\n",
      "   ---------------------------------------  97.9/99.7 MB 36.4 MB/s eta 0:00:01\n",
      "   ---------------------------------------  99.5/99.7 MB 36.4 MB/s eta 0:00:01\n",
      "   ---------------------------------------  99.7/99.7 MB 34.4 MB/s eta 0:00:01\n",
      "   ---------------------------------------  99.7/99.7 MB 34.4 MB/s eta 0:00:01\n",
      "   ---------------------------------------  99.7/99.7 MB 34.4 MB/s eta 0:00:01\n",
      "   ---------------------------------------  99.7/99.7 MB 34.4 MB/s eta 0:00:01\n",
      "   ---------------------------------------  99.7/99.7 MB 34.4 MB/s eta 0:00:01\n",
      "   ---------------------------------------  99.7/99.7 MB 34.4 MB/s eta 0:00:01\n",
      "   ---------------------------------------  99.7/99.7 MB 34.4 MB/s eta 0:00:01\n",
      "   ---------------------------------------  99.7/99.7 MB 34.4 MB/s eta 0:00:01\n",
      "   ---------------------------------------- 99.7/99.7 MB 14.5 MB/s eta 0:00:00\n",
      "Installing collected packages: xgboost\n",
      "Successfully installed xgboost-2.0.0\n"
     ]
    }
   ],
   "source": [
    "# Install xgboost\n",
    "!pip install xgboost"
   ]
  },
  {
   "cell_type": "code",
   "execution_count": 83,
   "id": "a0b1773d",
   "metadata": {},
   "outputs": [],
   "source": [
    "# Create DMatrix for train and validation\n",
    "features = dv.feature_names_"
   ]
  },
  {
   "cell_type": "code",
   "execution_count": 88,
   "id": "f4db9c58",
   "metadata": {},
   "outputs": [],
   "source": [
    "# Avoid the \"ValueError: feature_names must be string, and may not contain [, ] or <\" error\n",
    "regex = re.compile(r\"<\", re.IGNORECASE)\n",
    "features = [regex.sub(\"_\", col) if any(x in str(col) for x in set(('[', ']', '<'))) else col for col in features]"
   ]
  },
  {
   "cell_type": "code",
   "execution_count": 89,
   "id": "03551d8c",
   "metadata": {},
   "outputs": [
    {
     "data": {
      "text/plain": [
       "['households',\n",
       " 'housing_median_age',\n",
       " 'latitude',\n",
       " 'longitude',\n",
       " 'median_income',\n",
       " 'ocean_proximity=_1H OCEAN',\n",
       " 'ocean_proximity=INLAND',\n",
       " 'population',\n",
       " 'total_bedrooms',\n",
       " 'total_rooms']"
      ]
     },
     "execution_count": 89,
     "metadata": {},
     "output_type": "execute_result"
    }
   ],
   "source": [
    "features"
   ]
  },
  {
   "cell_type": "code",
   "execution_count": 90,
   "id": "9802e846",
   "metadata": {},
   "outputs": [],
   "source": [
    "dtrain = xgb.DMatrix(train_dv, label = y_train, feature_names=features)"
   ]
  },
  {
   "cell_type": "code",
   "execution_count": 91,
   "id": "84f11bf8",
   "metadata": {},
   "outputs": [],
   "source": [
    "dval = xgb.DMatrix(val_dv, label = y_val, feature_names=features)"
   ]
  },
  {
   "cell_type": "code",
   "execution_count": 92,
   "id": "de379513",
   "metadata": {},
   "outputs": [],
   "source": [
    "# Create a watchlist\n",
    "watchlist = [(dtrain,'train'), (dval, 'val')]"
   ]
  },
  {
   "cell_type": "code",
   "execution_count": 107,
   "id": "8e5898fb",
   "metadata": {},
   "outputs": [],
   "source": [
    "%%capture output\n",
    "\n",
    "# Set XGB parameters and train the model\n",
    "xgb_params = {\n",
    "    'eta': 0.3, \n",
    "    'max_depth': 6,\n",
    "    'min_child_weight': 1,\n",
    "    \n",
    "    'objective': 'reg:squarederror',\n",
    "    'nthread': 8,\n",
    "    \n",
    "    'seed': 1,\n",
    "    'verbosity': 1,\n",
    "}\n",
    "\n",
    "model = xgb.train(xgb_params, dtrain, num_boost_round=100, verbose_eval=5, evals=watchlist)"
   ]
  },
  {
   "cell_type": "code",
   "execution_count": 108,
   "id": "6f4f82a4",
   "metadata": {},
   "outputs": [],
   "source": [
    "df_score_3 = parse_xgb_output(output)"
   ]
  },
  {
   "cell_type": "code",
   "execution_count": 109,
   "id": "4a72adf4",
   "metadata": {},
   "outputs": [],
   "source": [
    "%%capture output\n",
    "\n",
    "# Set XGB parameters and train the model\n",
    "xgb_params = {\n",
    "    'eta': 0.1, \n",
    "    'max_depth': 6,\n",
    "    'min_child_weight': 1,\n",
    "    \n",
    "    'objective': 'reg:squarederror',\n",
    "    'nthread': 8,\n",
    "    \n",
    "    'seed': 1,\n",
    "    'verbosity': 1,\n",
    "}\n",
    "\n",
    "model = xgb.train(xgb_params, dtrain, num_boost_round=100, verbose_eval=5, evals=watchlist)"
   ]
  },
  {
   "cell_type": "code",
   "execution_count": 110,
   "id": "e14412a5",
   "metadata": {},
   "outputs": [],
   "source": [
    "df_score_1 = parse_xgb_output(output)"
   ]
  },
  {
   "cell_type": "code",
   "execution_count": 111,
   "id": "db88b8d3",
   "metadata": {},
   "outputs": [
    {
     "data": {
      "text/plain": [
       "<matplotlib.legend.Legend at 0x1b214ae0bd0>"
      ]
     },
     "execution_count": 111,
     "metadata": {},
     "output_type": "execute_result"
    },
    {
     "data": {
      "image/png": "[encoded data removed]",
      "text/plain": [
       "<Figure size 640x480 with 1 Axes>"
      ]
     },
     "metadata": {},
     "output_type": "display_data"
    }
   ],
   "source": [
    "# Plot results\n",
    "plt.plot(df_score_3['num_iter'], df_score_3['val_rmse'], label='eta_3')\n",
    "plt.plot(df_score_1['num_iter'], df_score_1['val_rmse'], label='eta_1')\n",
    "plt.legend()"
   ]
  },
  {
   "cell_type": "markdown",
   "id": "6b81fe4a",
   "metadata": {},
   "source": [
    "Both eta values give similar results."
   ]
  },
  {
   "cell_type": "code",
   "execution_count": null,
   "id": "a36f8c6d",
   "metadata": {},
   "outputs": [],
   "source": []
  }
 ],
 "metadata": {
  "kernelspec": {
   "display_name": "Python 3 (ipykernel)",
   "language": "python",
   "name": "python3"
  },
  "language_info": {
   "codemirror_mode": {
    "name": "ipython",
    "version": 3
   },
   "file_extension": ".py",
   "mimetype": "text/x-python",
   "name": "python",
   "nbconvert_exporter": "python",
   "pygments_lexer": "ipython3",
   "version": "3.11.4"
  }
 },
 "nbformat": 4,
 "nbformat_minor": 5
}
