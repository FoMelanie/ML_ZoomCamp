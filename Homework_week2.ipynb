{
 "cells": [
  {
   "cell_type": "markdown",
   "id": "79c934ed",
   "metadata": {},
   "source": [
    "# Imports"
   ]
  },
  {
   "cell_type": "code",
   "execution_count": 1,
   "id": "1ca494e5",
   "metadata": {},
   "outputs": [],
   "source": [
    "import pandas as pd\n",
    "import numpy as np\n",
    "import matplotlib.pyplot as plt\n",
    "import seaborn as sns"
   ]
  },
  {
   "cell_type": "markdown",
   "id": "8a8d7457",
   "metadata": {},
   "source": [
    "# EDA"
   ]
  },
  {
   "cell_type": "markdown",
   "id": "f863b1f1",
   "metadata": {},
   "source": [
    "## Load the data"
   ]
  },
  {
   "cell_type": "code",
   "execution_count": 2,
   "id": "3971cab7",
   "metadata": {},
   "outputs": [],
   "source": [
    "housing_df = pd.read_csv('housing.csv')"
   ]
  },
  {
   "cell_type": "code",
   "execution_count": 12,
   "id": "ad7c2c7b",
   "metadata": {},
   "outputs": [
    {
     "data": {
      "text/plain": [
       "(20640, 10)"
      ]
     },
     "execution_count": 12,
     "metadata": {},
     "output_type": "execute_result"
    }
   ],
   "source": [
    "housing_df.shape"
   ]
  },
  {
   "cell_type": "markdown",
   "id": "9275fff8",
   "metadata": {},
   "source": [
    "## Look at the median_house_value variable. Does it have a long tail?"
   ]
  },
  {
   "cell_type": "code",
   "execution_count": 5,
   "id": "411b9486",
   "metadata": {},
   "outputs": [
    {
     "data": {
      "text/plain": [
       "<Axes: xlabel='median_house_value', ylabel='Count'>"
      ]
     },
     "execution_count": 5,
     "metadata": {},
     "output_type": "execute_result"
    },
    {
     "data": {
      "image/png": "[encoded data removed]",
      "text/plain": [
       "<Figure size 640x480 with 1 Axes>"
      ]
     },
     "metadata": {},
     "output_type": "display_data"
    }
   ],
   "source": [
    "sns.histplot(housing_df['median_house_value'])"
   ]
  },
  {
   "cell_type": "markdown",
   "id": "4bb550ef",
   "metadata": {},
   "source": [
    "The majority of values are located on the left side (mean around 150000) and a minority of houses have large values. We can see a strange pike at 500000, which could be the highest value possible to enter (these houses certainly cost more than 500000). \n",
    "This variable thus has a long tail."
   ]
  },
  {
   "cell_type": "markdown",
   "id": "0d8108fb",
   "metadata": {},
   "source": [
    "# Preparing the dataset"
   ]
  },
  {
   "cell_type": "markdown",
   "id": "ece2ca98",
   "metadata": {},
   "source": [
    "## First, keep only the records where ocean_proximity is either '<1H OCEAN' or 'INLAND'"
   ]
  },
  {
   "cell_type": "code",
   "execution_count": 6,
   "id": "8cf0e37d",
   "metadata": {},
   "outputs": [],
   "source": [
    "subset_df = housing_df[housing_df['ocean_proximity'].isin(['<1H OCEAN','INLAND'])]"
   ]
  },
  {
   "cell_type": "code",
   "execution_count": 9,
   "id": "b667b3ce",
   "metadata": {},
   "outputs": [
    {
     "data": {
      "text/plain": [
       "array(['<1H OCEAN', 'INLAND'], dtype=object)"
      ]
     },
     "execution_count": 9,
     "metadata": {},
     "output_type": "execute_result"
    }
   ],
   "source": [
    "subset_df['ocean_proximity'].unique()"
   ]
  },
  {
   "cell_type": "code",
   "execution_count": 11,
   "id": "9745621d",
   "metadata": {},
   "outputs": [
    {
     "data": {
      "text/plain": [
       "(15687, 10)"
      ]
     },
     "execution_count": 11,
     "metadata": {},
     "output_type": "execute_result"
    }
   ],
   "source": [
    "subset_df.shape"
   ]
  },
  {
   "cell_type": "markdown",
   "id": "6c0f9e03",
   "metadata": {},
   "source": [
    "## Next, use only the following columns:\n",
    "\n",
    "- 'latitude',\n",
    "- 'longitude',\n",
    "- 'housing_median_age',\n",
    "- 'total_rooms',\n",
    "- 'total_bedrooms',\n",
    "- 'population',\n",
    "- 'households',\n",
    "- 'median_income',\n",
    "- 'median_house_value'"
   ]
  },
  {
   "cell_type": "code",
   "execution_count": 13,
   "id": "5d7d8f32",
   "metadata": {},
   "outputs": [],
   "source": [
    "subset_df = subset_df[['latitude',\n",
    "'longitude',\n",
    "'housing_median_age',\n",
    "'total_rooms',\n",
    "'total_bedrooms',\n",
    "'population',\n",
    "'households',\n",
    "'median_income',\n",
    "'median_house_value']]"
   ]
  },
  {
   "cell_type": "code",
   "execution_count": 14,
   "id": "05469d0a",
   "metadata": {},
   "outputs": [
    {
     "data": {
      "text/plain": [
       "Index(['latitude', 'longitude', 'housing_median_age', 'total_rooms',\n",
       "       'total_bedrooms', 'population', 'households', 'median_income',\n",
       "       'median_house_value'],\n",
       "      dtype='object')"
      ]
     },
     "execution_count": 14,
     "metadata": {},
     "output_type": "execute_result"
    }
   ],
   "source": [
    "subset_df.columns"
   ]
  },
  {
   "cell_type": "markdown",
   "id": "24dc2530",
   "metadata": {},
   "source": [
    "# Question 1\n",
    "There's one feature with missing values. What is it?"
   ]
  },
  {
   "cell_type": "code",
   "execution_count": 15,
   "id": "877cbdc8",
   "metadata": {},
   "outputs": [
    {
     "data": {
      "text/plain": [
       "latitude                0\n",
       "longitude               0\n",
       "housing_median_age      0\n",
       "total_rooms             0\n",
       "total_bedrooms        157\n",
       "population              0\n",
       "households              0\n",
       "median_income           0\n",
       "median_house_value      0\n",
       "dtype: int64"
      ]
     },
     "execution_count": 15,
     "metadata": {},
     "output_type": "execute_result"
    }
   ],
   "source": [
    "subset_df.isnull().sum()"
   ]
  },
  {
   "cell_type": "markdown",
   "id": "c499b376",
   "metadata": {},
   "source": [
    "The total_bedrooms feature has 157 missing values, while the other do not have any missing values."
   ]
  },
  {
   "cell_type": "markdown",
   "id": "982fdc0e",
   "metadata": {},
   "source": [
    "# Question 2\n",
    "What's the median (50% percentile) for variable 'population'?"
   ]
  },
  {
   "cell_type": "code",
   "execution_count": 16,
   "id": "efe52a2b",
   "metadata": {},
   "outputs": [
    {
     "data": {
      "text/plain": [
       "1195.0"
      ]
     },
     "execution_count": 16,
     "metadata": {},
     "output_type": "execute_result"
    }
   ],
   "source": [
    "subset_df['population'].median()"
   ]
  },
  {
   "cell_type": "markdown",
   "id": "21034990",
   "metadata": {},
   "source": [
    "The median of the 'population' variable is equal to 1195."
   ]
  },
  {
   "cell_type": "markdown",
   "id": "0a3df53a",
   "metadata": {},
   "source": [
    "# Prepare and split the dataset"
   ]
  },
  {
   "cell_type": "markdown",
   "id": "465d9f04",
   "metadata": {},
   "source": [
    "## Shuffle the dataset (the filtered one you created above), use seed 42."
   ]
  },
  {
   "cell_type": "code",
   "execution_count": 19,
   "id": "035395bf",
   "metadata": {},
   "outputs": [],
   "source": [
    "# Use seed 42\n",
    "np.random.seed(42)"
   ]
  },
  {
   "cell_type": "code",
   "execution_count": 20,
   "id": "fb45a7cb",
   "metadata": {},
   "outputs": [
    {
     "data": {
      "text/plain": [
       "array([15183,  4469,  9316, ...,  5390,   860,  7270])"
      ]
     },
     "execution_count": 20,
     "metadata": {},
     "output_type": "execute_result"
    }
   ],
   "source": [
    "# Shuffle the indices of the filtered dataset (subset_df)\n",
    "n = len(subset_df)\n",
    "idx = np.arange(n)\n",
    "np.random.shuffle(idx)\n",
    "\n",
    "# Check shuffled idx\n",
    "idx"
   ]
  },
  {
   "cell_type": "code",
   "execution_count": 21,
   "id": "5477ebda",
   "metadata": {},
   "outputs": [],
   "source": [
    "# Shuffle the filtered dataset\n",
    "subset_df_shuffled = subset_df.iloc[idx]"
   ]
  },
  {
   "cell_type": "code",
   "execution_count": 23,
   "id": "7b7b851a",
   "metadata": {},
   "outputs": [
    {
     "data": {
      "text/html": [
       "<div>\n",
       "<style scoped>\n",
       "    .dataframe tbody tr th:only-of-type {\n",
       "        vertical-align: middle;\n",
       "    }\n",
       "\n",
       "    .dataframe tbody tr th {\n",
       "        vertical-align: top;\n",
       "    }\n",
       "\n",
       "    .dataframe thead th {\n",
       "        text-align: right;\n",
       "    }\n",
       "</style>\n",
       "<table border=\"1\" class=\"dataframe\">\n",
       "  <thead>\n",
       "    <tr style=\"text-align: right;\">\n",
       "      <th></th>\n",
       "      <th>latitude</th>\n",
       "      <th>longitude</th>\n",
       "      <th>housing_median_age</th>\n",
       "      <th>total_rooms</th>\n",
       "      <th>total_bedrooms</th>\n",
       "      <th>population</th>\n",
       "      <th>households</th>\n",
       "      <th>median_income</th>\n",
       "      <th>median_house_value</th>\n",
       "    </tr>\n",
       "  </thead>\n",
       "  <tbody>\n",
       "    <tr>\n",
       "      <th>19963</th>\n",
       "      <td>36.23</td>\n",
       "      <td>-119.14</td>\n",
       "      <td>22.0</td>\n",
       "      <td>2935.0</td>\n",
       "      <td>523.0</td>\n",
       "      <td>1927.0</td>\n",
       "      <td>530.0</td>\n",
       "      <td>2.5875</td>\n",
       "      <td>70400.0</td>\n",
       "    </tr>\n",
       "    <tr>\n",
       "      <th>5929</th>\n",
       "      <td>34.12</td>\n",
       "      <td>-117.79</td>\n",
       "      <td>16.0</td>\n",
       "      <td>2426.0</td>\n",
       "      <td>426.0</td>\n",
       "      <td>1319.0</td>\n",
       "      <td>446.0</td>\n",
       "      <td>4.8125</td>\n",
       "      <td>224500.0</td>\n",
       "    </tr>\n",
       "    <tr>\n",
       "      <th>11377</th>\n",
       "      <td>33.68</td>\n",
       "      <td>-117.97</td>\n",
       "      <td>26.0</td>\n",
       "      <td>3653.0</td>\n",
       "      <td>568.0</td>\n",
       "      <td>1930.0</td>\n",
       "      <td>585.0</td>\n",
       "      <td>5.7301</td>\n",
       "      <td>260900.0</td>\n",
       "    </tr>\n",
       "    <tr>\n",
       "      <th>6443</th>\n",
       "      <td>34.10</td>\n",
       "      <td>-118.03</td>\n",
       "      <td>32.0</td>\n",
       "      <td>2668.0</td>\n",
       "      <td>609.0</td>\n",
       "      <td>1512.0</td>\n",
       "      <td>541.0</td>\n",
       "      <td>2.9422</td>\n",
       "      <td>233100.0</td>\n",
       "    </tr>\n",
       "    <tr>\n",
       "      <th>17546</th>\n",
       "      <td>37.34</td>\n",
       "      <td>-121.87</td>\n",
       "      <td>39.0</td>\n",
       "      <td>2479.0</td>\n",
       "      <td>541.0</td>\n",
       "      <td>1990.0</td>\n",
       "      <td>506.0</td>\n",
       "      <td>2.4306</td>\n",
       "      <td>289100.0</td>\n",
       "    </tr>\n",
       "    <tr>\n",
       "      <th>12931</th>\n",
       "      <td>38.64</td>\n",
       "      <td>-121.24</td>\n",
       "      <td>13.0</td>\n",
       "      <td>4491.0</td>\n",
       "      <td>689.0</td>\n",
       "      <td>1657.0</td>\n",
       "      <td>667.0</td>\n",
       "      <td>5.2590</td>\n",
       "      <td>249400.0</td>\n",
       "    </tr>\n",
       "    <tr>\n",
       "      <th>4407</th>\n",
       "      <td>34.09</td>\n",
       "      <td>-118.23</td>\n",
       "      <td>47.0</td>\n",
       "      <td>859.0</td>\n",
       "      <td>239.0</td>\n",
       "      <td>913.0</td>\n",
       "      <td>234.0</td>\n",
       "      <td>2.6442</td>\n",
       "      <td>136100.0</td>\n",
       "    </tr>\n",
       "    <tr>\n",
       "      <th>13050</th>\n",
       "      <td>38.59</td>\n",
       "      <td>-121.32</td>\n",
       "      <td>24.0</td>\n",
       "      <td>4378.0</td>\n",
       "      <td>910.0</td>\n",
       "      <td>2149.0</td>\n",
       "      <td>812.0</td>\n",
       "      <td>2.5035</td>\n",
       "      <td>123700.0</td>\n",
       "    </tr>\n",
       "    <tr>\n",
       "      <th>11860</th>\n",
       "      <td>40.01</td>\n",
       "      <td>-121.23</td>\n",
       "      <td>38.0</td>\n",
       "      <td>725.0</td>\n",
       "      <td>190.0</td>\n",
       "      <td>219.0</td>\n",
       "      <td>115.0</td>\n",
       "      <td>1.6250</td>\n",
       "      <td>75000.0</td>\n",
       "    </tr>\n",
       "    <tr>\n",
       "      <th>13562</th>\n",
       "      <td>34.15</td>\n",
       "      <td>-117.28</td>\n",
       "      <td>36.0</td>\n",
       "      <td>1734.0</td>\n",
       "      <td>280.0</td>\n",
       "      <td>604.0</td>\n",
       "      <td>259.0</td>\n",
       "      <td>3.8292</td>\n",
       "      <td>122200.0</td>\n",
       "    </tr>\n",
       "  </tbody>\n",
       "</table>\n",
       "</div>"
      ],
      "text/plain": [
       "       latitude  longitude  housing_median_age  total_rooms  total_bedrooms  \\\n",
       "19963     36.23    -119.14                22.0       2935.0           523.0   \n",
       "5929      34.12    -117.79                16.0       2426.0           426.0   \n",
       "11377     33.68    -117.97                26.0       3653.0           568.0   \n",
       "6443      34.10    -118.03                32.0       2668.0           609.0   \n",
       "17546     37.34    -121.87                39.0       2479.0           541.0   \n",
       "12931     38.64    -121.24                13.0       4491.0           689.0   \n",
       "4407      34.09    -118.23                47.0        859.0           239.0   \n",
       "13050     38.59    -121.32                24.0       4378.0           910.0   \n",
       "11860     40.01    -121.23                38.0        725.0           190.0   \n",
       "13562     34.15    -117.28                36.0       1734.0           280.0   \n",
       "\n",
       "       population  households  median_income  median_house_value  \n",
       "19963      1927.0       530.0         2.5875             70400.0  \n",
       "5929       1319.0       446.0         4.8125            224500.0  \n",
       "11377      1930.0       585.0         5.7301            260900.0  \n",
       "6443       1512.0       541.0         2.9422            233100.0  \n",
       "17546      1990.0       506.0         2.4306            289100.0  \n",
       "12931      1657.0       667.0         5.2590            249400.0  \n",
       "4407        913.0       234.0         2.6442            136100.0  \n",
       "13050      2149.0       812.0         2.5035            123700.0  \n",
       "11860       219.0       115.0         1.6250             75000.0  \n",
       "13562       604.0       259.0         3.8292            122200.0  "
      ]
     },
     "execution_count": 23,
     "metadata": {},
     "output_type": "execute_result"
    }
   ],
   "source": [
    "# Check the first 10 row indices to see if they are shuffled\n",
    "subset_df_shuffled.head(10)"
   ]
  },
  {
   "cell_type": "markdown",
   "id": "c26bd7dc",
   "metadata": {},
   "source": [
    "## Split your data in train/val/test sets, with 60%/20%/20% distribution."
   ]
  },
  {
   "cell_type": "code",
   "execution_count": 26,
   "id": "d0b5a0ff",
   "metadata": {},
   "outputs": [],
   "source": [
    "# Determine number of values for the train, validation and test sets\n",
    "n_val = int(0.2*n)\n",
    "n_test = int(0.2*n)\n",
    "n_train = n - (n_val+n_test)"
   ]
  },
  {
   "cell_type": "code",
   "execution_count": 27,
   "id": "bee13844",
   "metadata": {},
   "outputs": [
    {
     "name": "stdout",
     "output_type": "stream",
     "text": [
      "9413 3137 3137\n"
     ]
    }
   ],
   "source": [
    "# Check the number of individuals per set\n",
    "print(n_train, n_test, n_val)"
   ]
  },
  {
   "cell_type": "code",
   "execution_count": 28,
   "id": "b592c0c4",
   "metadata": {},
   "outputs": [
    {
     "name": "stdout",
     "output_type": "stream",
     "text": [
      "15687 15687\n"
     ]
    }
   ],
   "source": [
    "# Check that we have the same number of individuals\n",
    "print(n, n_train+n_test+n_val)"
   ]
  },
  {
   "cell_type": "code",
   "execution_count": 37,
   "id": "f5e52ac6",
   "metadata": {},
   "outputs": [],
   "source": [
    "# Divide our filtered dataset into train, val and test datasets\n",
    "train_dataset = subset_df_shuffled[:n_train]\n",
    "val_dataset = subset_df_shuffled[n_train:n_train+n_val]\n",
    "test_dataset = subset_df_shuffled[n_train+n_val:]"
   ]
  },
  {
   "cell_type": "code",
   "execution_count": 34,
   "id": "43b3bbf4",
   "metadata": {},
   "outputs": [
    {
     "name": "stdout",
     "output_type": "stream",
     "text": [
      "Train dataset has 9413 rows and 9 columns.\n",
      "Validation dataset has 3137 rows and 9 columns.\n",
      "Test dataset has 3137 rows and 9 columns.\n"
     ]
    }
   ],
   "source": [
    "# Check our datasets shapes\n",
    "print(f\"Train dataset has {train_dataset.shape[0]} rows and {train_dataset.shape[1]} columns.\")\n",
    "print(f\"Validation dataset has {val_dataset.shape[0]} rows and {val_dataset.shape[1]} columns.\")\n",
    "print(f\"Test dataset has {test_dataset.shape[0]} rows and {test_dataset.shape[1]} columns.\")"
   ]
  },
  {
   "cell_type": "markdown",
   "id": "4fda3367",
   "metadata": {},
   "source": [
    "## Apply the log transformation to the median_house_value variable using the np.log1p() function."
   ]
  },
  {
   "cell_type": "code",
   "execution_count": 38,
   "id": "48e24a77",
   "metadata": {},
   "outputs": [
    {
     "name": "stderr",
     "output_type": "stream",
     "text": [
      "C:\\Users\\Melanie\\AppData\\Local\\Temp\\ipykernel_21944\\2518368375.py:1: SettingWithCopyWarning: \n",
      "A value is trying to be set on a copy of a slice from a DataFrame.\n",
      "Try using .loc[row_indexer,col_indexer] = value instead\n",
      "\n",
      "See the caveats in the documentation: https://pandas.pydata.org/pandas-docs/stable/user_guide/indexing.html#returning-a-view-versus-a-copy\n",
      "  train_dataset['median_house_value'] = np.log1p(train_dataset['median_house_value'])\n",
      "C:\\Users\\Melanie\\AppData\\Local\\Temp\\ipykernel_21944\\2518368375.py:2: SettingWithCopyWarning: \n",
      "A value is trying to be set on a copy of a slice from a DataFrame.\n",
      "Try using .loc[row_indexer,col_indexer] = value instead\n",
      "\n",
      "See the caveats in the documentation: https://pandas.pydata.org/pandas-docs/stable/user_guide/indexing.html#returning-a-view-versus-a-copy\n",
      "  val_dataset['median_house_value'] = np.log1p(val_dataset['median_house_value'])\n",
      "C:\\Users\\Melanie\\AppData\\Local\\Temp\\ipykernel_21944\\2518368375.py:3: SettingWithCopyWarning: \n",
      "A value is trying to be set on a copy of a slice from a DataFrame.\n",
      "Try using .loc[row_indexer,col_indexer] = value instead\n",
      "\n",
      "See the caveats in the documentation: https://pandas.pydata.org/pandas-docs/stable/user_guide/indexing.html#returning-a-view-versus-a-copy\n",
      "  test_dataset['median_house_value'] = np.log1p(test_dataset['median_house_value'])\n"
     ]
    }
   ],
   "source": [
    "train_dataset['median_house_value'] = np.log1p(train_dataset['median_house_value'])\n",
    "val_dataset['median_house_value'] = np.log1p(val_dataset['median_house_value'])\n",
    "test_dataset['median_house_value'] = np.log1p(test_dataset['median_house_value'])"
   ]
  },
  {
   "cell_type": "markdown",
   "id": "3e6f2d8b",
   "metadata": {},
   "source": [
    "# Question 3\n"
   ]
  },
  {
   "cell_type": "markdown",
   "id": "464fc0ba",
   "metadata": {},
   "source": [
    "- We need to deal with missing values for the column from Q1.\n",
    "- We have two options: fill it with 0 or with the mean of this variable.\n",
    "- Try both options. For each, train a linear regression model without regularization using the code from the lessons.\n",
    "- For computing the mean, use the training only!\n",
    "- Use the validation dataset to evaluate the models and compare the RMSE of each option.\n",
    "- Round the RMSE scores to 2 decimal digits using round(score, 2)\n",
    "- Which option gives better RMSE?"
   ]
  },
  {
   "cell_type": "markdown",
   "id": "13fcc1f9",
   "metadata": {},
   "source": [
    "## Extraction of target variable to separate features and target"
   ]
  },
  {
   "cell_type": "code",
   "execution_count": 40,
   "id": "a6a51831",
   "metadata": {},
   "outputs": [],
   "source": [
    "# Extract target variable as numpy array\n",
    "y_train = train_dataset['median_house_value'].values\n",
    "y_val = val_dataset['median_house_value'].values\n",
    "y_test = test_dataset['median_house_value'].values"
   ]
  },
  {
   "cell_type": "code",
   "execution_count": 41,
   "id": "041e2e0a",
   "metadata": {},
   "outputs": [
    {
     "data": {
      "text/plain": [
       "array([11.16196275, 12.32163544, 12.4718963 , ..., 13.12236738,\n",
       "       12.11888489, 12.52924613])"
      ]
     },
     "execution_count": 41,
     "metadata": {},
     "output_type": "execute_result"
    }
   ],
   "source": [
    "y_train"
   ]
  },
  {
   "cell_type": "code",
   "execution_count": 42,
   "id": "55c88180",
   "metadata": {},
   "outputs": [
    {
     "data": {
      "text/plain": [
       "array([11.3095968 , 12.27326857, 11.95247633, ..., 12.53968723,\n",
       "       12.34279083, 11.97477721])"
      ]
     },
     "execution_count": 42,
     "metadata": {},
     "output_type": "execute_result"
    }
   ],
   "source": [
    "y_val"
   ]
  },
  {
   "cell_type": "code",
   "execution_count": 43,
   "id": "1c33ca3f",
   "metadata": {},
   "outputs": [
    {
     "data": {
      "text/plain": [
       "array([11.90969286, 12.16733701, 12.39338589, ..., 12.3647886 ,\n",
       "       11.33141558, 12.50766132])"
      ]
     },
     "execution_count": 43,
     "metadata": {},
     "output_type": "execute_result"
    }
   ],
   "source": [
    "y_test"
   ]
  },
  {
   "cell_type": "code",
   "execution_count": 44,
   "id": "a6d3c525",
   "metadata": {},
   "outputs": [],
   "source": [
    "# Remove the target column from our feature datasets\n",
    "del train_dataset['median_house_value']\n",
    "del val_dataset['median_house_value']\n",
    "del test_dataset['median_house_value']"
   ]
  },
  {
   "cell_type": "markdown",
   "id": "33c0863d",
   "metadata": {},
   "source": [
    "## Fill NaN values for the \"total_bedrooms\" variable with 0 or mean of training dataset"
   ]
  },
  {
   "cell_type": "code",
   "execution_count": 48,
   "id": "9600c759",
   "metadata": {},
   "outputs": [],
   "source": [
    "# Fill missing values by 0\n",
    "train_dataset_zero = train_dataset.fillna(0)\n",
    "val_dataset_zero = val_dataset.fillna(0)\n",
    "test_dataset_zero = test_dataset.fillna(0)"
   ]
  },
  {
   "cell_type": "code",
   "execution_count": 50,
   "id": "c226ec08",
   "metadata": {},
   "outputs": [],
   "source": [
    "# Calculate the mean value of total_bedrooms on the train dataset\n",
    "mean_total_bedrooms = train_dataset['total_bedrooms'].mean()"
   ]
  },
  {
   "cell_type": "code",
   "execution_count": 51,
   "id": "2ffa3077",
   "metadata": {},
   "outputs": [
    {
     "data": {
      "text/plain": [
       "542.552956325786"
      ]
     },
     "execution_count": 51,
     "metadata": {},
     "output_type": "execute_result"
    }
   ],
   "source": [
    "mean_total_bedrooms"
   ]
  },
  {
   "cell_type": "code",
   "execution_count": 52,
   "id": "70f57640",
   "metadata": {},
   "outputs": [],
   "source": [
    "# Fill missing values with this mean\n",
    "train_dataset_mean = train_dataset.fillna(mean_total_bedrooms)\n",
    "val_dataset_mean = val_dataset.fillna(mean_total_bedrooms)\n",
    "test_dataset_mean = test_dataset.fillna(mean_total_bedrooms)"
   ]
  },
  {
   "cell_type": "markdown",
   "id": "dc5f2b91",
   "metadata": {},
   "source": [
    "## Train a linear model without regularization with both types of datasets"
   ]
  },
  {
   "cell_type": "markdown",
   "id": "1be3f90e",
   "metadata": {},
   "source": [
    "### Functions"
   ]
  },
  {
   "cell_type": "code",
   "execution_count": 53,
   "id": "d861b1f4",
   "metadata": {},
   "outputs": [],
   "source": [
    "# The linear regression training function from the course\n",
    "def train_linear_regression(X, y):\n",
    "    ones = np.ones(X.shape[0])\n",
    "    X = np.column_stack([ones, X])\n",
    "\n",
    "    XTX = X.T.dot(X)\n",
    "    XTX_inv = np.linalg.inv(XTX)\n",
    "    w = XTX_inv.dot(X.T).dot(y)\n",
    "    \n",
    "    return w[0], w[1:]"
   ]
  },
  {
   "cell_type": "code",
   "execution_count": 54,
   "id": "068a477a",
   "metadata": {},
   "outputs": [],
   "source": [
    "# The RMSE calculation function\n",
    "def rmse(y, y_pred):\n",
    "    error = y_pred - y\n",
    "    mse = (error ** 2).mean()\n",
    "    return np.sqrt(mse)"
   ]
  },
  {
   "cell_type": "markdown",
   "id": "192386d9",
   "metadata": {},
   "source": [
    "### Prepare the features matrices"
   ]
  },
  {
   "cell_type": "code",
   "execution_count": 55,
   "id": "1438b536",
   "metadata": {},
   "outputs": [],
   "source": [
    "# Fill NaN with 0 matrices\n",
    "X_train_zero = train_dataset_zero.values\n",
    "X_val_zero = val_dataset_zero.values\n",
    "X_test_zero = test_dataset_zero.values"
   ]
  },
  {
   "cell_type": "code",
   "execution_count": 56,
   "id": "3fc09d7c",
   "metadata": {},
   "outputs": [],
   "source": [
    "# Fill NaN with train mean of total_bedrooms matrices\n",
    "X_train_mean = train_dataset_mean.values\n",
    "X_val_mean = val_dataset_mean.values\n",
    "X_test_mean = test_dataset_mean.values"
   ]
  },
  {
   "cell_type": "markdown",
   "id": "532f603d",
   "metadata": {},
   "source": [
    "### Train with fillna(0) dataset"
   ]
  },
  {
   "cell_type": "code",
   "execution_count": 57,
   "id": "ff7becb3",
   "metadata": {},
   "outputs": [],
   "source": [
    "w0_zero, w_zero = train_linear_regression(X_train_zero,y_train)"
   ]
  },
  {
   "cell_type": "code",
   "execution_count": 58,
   "id": "baf39b27",
   "metadata": {
    "scrolled": true
   },
   "outputs": [
    {
     "name": "stdout",
     "output_type": "stream",
     "text": [
      "-9.763249477929213 [-2.68233309e-01 -2.55938802e-01  1.77710730e-03 -3.38393956e-05\n",
      "  2.93766352e-04 -1.52190447e-04  3.96908643e-04  1.80600946e-01]\n"
     ]
    }
   ],
   "source": [
    "print(w0_zero, w_zero)"
   ]
  },
  {
   "cell_type": "code",
   "execution_count": 59,
   "id": "a176136d",
   "metadata": {},
   "outputs": [],
   "source": [
    "y_pred = w0_zero + X_train_zero.dot(w_zero)"
   ]
  },
  {
   "cell_type": "code",
   "execution_count": 60,
   "id": "7dcad66d",
   "metadata": {},
   "outputs": [
    {
     "data": {
      "text/plain": [
       "<Axes: ylabel='Count'>"
      ]
     },
     "execution_count": 60,
     "metadata": {},
     "output_type": "execute_result"
    },
    {
     "data": {
      "image/png": "[encoded data removed]",
      "text/plain": [
       "<Figure size 640x480 with 1 Axes>"
      ]
     },
     "metadata": {},
     "output_type": "display_data"
    }
   ],
   "source": [
    "# By curiosity, we can plot the predictions to see if they are close to true values\n",
    "sns.histplot(y_pred, color='red', alpha=0.5)\n",
    "sns.histplot(y_train, color='blue', alpha=0.5)"
   ]
  },
  {
   "cell_type": "markdown",
   "id": "bb8e4cd0",
   "metadata": {},
   "source": [
    "The predicted values look pretty close to real values on the training dataset."
   ]
  },
  {
   "cell_type": "code",
   "execution_count": 62,
   "id": "78d7f7e2",
   "metadata": {},
   "outputs": [],
   "source": [
    "# Predicted values obtained on the validation dataset:\n",
    "y_pred_val = w0_zero + X_val_zero.dot(w_zero)"
   ]
  },
  {
   "cell_type": "code",
   "execution_count": 63,
   "id": "fcbff261",
   "metadata": {},
   "outputs": [
    {
     "data": {
      "text/plain": [
       "<Axes: ylabel='Count'>"
      ]
     },
     "execution_count": 63,
     "metadata": {},
     "output_type": "execute_result"
    },
    {
     "data": {
      "image/png": "[encoded data removed]",
      "text/plain": [
       "<Figure size 640x480 with 1 Axes>"
      ]
     },
     "metadata": {},
     "output_type": "display_data"
    }
   ],
   "source": [
    "# By curiosity, we can also check the plot to see if the validation predicted values are close to the true validation values\n",
    "sns.histplot(y_pred_val, color='red', alpha=0.5)\n",
    "sns.histplot(y_val, color='blue', alpha=0.5)"
   ]
  },
  {
   "cell_type": "code",
   "execution_count": 64,
   "id": "1e71ce77",
   "metadata": {},
   "outputs": [],
   "source": [
    "# Calculate the corresponding validation RMSE:\n",
    "rmse_zero_val = rmse(y_val, y_pred_val)"
   ]
  },
  {
   "cell_type": "code",
   "execution_count": 65,
   "id": "9e12c539",
   "metadata": {},
   "outputs": [
    {
     "data": {
      "text/plain": [
       "0.3408479034201646"
      ]
     },
     "execution_count": 65,
     "metadata": {},
     "output_type": "execute_result"
    }
   ],
   "source": [
    "rmse_zero_val"
   ]
  },
  {
   "cell_type": "markdown",
   "id": "668de590",
   "metadata": {},
   "source": [
    "### Train with fillna(mean) dataset"
   ]
  },
  {
   "cell_type": "code",
   "execution_count": 66,
   "id": "5f0185e2",
   "metadata": {},
   "outputs": [],
   "source": [
    "w0_mean, w_mean = train_linear_regression(X_train_mean,y_train)"
   ]
  },
  {
   "cell_type": "code",
   "execution_count": 67,
   "id": "cf88c4e0",
   "metadata": {
    "scrolled": true
   },
   "outputs": [
    {
     "name": "stdout",
     "output_type": "stream",
     "text": [
      "-9.886133215861097 [-2.68652914e-01 -2.57026361e-01  1.79880767e-03 -3.87631029e-05\n",
      "  3.78806885e-04 -1.49641599e-04  3.25344392e-04  1.81951358e-01]\n"
     ]
    }
   ],
   "source": [
    "print(w0_mean, w_mean)"
   ]
  },
  {
   "cell_type": "markdown",
   "id": "19505edf",
   "metadata": {},
   "source": [
    "We can already tell by just looking at weights values that they are very similar to weight values obtained by filling missing values with 0."
   ]
  },
  {
   "cell_type": "code",
   "execution_count": 68,
   "id": "068c9dac",
   "metadata": {},
   "outputs": [],
   "source": [
    "y_pred = w0_mean + X_train_mean.dot(w_mean)"
   ]
  },
  {
   "cell_type": "code",
   "execution_count": 69,
   "id": "57213361",
   "metadata": {},
   "outputs": [
    {
     "data": {
      "text/plain": [
       "<Axes: ylabel='Count'>"
      ]
     },
     "execution_count": 69,
     "metadata": {},
     "output_type": "execute_result"
    },
    {
     "data": {
      "image/png": "[encoded data removed]",
      "text/plain": [
       "<Figure size 640x480 with 1 Axes>"
      ]
     },
     "metadata": {},
     "output_type": "display_data"
    }
   ],
   "source": [
    "# By curiosity, we can plot the predictions to see if they are close to true values\n",
    "sns.histplot(y_pred, color='red', alpha=0.5)\n",
    "sns.histplot(y_train, color='blue', alpha=0.5)"
   ]
  },
  {
   "cell_type": "markdown",
   "id": "6aeee675",
   "metadata": {},
   "source": [
    "The predicted values look pretty close to real values on the training dataset."
   ]
  },
  {
   "cell_type": "code",
   "execution_count": 70,
   "id": "e1d90068",
   "metadata": {},
   "outputs": [],
   "source": [
    "# Predicted values obtained on the validation dataset:\n",
    "y_pred_val = w0_mean + X_val_mean.dot(w_mean)"
   ]
  },
  {
   "cell_type": "code",
   "execution_count": 71,
   "id": "ec012203",
   "metadata": {},
   "outputs": [
    {
     "data": {
      "text/plain": [
       "<Axes: ylabel='Count'>"
      ]
     },
     "execution_count": 71,
     "metadata": {},
     "output_type": "execute_result"
    },
    {
     "data": {
      "image/png": "[encoded data removed]",
      "text/plain": [
       "<Figure size 640x480 with 1 Axes>"
      ]
     },
     "metadata": {},
     "output_type": "display_data"
    }
   ],
   "source": [
    "# By curiosity, we can also check the plot to see if the validation predicted values are close to the true validation values\n",
    "sns.histplot(y_pred_val, color='red', alpha=0.5)\n",
    "sns.histplot(y_val, color='blue', alpha=0.5)"
   ]
  },
  {
   "cell_type": "code",
   "execution_count": 72,
   "id": "a341525e",
   "metadata": {},
   "outputs": [],
   "source": [
    "# Calculate the corresponding validation RMSE:\n",
    "rmse_mean_val = rmse(y_val, y_pred_val)"
   ]
  },
  {
   "cell_type": "code",
   "execution_count": 73,
   "id": "46888182",
   "metadata": {},
   "outputs": [
    {
     "data": {
      "text/plain": [
       "0.34056998014793216"
      ]
     },
     "execution_count": 73,
     "metadata": {},
     "output_type": "execute_result"
    }
   ],
   "source": [
    "rmse_mean_val"
   ]
  },
  {
   "cell_type": "markdown",
   "id": "7fea79a5",
   "metadata": {},
   "source": [
    "Interestingly, both RMSE values are identical."
   ]
  },
  {
   "cell_type": "markdown",
   "id": "33d98f83",
   "metadata": {},
   "source": [
    "# Question 4"
   ]
  },
  {
   "cell_type": "markdown",
   "id": "e51a0eb5",
   "metadata": {},
   "source": [
    "- Now let's train a regularized linear regression.\n",
    "- For this question, fill the NAs with 0.\n",
    "- Try different values of r from this list: [0, 0.000001, 0.0001, 0.001, 0.01, 0.1, 1, 5, 10].\n",
    "- Use RMSE to evaluate the model on the validation dataset.\n",
    "- Round the RMSE scores to 2 decimal digits.\n",
    "- Which r gives the best RMSE?"
   ]
  },
  {
   "cell_type": "code",
   "execution_count": 74,
   "id": "08d7069b",
   "metadata": {},
   "outputs": [],
   "source": [
    "# Set the regularization value list\n",
    "r_list = [0, 0.000001, 0.0001, 0.001, 0.01, 0.1, 1, 5, 10]"
   ]
  },
  {
   "cell_type": "markdown",
   "id": "c6cab8c6",
   "metadata": {},
   "source": [
    "## Regularized linear regression function"
   ]
  },
  {
   "cell_type": "code",
   "execution_count": 75,
   "id": "5155376a",
   "metadata": {},
   "outputs": [],
   "source": [
    "def train_linear_regression_reg(X, y, r=0.0):\n",
    "    ones = np.ones(X.shape[0])\n",
    "    X = np.column_stack([ones, X])\n",
    "\n",
    "    XTX = X.T.dot(X)\n",
    "    reg = r * np.eye(XTX.shape[0])\n",
    "    XTX = XTX + reg\n",
    "\n",
    "    XTX_inv = np.linalg.inv(XTX)\n",
    "    w = XTX_inv.dot(X.T).dot(y)\n",
    "    \n",
    "    return w[0], w[1:]"
   ]
  },
  {
   "cell_type": "markdown",
   "id": "b8a613af",
   "metadata": {},
   "source": [
    "## Train with different values of regularization factor"
   ]
  },
  {
   "cell_type": "code",
   "execution_count": 77,
   "id": "3ae67e76",
   "metadata": {},
   "outputs": [
    {
     "name": "stdout",
     "output_type": "stream",
     "text": [
      "With r=0, RMSE value obtained on validation dataset is equal to 0.34\n",
      "With r=1e-06, RMSE value obtained on validation dataset is equal to 0.34\n",
      "With r=0.0001, RMSE value obtained on validation dataset is equal to 0.34\n",
      "With r=0.001, RMSE value obtained on validation dataset is equal to 0.34\n",
      "With r=0.01, RMSE value obtained on validation dataset is equal to 0.34\n",
      "With r=0.1, RMSE value obtained on validation dataset is equal to 0.34\n",
      "With r=1, RMSE value obtained on validation dataset is equal to 0.34\n",
      "With r=5, RMSE value obtained on validation dataset is equal to 0.35\n",
      "With r=10, RMSE value obtained on validation dataset is equal to 0.35\n"
     ]
    }
   ],
   "source": [
    "for r in r_list:\n",
    "    w0, w = train_linear_regression_reg(X_train_zero, y_train, r)\n",
    "    y_pred = w0 + X_val_zero.dot(w)\n",
    "    rmse_value = round(rmse(y_val, y_pred),2)\n",
    "    print(f\"With r={r}, RMSE value obtained on validation dataset is equal to {rmse_value}\")"
   ]
  },
  {
   "cell_type": "markdown",
   "id": "f29973ba",
   "metadata": {},
   "source": [
    "With r=0, we already have the lowest RMSE score (rounded to 2 digits)."
   ]
  },
  {
   "cell_type": "markdown",
   "id": "21cba6b2",
   "metadata": {},
   "source": [
    "# Question 5"
   ]
  },
  {
   "cell_type": "markdown",
   "id": "88135708",
   "metadata": {},
   "source": [
    "- We used seed 42 for splitting the data. Let's find out how selecting the seed influences our score.\n",
    "- Try different seed values: [0, 1, 2, 3, 4, 5, 6, 7, 8, 9].\n",
    "- For each seed, do the train/validation/test split with 60%/20%/20% distribution.\n",
    "- Fill the missing values with 0 and train a model without regularization.\n",
    "- For each seed, evaluate the model on the validation dataset and collect the RMSE scores.\n",
    "- What's the standard deviation of all the scores? To compute the standard deviation, use np.std.\n",
    "- Round the result to 3 decimal digits (round(std, 3))"
   ]
  },
  {
   "cell_type": "markdown",
   "id": "8728dfb3",
   "metadata": {},
   "source": [
    "## RMSE calculation function"
   ]
  },
  {
   "cell_type": "code",
   "execution_count": 79,
   "id": "b9c35439",
   "metadata": {},
   "outputs": [],
   "source": [
    "def compute_rmse_validation(seed, val_proportion, test_proportion):\n",
    "\n",
    "    np.random.seed(seed)\n",
    "    \n",
    "    # Shuffle the indices of the filtered dataset (subset_df)\n",
    "    n = len(subset_df)\n",
    "    idx = np.arange(n)\n",
    "    np.random.shuffle(idx)\n",
    "    \n",
    "    # Shuffle the filtered dataset\n",
    "    subset_df_shuffled = subset_df.iloc[idx]\n",
    "    \n",
    "    # Determine number of values for the train, validation and test sets\n",
    "    n_val = int(val_proportion*n)\n",
    "    n_test = int(test_proportion*n)\n",
    "    n_train = n - (n_val+n_test)\n",
    "    \n",
    "    # Divide our filtered dataset into train, val and test datasets\n",
    "    train_dataset = subset_df_shuffled[:n_train]\n",
    "    val_dataset = subset_df_shuffled[n_train:n_train+n_val]\n",
    "    test_dataset = subset_df_shuffled[n_train+n_val:]\n",
    "\n",
    "    # Apply log transformation on target values for each dataset\n",
    "    train_dataset['median_house_value'] = np.log1p(train_dataset['median_house_value'])\n",
    "    val_dataset['median_house_value'] = np.log1p(val_dataset['median_house_value'])\n",
    "    test_dataset['median_house_value'] = np.log1p(test_dataset['median_house_value'])\n",
    "    \n",
    "    # Extract target variable as numpy array\n",
    "    y_train = train_dataset['median_house_value'].values\n",
    "    y_val = val_dataset['median_house_value'].values\n",
    "    y_test = test_dataset['median_house_value'].values\n",
    "    \n",
    "    # Remove the target column from our feature datasets\n",
    "    del train_dataset['median_house_value']\n",
    "    del val_dataset['median_house_value']\n",
    "    del test_dataset['median_house_value']\n",
    "    \n",
    "    # Fill missing values by 0\n",
    "    train_dataset_zero = train_dataset.fillna(0)\n",
    "    val_dataset_zero = val_dataset.fillna(0)\n",
    "    test_dataset_zero = test_dataset.fillna(0)\n",
    "    \n",
    "    # Prepare feature matrices\n",
    "    X_train_zero = train_dataset_zero.values\n",
    "    X_val_zero = val_dataset_zero.values\n",
    "    X_test_zero = test_dataset_zero.values\n",
    "    \n",
    "    # Train without regularization\n",
    "    w0_zero, w_zero = train_linear_regression(X_train_zero,y_train)\n",
    "    y_pred_val = w0_zero + X_val_zero.dot(w_zero)\n",
    "    rmse_val = rmse(y_val, y_pred_val)\n",
    "    \n",
    "    return rmse_val"
   ]
  },
  {
   "cell_type": "markdown",
   "id": "149194f8",
   "metadata": {},
   "source": [
    "## Results"
   ]
  },
  {
   "cell_type": "code",
   "execution_count": 82,
   "id": "f7a1bece",
   "metadata": {},
   "outputs": [
    {
     "name": "stderr",
     "output_type": "stream",
     "text": [
      "C:\\Users\\Melanie\\AppData\\Local\\Temp\\ipykernel_21944\\3066624569.py:24: SettingWithCopyWarning: \n",
      "A value is trying to be set on a copy of a slice from a DataFrame.\n",
      "Try using .loc[row_indexer,col_indexer] = value instead\n",
      "\n",
      "See the caveats in the documentation: https://pandas.pydata.org/pandas-docs/stable/user_guide/indexing.html#returning-a-view-versus-a-copy\n",
      "  train_dataset['median_house_value'] = np.log1p(train_dataset['median_house_value'])\n",
      "C:\\Users\\Melanie\\AppData\\Local\\Temp\\ipykernel_21944\\3066624569.py:25: SettingWithCopyWarning: \n",
      "A value is trying to be set on a copy of a slice from a DataFrame.\n",
      "Try using .loc[row_indexer,col_indexer] = value instead\n",
      "\n",
      "See the caveats in the documentation: https://pandas.pydata.org/pandas-docs/stable/user_guide/indexing.html#returning-a-view-versus-a-copy\n",
      "  val_dataset['median_house_value'] = np.log1p(val_dataset['median_house_value'])\n",
      "C:\\Users\\Melanie\\AppData\\Local\\Temp\\ipykernel_21944\\3066624569.py:26: SettingWithCopyWarning: \n",
      "A value is trying to be set on a copy of a slice from a DataFrame.\n",
      "Try using .loc[row_indexer,col_indexer] = value instead\n",
      "\n",
      "See the caveats in the documentation: https://pandas.pydata.org/pandas-docs/stable/user_guide/indexing.html#returning-a-view-versus-a-copy\n",
      "  test_dataset['median_house_value'] = np.log1p(test_dataset['median_house_value'])\n"
     ]
    }
   ],
   "source": [
    "# Setup seed_list values and seed_results that will contain validation dataset RMSE\n",
    "seed_list = [0, 1, 2, 3, 4, 5, 6, 7, 8, 9]\n",
    "seed_results = []\n",
    "\n",
    "# Loop over each seed values\n",
    "for seed in seed_list:\n",
    "    rmse_seed = compute_rmse_validation(seed,0.2,0.2)\n",
    "    seed_results.append(rmse_seed)"
   ]
  },
  {
   "cell_type": "code",
   "execution_count": 84,
   "id": "59b9b4d5",
   "metadata": {},
   "outputs": [
    {
     "data": {
      "text/plain": [
       "[0.33773871601241534,\n",
       " 0.33779993536620034,\n",
       " 0.33842870067702435,\n",
       " 0.3320049468307805,\n",
       " 0.3394451862556948,\n",
       " 0.34338197052658526,\n",
       " 0.3385330211770785,\n",
       " 0.3468747697304975,\n",
       " 0.35127368659561153,\n",
       " 0.334155826651761]"
      ]
     },
     "execution_count": 84,
     "metadata": {},
     "output_type": "execute_result"
    }
   ],
   "source": [
    "# See the RMSE scores obtained with the different seeds on validation dataset, without regularization\n",
    "seed_results"
   ]
  },
  {
   "cell_type": "code",
   "execution_count": 86,
   "id": "4292d5d3",
   "metadata": {},
   "outputs": [
    {
     "data": {
      "text/plain": [
       "0.005465718180550711"
      ]
     },
     "execution_count": 86,
     "metadata": {},
     "output_type": "execute_result"
    }
   ],
   "source": [
    "# Calculate the standard deviation of these RMSE scores\n",
    "np.std(seed_results)"
   ]
  },
  {
   "cell_type": "markdown",
   "id": "773f335b",
   "metadata": {},
   "source": [
    "The standard deviation of the different RMSE scores is equal to 0.005, which is low: we can concluded that our model is stable."
   ]
  },
  {
   "cell_type": "markdown",
   "id": "eba26291",
   "metadata": {},
   "source": [
    "# Question 6"
   ]
  },
  {
   "cell_type": "markdown",
   "id": "34d02fbd",
   "metadata": {},
   "source": [
    "- Split the dataset like previously, use seed 9.\n",
    "- Combine train and validation datasets.\n",
    "- Fill the missing values with 0 and train a model with r=0.001.\n",
    "- What's the RMSE on the test dataset?"
   ]
  },
  {
   "cell_type": "code",
   "execution_count": 87,
   "id": "0e8cab94",
   "metadata": {},
   "outputs": [],
   "source": [
    "# Use seed 9\n",
    "np.random.seed(9)"
   ]
  },
  {
   "cell_type": "code",
   "execution_count": 106,
   "id": "ca1c59ec",
   "metadata": {},
   "outputs": [],
   "source": [
    "# Split the datasets:\n",
    "\n",
    "# Shuffle the indices of the filtered dataset (subset_df)\n",
    "n = len(subset_df)\n",
    "idx = np.arange(n)\n",
    "np.random.shuffle(idx)\n",
    "\n",
    "# Shuffle the filtered dataset\n",
    "subset_df_shuffled = subset_df.iloc[idx]\n",
    "\n",
    "# Determine number of values for the train, validation and test sets\n",
    "n_val = int(0.2*n)\n",
    "n_test = int(0.2*n)\n",
    "n_train = n - (n_val+n_test)\n",
    "\n",
    "# Divide our filtered dataset into train, val and test datasets\n",
    "train_dataset = subset_df_shuffled[:n_train]\n",
    "val_dataset = subset_df_shuffled[n_train:n_train+n_val]\n",
    "test_dataset = subset_df_shuffled[n_train+n_val:]\n",
    "\n",
    "# Fill missing values by 0\n",
    "train_dataset = train_dataset.fillna(0)\n",
    "val_dataset = val_dataset.fillna(0)\n",
    "test_dataset = test_dataset.fillna(0)\n",
    "\n",
    "# Apply log transformation on target values for each dataset\n",
    "train_dataset['median_house_value'] = np.log1p(train_dataset['median_house_value'])\n",
    "val_dataset['median_house_value'] = np.log1p(val_dataset['median_house_value'])\n",
    "test_dataset['median_house_value'] = np.log1p(test_dataset['median_house_value'])\n",
    "\n",
    "# Extract target variable as numpy array\n",
    "y_train = train_dataset['median_house_value'].values\n",
    "y_val = val_dataset['median_house_value'].values\n",
    "y_test = test_dataset['median_house_value'].values\n",
    "\n",
    "# Remove the target column from our feature datasets\n",
    "del train_dataset['median_house_value']\n",
    "del val_dataset['median_house_value']\n",
    "del test_dataset['median_house_value']\n"
   ]
  },
  {
   "cell_type": "code",
   "execution_count": 107,
   "id": "9e832c6a",
   "metadata": {},
   "outputs": [],
   "source": [
    "# Combine train and validation datasets\n",
    "train_dataset_full = pd.concat([train_dataset, val_dataset])\n",
    "train_dataset_full = train_dataset_full.reset_index(drop=True)\n",
    "\n",
    "y_train_full = np.concatenate([y_train,y_val])"
   ]
  },
  {
   "cell_type": "code",
   "execution_count": 108,
   "id": "e7b06a64",
   "metadata": {},
   "outputs": [
    {
     "data": {
      "text/plain": [
       "(12550, 8)"
      ]
     },
     "execution_count": 108,
     "metadata": {},
     "output_type": "execute_result"
    }
   ],
   "source": [
    "train_dataset_full.shape"
   ]
  },
  {
   "cell_type": "code",
   "execution_count": 109,
   "id": "51e21931",
   "metadata": {},
   "outputs": [
    {
     "data": {
      "text/plain": [
       "12550"
      ]
     },
     "execution_count": 109,
     "metadata": {},
     "output_type": "execute_result"
    }
   ],
   "source": [
    "len(y_train_full)"
   ]
  },
  {
   "cell_type": "code",
   "execution_count": 110,
   "id": "3aa93d99",
   "metadata": {},
   "outputs": [],
   "source": [
    "# Prepare features matrices\n",
    "X_train_full = train_dataset_full.values\n",
    "X_test = test_dataset.values"
   ]
  },
  {
   "cell_type": "code",
   "execution_count": 111,
   "id": "048fbb74",
   "metadata": {},
   "outputs": [],
   "source": [
    "# Train with regularization (r=0.001)\n",
    "w0_zero, w_zero = train_linear_regression_reg(X_train_full,y_train_full,0.001)\n",
    "y_pred_test = w0_zero + X_test.dot(w_zero)\n",
    "rmse_test = rmse(y_test, y_pred_test)"
   ]
  },
  {
   "cell_type": "code",
   "execution_count": 112,
   "id": "724a380f",
   "metadata": {},
   "outputs": [
    {
     "data": {
      "text/plain": [
       "0.33190125847340035"
      ]
     },
     "execution_count": 112,
     "metadata": {},
     "output_type": "execute_result"
    }
   ],
   "source": [
    "rmse_test"
   ]
  },
  {
   "cell_type": "markdown",
   "id": "0bc078c4",
   "metadata": {},
   "source": [
    "We obtain a RMSE equal to 0.33 on the test set, with a trained model with a regularization equal to 0.001."
   ]
  },
  {
   "cell_type": "code",
   "execution_count": null,
   "id": "454c1b23",
   "metadata": {},
   "outputs": [],
   "source": []
  }
 ],
 "metadata": {
  "kernelspec": {
   "display_name": "Python 3 (ipykernel)",
   "language": "python",
   "name": "python3"
  },
  "language_info": {
   "codemirror_mode": {
    "name": "ipython",
    "version": 3
   },
   "file_extension": ".py",
   "mimetype": "text/x-python",
   "name": "python",
   "nbconvert_exporter": "python",
   "pygments_lexer": "ipython3",
   "version": "3.11.4"
  }
 },
 "nbformat": 4,
 "nbformat_minor": 5
}
